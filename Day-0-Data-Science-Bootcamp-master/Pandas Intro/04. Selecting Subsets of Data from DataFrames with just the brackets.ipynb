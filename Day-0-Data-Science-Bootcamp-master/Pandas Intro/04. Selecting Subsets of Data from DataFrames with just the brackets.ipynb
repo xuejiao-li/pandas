{
 "cells": [
  {
   "cell_type": "markdown",
   "metadata": {},
   "source": [
    "# 4. Selecting Subsets of Data from DataFrames with just the brackets\n",
    "\n",
    "### Objectives\n",
    "\n",
    "+ Read in a dataset with `read_csv` and set the index with the `index_col` parameter\n",
    "+ Know the three indexers `[ ]`, `.loc`, and `.iloc` are used to select subsets of data\n",
    "+ The primary purpose of *just the brackets* is to select columns of a DataFrame\n",
    "\n",
    "### Prepare for this lesson by...\n",
    "\n",
    "+ Read [Indexing and Selecting](http://pandas.pydata.org/pandas-docs/stable/indexing.html) - **up to but not including Selection By Callable**"
   ]
  },
  {
   "cell_type": "markdown",
   "metadata": {},
   "source": [
    "# Selecting Subsets of Data\n",
    "One of the most common tasks during a data analysis is to select subsets of the dataset. In Pandas, this means selecting particular rows and/or columns from our DataFrame (or Series).\n",
    "\n",
    "## Examples of Selections of Subsets of Data\n",
    "The following will show images of different types of subset selection that are possible. We will first highlight the values we want and then show the corresponding DataFrame after the completed selection.\n",
    "\n",
    "### Selection of columns\n",
    "\n",
    "![][2]\n",
    "\n",
    "Resulting DataFrame:\n",
    "\n",
    "![][3]\n",
    "\n",
    "### Selection of rows\n",
    "\n",
    "![][4]\n",
    "\n",
    "Resulting DataFrame:\n",
    "\n",
    "![][5]\n",
    "\n",
    "### Selection of rows and columns\n",
    "\n",
    "![][6]\n",
    "\n",
    "Resulting DataFrame:\n",
    "\n",
    "![][7]\n",
    "\n",
    "[1]: images/sample_df.png\n",
    "[2]: images/just_cols.png\n",
    "[3]: images/just_cols2.png\n",
    "[4]: images/just_rows.png\n",
    "[5]: images/just_rows2.png\n",
    "[6]: images/rows_cols.png\n",
    "[7]: images/rows_cols2.png"
   ]
  },
  {
   "cell_type": "markdown",
   "metadata": {},
   "source": [
    "# Pandas dual references: by label and by integer location\n",
    "As previously mentioned, the index of each DataFrame provides a label to reference each individual row. Similarly the columns provide a label to reference each column.\n",
    "\n",
    "But, what hasn't been mentioned, is that each row and column may be referenced by an integer as well. I call this **integer location**. The integer location begins at 0 and ends at n-1 for each row and column. Take a look above at our sample DataFrame one more time.\n",
    "\n",
    "The rows with labels **`Aaron`** and **`Dean`** can also be referenced by their respective integer locations 2 and 4. Similarly, the columns **`color`**, **`age`**, and **`height`** can be referenced by their integer locations 1, 3, and 4.\n",
    "\n",
    "The documentation refers to integer location as **position**. I don't particularly like this terminology as it's not as explicit as integer location. The key term here is INTEGER.\n",
    "\n",
    "# What's the difference between indexing and selecting subsets of data?\n",
    "The documentation uses the term **indexing** frequently. This term is essentially just a one-word phrase to say **subset selection**. I prefer the term subset selection as, again, it is more descriptive of what is actually happening. Indexing is also the term used in the official Python documentation (for selecting subsets of lists or strings for example).\n",
    "\n",
    "# The three indexers `[ ]`, `.loc`, `.iloc`\n",
    "Pandas provides three **indexers** to select subsets of data. An indexer is a term for one of  `[ ]`, `.loc`, or `.iloc` and what makes the subset selection.\n",
    "\n",
    "We will go in-depth on how to make selections with each of these indexers. Each indexer has different rules for how it works. All our selections will look similar to the following, except they will have something placed within the brackets.\n",
    "\n",
    "```\n",
    ">>> df[]\n",
    ">>> df.loc[]\n",
    ">>> df.iloc[]\n",
    "```\n",
    "### Terminology\n",
    "When the brackets are placed directly after the DataFrame, the term **just the brackets** will be used to differentiate from the brackets after **`.loc`** and **`.iloc`**."
   ]
  },
  {
   "cell_type": "markdown",
   "metadata": {},
   "source": [
    "# Begin with *just the brackets*\n",
    "As we saw in the last notebook, just the brackets are used to select a single column as a Series. We place the column name inside the brackets to return the Series."
   ]
  },
  {
   "cell_type": "code",
   "execution_count": null,
   "metadata": {},
   "outputs": [],
   "source": [
    "import pandas as pd\n",
    "df = pd.read_csv('../data/sample_data.csv')"
   ]
  },
  {
   "cell_type": "code",
   "execution_count": null,
   "metadata": {},
   "outputs": [],
   "source": [
    "df['color']"
   ]
  },
  {
   "cell_type": "markdown",
   "metadata": {},
   "source": [
    "## Select Multiple Columns with a List\n",
    "You can select multiple columns by placing them in a list inside of just the brackets. Notice that a DataFrame and NOT a Series is returned:"
   ]
  },
  {
   "cell_type": "code",
   "execution_count": null,
   "metadata": {},
   "outputs": [],
   "source": [
    "df[['color', 'age', 'score']]"
   ]
  },
  {
   "cell_type": "markdown",
   "metadata": {},
   "source": [
    "### You must use an inner set of brackets\n",
    "You might be tempted to do the following which will NOT work. You must pass the columns names as a **list** - remember that a list is defined by a set of brackets."
   ]
  },
  {
   "cell_type": "code",
   "execution_count": null,
   "metadata": {},
   "outputs": [],
   "source": [
    "# NO! An exception is raised\n",
    "\n",
    "df['color', 'age', 'score']"
   ]
  },
  {
   "cell_type": "markdown",
   "metadata": {},
   "source": [
    "# Use two lines of code to select multiple columns\n",
    "To help ease the process of making subset selection, I recommend using intermediate variables. In this instance, we can assign the columns we would like to select to a list and then pass this list to the brackets."
   ]
  },
  {
   "cell_type": "code",
   "execution_count": null,
   "metadata": {},
   "outputs": [],
   "source": [
    "cols = ['color', 'age', 'score']\n",
    "df[cols]"
   ]
  },
  {
   "cell_type": "markdown",
   "metadata": {},
   "source": [
    "### Column order does not matter\n",
    "You can create new DataFrames in any column order you wish - it need not match the original column order"
   ]
  },
  {
   "cell_type": "code",
   "execution_count": null,
   "metadata": {},
   "outputs": [],
   "source": [
    "cols = ['height', 'age']\n",
    "df[cols]"
   ]
  },
  {
   "cell_type": "markdown",
   "metadata": {},
   "source": [
    "# The Default index\n",
    "When we first read in our DataFrame, we specified the first column from the CSV file to be our index. If you don't specify an index, then Pandas will create one for you as the integers from 0 to n-1.\n",
    "\n",
    "Let's read in the movie dataset without setting an index."
   ]
  },
  {
   "cell_type": "code",
   "execution_count": null,
   "metadata": {},
   "outputs": [],
   "source": [
    "movie = pd.read_csv('../data/movie.csv')\n",
    "movie.head()"
   ]
  },
  {
   "cell_type": "markdown",
   "metadata": {},
   "source": [
    "### Notice the integers in the index\n",
    "These integers are the default index labels for each of the rows. Let's examine the underlying index object."
   ]
  },
  {
   "cell_type": "code",
   "execution_count": null,
   "metadata": {},
   "outputs": [],
   "source": [
    "movie.index"
   ]
  },
  {
   "cell_type": "code",
   "execution_count": null,
   "metadata": {},
   "outputs": [],
   "source": [
    "type(movie.index)"
   ]
  },
  {
   "cell_type": "markdown",
   "metadata": {},
   "source": [
    "### A RangeIndex\n",
    "Pandas has many different types of index objects. A **`RangeIndex`** is similar to pure Python **`range`** object. The integers are not actually stored in memory and only accessed when requested."
   ]
  },
  {
   "cell_type": "markdown",
   "metadata": {},
   "source": [
    "# Setting a Meaningful Index\n",
    "The **`RangeIndex`** does not provide us with much meaning as a labels for the rows. \n",
    "\n",
    "### Setting an index with `read_csv`\n",
    "At the top of the notebook, we set our index to be the first column with the **`read_csv`** function by setting the **`index_col`** parameter equal to 0. You can use either integers or the column name to set the index like this.\n",
    "\n",
    "### Re-read movie dataset with movie title as index\n",
    "There's a column in the movie dataset named **`title`**. Let's re-read in the data with it as the index.\n",
    "\n",
    "Notice that now the titles of each movie serve as the label for each row. Also notice that the word **title** appears directly above the index. This is a bit confusing - **title** is NOT a column name, but rather the **name of the index**."
   ]
  },
  {
   "cell_type": "code",
   "execution_count": null,
   "metadata": {},
   "outputs": [],
   "source": [
    "movie = pd.read_csv('../data/movie.csv', index_col='title')\n",
    "movie.head()"
   ]
  },
  {
   "cell_type": "markdown",
   "metadata": {},
   "source": [
    "#### Extract new index and its type\n",
    "We now have a 'plain' **`Index`** object."
   ]
  },
  {
   "cell_type": "code",
   "execution_count": null,
   "metadata": {},
   "outputs": [],
   "source": [
    "movie.index"
   ]
  },
  {
   "cell_type": "code",
   "execution_count": null,
   "metadata": {},
   "outputs": [],
   "source": [
    "type(movie.index)"
   ]
  },
  {
   "cell_type": "markdown",
   "metadata": {},
   "source": [
    "### Choosing a good index\n",
    "First, its not necessary to choose an index for your DataFrames. You can do all your analysis with just the default **`RangeIndex`**. Setting a column to be an index can help you identify the rows such as we did with the movie titles above.\n",
    "\n",
    "I suggest choosing columns that are both **unique** and **descriptive**. Although uniqueness is not enforced, it helps to identify one particular row."
   ]
  },
  {
   "cell_type": "markdown",
   "metadata": {},
   "source": [
    "## Setting the index after read\n",
    "It is possible to set the index after reading the data with the **`set_index`** method. Simply pass it the name of the column you would like to use as the index. Make sure to re-assign the DataFrame after calling the method."
   ]
  },
  {
   "cell_type": "code",
   "execution_count": null,
   "metadata": {},
   "outputs": [],
   "source": [
    "movie = pd.read_csv('../data/movie.csv')  # read in data without setting index\n",
    "movie = movie.set_index('title')\n",
    "movie.head()"
   ]
  },
  {
   "cell_type": "markdown",
   "metadata": {},
   "source": [
    "# Changing Display Options\n",
    "Pandas gives you the ability to change how the output on your screen is displayed. For instance, the default number of columns displayed for a DataFrame is 20 (and 60 for rows), meaning that if your DataFrame has more than 20 rows then only the first and last 10 rows will be shown on the screen.\n",
    "\n",
    "The display options all come after `pd.options.display.<option_name>` where **`<option_name>`** is one of the following:"
   ]
  },
  {
   "cell_type": "code",
   "execution_count": null,
   "metadata": {},
   "outputs": [],
   "source": [
    "dir(pd.options.display)"
   ]
  },
  {
   "cell_type": "markdown",
   "metadata": {},
   "source": [
    "### Getting option values\n",
    "All of the above are attributes that hold a scalar value. Let's output some of the default option values:"
   ]
  },
  {
   "cell_type": "code",
   "execution_count": null,
   "metadata": {},
   "outputs": [],
   "source": [
    "pd.options.display.max_columns"
   ]
  },
  {
   "cell_type": "code",
   "execution_count": null,
   "metadata": {},
   "outputs": [],
   "source": [
    "pd.options.display.max_rows"
   ]
  },
  {
   "cell_type": "code",
   "execution_count": null,
   "metadata": {},
   "outputs": [],
   "source": [
    "pd.options.display.max_colwidth"
   ]
  },
  {
   "cell_type": "markdown",
   "metadata": {},
   "source": [
    "### Setting a new option value\n",
    "To set a new option value, assign a number value to it like you do any other variable. Let's change the maximum number of columns to 40 so that we can see every column in the movie dataset."
   ]
  },
  {
   "cell_type": "code",
   "execution_count": null,
   "metadata": {},
   "outputs": [],
   "source": [
    "pd.options.display.max_columns = 40"
   ]
  },
  {
   "cell_type": "code",
   "execution_count": null,
   "metadata": {},
   "outputs": [],
   "source": [
    "movie.head()"
   ]
  },
  {
   "cell_type": "markdown",
   "metadata": {},
   "source": [
    "# Exercises\n",
    "For the following exercises, make sure to use the movie dataset with **`title`** set as the index. It's good practice to shorten your output with the **`head`** method."
   ]
  },
  {
   "cell_type": "markdown",
   "metadata": {},
   "source": [
    "### Problem 1\n",
    "<span  style=\"color:green; font-size:16px\">Select the column with the director's name as a Series</span>"
   ]
  },
  {
   "cell_type": "code",
   "execution_count": null,
   "metadata": {},
   "outputs": [],
   "source": [
    "# your code here"
   ]
  },
  {
   "cell_type": "markdown",
   "metadata": {},
   "source": [
    "### Problem 2\n",
    "<span  style=\"color:green; font-size:16px\">Select the column with the director's name and number of Facebook likes.</span>"
   ]
  },
  {
   "cell_type": "code",
   "execution_count": null,
   "metadata": {},
   "outputs": [],
   "source": [
    "# your code here"
   ]
  },
  {
   "cell_type": "markdown",
   "metadata": {},
   "source": [
    "# More questions\n",
    "* Select a single column as a DataFrame and not a Series\n",
    "* Look in the data folder and read in some of the other dataset. Select some columns from them."
   ]
  }
 ],
 "metadata": {
  "kernelspec": {
   "display_name": "Python 3",
   "language": "python",
   "name": "python3"
  },
  "language_info": {
   "codemirror_mode": {
    "name": "ipython",
    "version": 3
   },
   "file_extension": ".py",
   "mimetype": "text/x-python",
   "name": "python",
   "nbconvert_exporter": "python",
   "pygments_lexer": "ipython3",
   "version": "3.6.4"
  },
  "varInspector": {
   "cols": {
    "lenName": 16,
    "lenType": 16,
    "lenVar": 40
   },
   "kernels_config": {
    "python": {
     "delete_cmd_postfix": "",
     "delete_cmd_prefix": "del ",
     "library": "var_list.py",
     "varRefreshCmd": "print(var_dic_list())"
    },
    "r": {
     "delete_cmd_postfix": ") ",
     "delete_cmd_prefix": "rm(",
     "library": "var_list.r",
     "varRefreshCmd": "cat(var_dic_list()) "
    }
   },
   "types_to_exclude": [
    "module",
    "function",
    "builtin_function_or_method",
    "instance",
    "_Feature"
   ],
   "window_display": false
  }
 },
 "nbformat": 4,
 "nbformat_minor": 2
}
