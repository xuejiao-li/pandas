{
 "cells": [
  {
   "cell_type": "markdown",
   "metadata": {},
   "source": [
    "# 3. Practicing Scikit-Learn Syntax\n",
    "Let's get good with Scikit-learn during this notebook."
   ]
  },
  {
   "cell_type": "code",
   "execution_count": 8,
   "metadata": {},
   "outputs": [
    {
     "data": {
      "text/html": [
       "<div>\n",
       "<style scoped>\n",
       "    .dataframe tbody tr th:only-of-type {\n",
       "        vertical-align: middle;\n",
       "    }\n",
       "\n",
       "    .dataframe tbody tr th {\n",
       "        vertical-align: top;\n",
       "    }\n",
       "\n",
       "    .dataframe thead th {\n",
       "        text-align: right;\n",
       "    }\n",
       "</style>\n",
       "<table border=\"1\" class=\"dataframe\">\n",
       "  <thead>\n",
       "    <tr style=\"text-align: right;\">\n",
       "      <th></th>\n",
       "      <th>age</th>\n",
       "      <th>sex</th>\n",
       "      <th>chest_pain</th>\n",
       "      <th>rest_bp</th>\n",
       "      <th>chol</th>\n",
       "      <th>fbs</th>\n",
       "      <th>rest_ecg</th>\n",
       "      <th>max_hr</th>\n",
       "      <th>exang</th>\n",
       "      <th>old_peak</th>\n",
       "      <th>slope</th>\n",
       "      <th>ca</th>\n",
       "      <th>thal</th>\n",
       "      <th>disease</th>\n",
       "    </tr>\n",
       "  </thead>\n",
       "  <tbody>\n",
       "    <tr>\n",
       "      <th>0</th>\n",
       "      <td>63</td>\n",
       "      <td>Male</td>\n",
       "      <td>typical</td>\n",
       "      <td>145</td>\n",
       "      <td>233</td>\n",
       "      <td>1</td>\n",
       "      <td>left ventricular hypertrophy</td>\n",
       "      <td>150</td>\n",
       "      <td>0</td>\n",
       "      <td>2.3</td>\n",
       "      <td>3</td>\n",
       "      <td>0.0</td>\n",
       "      <td>fixed</td>\n",
       "      <td>0</td>\n",
       "    </tr>\n",
       "    <tr>\n",
       "      <th>1</th>\n",
       "      <td>67</td>\n",
       "      <td>Male</td>\n",
       "      <td>asymptomatic</td>\n",
       "      <td>160</td>\n",
       "      <td>286</td>\n",
       "      <td>0</td>\n",
       "      <td>left ventricular hypertrophy</td>\n",
       "      <td>108</td>\n",
       "      <td>1</td>\n",
       "      <td>1.5</td>\n",
       "      <td>2</td>\n",
       "      <td>3.0</td>\n",
       "      <td>normal</td>\n",
       "      <td>1</td>\n",
       "    </tr>\n",
       "    <tr>\n",
       "      <th>2</th>\n",
       "      <td>67</td>\n",
       "      <td>Male</td>\n",
       "      <td>asymptomatic</td>\n",
       "      <td>120</td>\n",
       "      <td>229</td>\n",
       "      <td>0</td>\n",
       "      <td>left ventricular hypertrophy</td>\n",
       "      <td>129</td>\n",
       "      <td>1</td>\n",
       "      <td>2.6</td>\n",
       "      <td>2</td>\n",
       "      <td>2.0</td>\n",
       "      <td>reversable</td>\n",
       "      <td>1</td>\n",
       "    </tr>\n",
       "    <tr>\n",
       "      <th>3</th>\n",
       "      <td>37</td>\n",
       "      <td>Male</td>\n",
       "      <td>nonanginal</td>\n",
       "      <td>130</td>\n",
       "      <td>250</td>\n",
       "      <td>0</td>\n",
       "      <td>normal</td>\n",
       "      <td>187</td>\n",
       "      <td>0</td>\n",
       "      <td>3.5</td>\n",
       "      <td>3</td>\n",
       "      <td>0.0</td>\n",
       "      <td>normal</td>\n",
       "      <td>0</td>\n",
       "    </tr>\n",
       "    <tr>\n",
       "      <th>4</th>\n",
       "      <td>41</td>\n",
       "      <td>Female</td>\n",
       "      <td>nontypical</td>\n",
       "      <td>130</td>\n",
       "      <td>204</td>\n",
       "      <td>0</td>\n",
       "      <td>left ventricular hypertrophy</td>\n",
       "      <td>172</td>\n",
       "      <td>0</td>\n",
       "      <td>1.4</td>\n",
       "      <td>1</td>\n",
       "      <td>0.0</td>\n",
       "      <td>normal</td>\n",
       "      <td>0</td>\n",
       "    </tr>\n",
       "  </tbody>\n",
       "</table>\n",
       "</div>"
      ],
      "text/plain": [
       "   age     sex    chest_pain  rest_bp  chol  fbs  \\\n",
       "0   63    Male       typical      145   233    1   \n",
       "1   67    Male  asymptomatic      160   286    0   \n",
       "2   67    Male  asymptomatic      120   229    0   \n",
       "3   37    Male    nonanginal      130   250    0   \n",
       "4   41  Female    nontypical      130   204    0   \n",
       "\n",
       "                        rest_ecg  max_hr  exang  old_peak  slope   ca  \\\n",
       "0  left ventricular hypertrophy      150      0       2.3      3  0.0   \n",
       "1  left ventricular hypertrophy      108      1       1.5      2  3.0   \n",
       "2  left ventricular hypertrophy      129      1       2.6      2  2.0   \n",
       "3                         normal     187      0       3.5      3  0.0   \n",
       "4  left ventricular hypertrophy      172      0       1.4      1  0.0   \n",
       "\n",
       "         thal  disease  \n",
       "0       fixed        0  \n",
       "1      normal        1  \n",
       "2  reversable        1  \n",
       "3      normal        0  \n",
       "4      normal        0  "
      ]
     },
     "execution_count": 8,
     "metadata": {},
     "output_type": "execute_result"
    }
   ],
   "source": [
    "import pandas as pd\n",
    "import numpy as np\n",
    "import matplotlib.pyplot as plt\n",
    "pd.options.display.max_columns = 100\n",
    "%matplotlib inline\n",
    "import warnings\n",
    "warnings.filterwarnings('ignore')\n",
    "\n",
    "\n",
    "\n",
    "\n",
    "heart = pd.read_csv('../data/heart.csv')\n",
    "heart.head()"
   ]
  },
  {
   "cell_type": "markdown",
   "metadata": {},
   "source": [
    "# Let's build many different models from different parts of the library slowly adding more features\n",
    "* Let's build decision trees, random forests, K-Nearest Neighbors and Support vector machines:\n",
    "* Predict, then Score, and write down your scores"
   ]
  },
  {
   "cell_type": "code",
   "execution_count": 3,
   "metadata": {},
   "outputs": [],
   "source": [
    "X = heart['rest_bp'].values\n",
    "X = X.reshape(-1, 1)\n",
    "y = heart['disease'].values"
   ]
  },
  {
   "cell_type": "code",
   "execution_count": 4,
   "metadata": {},
   "outputs": [],
   "source": [
    "from sklearn.linear_model import LogisticRegression"
   ]
  },
  {
   "cell_type": "code",
   "execution_count": 5,
   "metadata": {},
   "outputs": [],
   "source": [
    "#step2 - instantiatin with default \n",
    "logr = LogisticRegression()"
   ]
  },
  {
   "cell_type": "code",
   "execution_count": 9,
   "metadata": {},
   "outputs": [
    {
     "data": {
      "text/plain": [
       "LogisticRegression(C=1.0, class_weight=None, dual=False, fit_intercept=True,\n",
       "          intercept_scaling=1, max_iter=100, multi_class='warn',\n",
       "          n_jobs=None, penalty='l2', random_state=None, solver='warn',\n",
       "          tol=0.0001, verbose=0, warm_start=False)"
      ]
     },
     "execution_count": 9,
     "metadata": {},
     "output_type": "execute_result"
    }
   ],
   "source": [
    "#step3 - train with fit method \n",
    "logr.fit(X, y)"
   ]
  },
  {
   "cell_type": "code",
   "execution_count": 7,
   "metadata": {},
   "outputs": [
    {
     "data": {
      "text/plain": [
       "0.5676567656765676"
      ]
     },
     "execution_count": 7,
     "metadata": {},
     "output_type": "execute_result"
    }
   ],
   "source": [
    "logr.score(X, y)"
   ]
  },
  {
   "cell_type": "code",
   "execution_count": null,
   "metadata": {},
   "outputs": [],
   "source": [
    "# Score with rest_bp with logistic regression was .57"
   ]
  },
  {
   "cell_type": "markdown",
   "metadata": {},
   "source": [
    "# Next machine learning model"
   ]
  },
  {
   "cell_type": "code",
   "execution_count": 17,
   "metadata": {},
   "outputs": [],
   "source": [
    "# step 0 - get numpy array values \n",
    "X = heart['chol'].values\n",
    "X = X.reshape(-1, 1)\n",
    "y = heart['disease'].values"
   ]
  },
  {
   "cell_type": "code",
   "execution_count": 18,
   "metadata": {},
   "outputs": [],
   "source": [
    "# step 1 - import \n",
    "from sklearn.tree import DecisionTreeClassifier"
   ]
  },
  {
   "cell_type": "code",
   "execution_count": 19,
   "metadata": {},
   "outputs": [],
   "source": [
    "dtc = DecisionTreeClassifier()"
   ]
  },
  {
   "cell_type": "code",
   "execution_count": 20,
   "metadata": {},
   "outputs": [
    {
     "data": {
      "text/plain": [
       "DecisionTreeClassifier(class_weight=None, criterion='gini', max_depth=None,\n",
       "            max_features=None, max_leaf_nodes=None,\n",
       "            min_impurity_decrease=0.0, min_impurity_split=None,\n",
       "            min_samples_leaf='deprecated', min_samples_split=2,\n",
       "            min_weight_fraction_leaf='deprecated', presort=False,\n",
       "            random_state=None, splitter='best')"
      ]
     },
     "execution_count": 20,
     "metadata": {},
     "output_type": "execute_result"
    }
   ],
   "source": [
    "# train with fit method \n",
    "dtc.fit(X, y)"
   ]
  },
  {
   "cell_type": "code",
   "execution_count": 21,
   "metadata": {},
   "outputs": [
    {
     "data": {
      "text/plain": [
       "0.8151815181518152"
      ]
     },
     "execution_count": 21,
     "metadata": {},
     "output_type": "execute_result"
    }
   ],
   "source": [
    "dtc.score(X, y)"
   ]
  },
  {
   "cell_type": "code",
   "execution_count": 22,
   "metadata": {},
   "outputs": [],
   "source": [
    "# score is .81"
   ]
  },
  {
   "cell_type": "markdown",
   "metadata": {},
   "source": [
    "# Random Forest "
   ]
  },
  {
   "cell_type": "code",
   "execution_count": 23,
   "metadata": {},
   "outputs": [],
   "source": [
    "X = heart['chol'].values\n",
    "X = X.reshape(-1, 1)\n",
    "y = heart['disease']\n"
   ]
  },
  {
   "cell_type": "code",
   "execution_count": 24,
   "metadata": {},
   "outputs": [],
   "source": [
    "from sklearn.ensemble import RandomForestClassifier"
   ]
  },
  {
   "cell_type": "code",
   "execution_count": 25,
   "metadata": {},
   "outputs": [],
   "source": [
    "rfc = RandomForestClassifier()"
   ]
  },
  {
   "cell_type": "code",
   "execution_count": 26,
   "metadata": {},
   "outputs": [
    {
     "data": {
      "text/plain": [
       "RandomForestClassifier(bootstrap=True, class_weight=None, criterion='gini',\n",
       "            max_depth=None, max_features='auto', max_leaf_nodes=None,\n",
       "            min_impurity_decrease=0.0, min_impurity_split=None,\n",
       "            min_samples_leaf='deprecated', min_samples_split=2,\n",
       "            min_weight_fraction_leaf='deprecated', n_estimators=10,\n",
       "            n_jobs=None, oob_score=False, random_state=None, verbose=0,\n",
       "            warm_start=False)"
      ]
     },
     "execution_count": 26,
     "metadata": {},
     "output_type": "execute_result"
    }
   ],
   "source": [
    "rfc.fit(X, y)"
   ]
  },
  {
   "cell_type": "code",
   "execution_count": 27,
   "metadata": {},
   "outputs": [
    {
     "data": {
      "text/plain": [
       "0.801980198019802"
      ]
     },
     "execution_count": 27,
     "metadata": {},
     "output_type": "execute_result"
    }
   ],
   "source": [
    "rfc.score(X, y)"
   ]
  },
  {
   "cell_type": "code",
   "execution_count": 31,
   "metadata": {},
   "outputs": [
    {
     "data": {
      "text/plain": [
       "array([0, 1])"
      ]
     },
     "execution_count": 31,
     "metadata": {},
     "output_type": "execute_result"
    }
   ],
   "source": [
    "rfc.classes_"
   ]
  },
  {
   "cell_type": "code",
   "execution_count": 32,
   "metadata": {},
   "outputs": [
    {
     "data": {
      "text/plain": [
       "array([[0.87642857, 0.12357143],\n",
       "       [0.        , 1.        ],\n",
       "       [0.075     , 0.925     ],\n",
       "       [0.9       , 0.1       ],\n",
       "       [0.53665584, 0.46334416],\n",
       "       [0.72666667, 0.27333333],\n",
       "       [0.41833333, 0.58166667],\n",
       "       [0.7       , 0.3       ],\n",
       "       [0.15064935, 0.84935065],\n",
       "       [0.365     , 0.635     ],\n",
       "       [1.        , 0.        ],\n",
       "       [0.26666667, 0.73333333],\n",
       "       [0.27261905, 0.72738095],\n",
       "       [0.67333333, 0.32666667],\n",
       "       [1.        , 0.        ],\n",
       "       [0.8       , 0.2       ],\n",
       "       [0.075     , 0.925     ],\n",
       "       [0.51166667, 0.48833333],\n",
       "       [0.48      , 0.52      ],\n",
       "       [0.53333333, 0.46666667],\n",
       "       [1.        , 0.        ],\n",
       "       [0.1875    , 0.8125    ],\n",
       "       [0.        , 1.        ],\n",
       "       [0.35833333, 0.64166667],\n",
       "       [0.1       , 0.9       ],\n",
       "       [0.71      , 0.29      ],\n",
       "       [0.6       , 0.4       ],\n",
       "       [1.        , 0.        ],\n",
       "       [0.52619048, 0.47380952],\n",
       "       [0.        , 1.        ],\n",
       "       [0.51166667, 0.48833333],\n",
       "       [0.        , 1.        ],\n",
       "       [0.        , 1.        ],\n",
       "       [0.695671  , 0.304329  ],\n",
       "       [0.87642857, 0.12357143],\n",
       "       [1.        , 0.        ],\n",
       "       [0.50166667, 0.49833333],\n",
       "       [0.23      , 0.77      ],\n",
       "       [0.1       , 0.9       ],\n",
       "       [0.46666667, 0.53333333],\n",
       "       [0.1       , 0.9       ],\n",
       "       [1.        , 0.        ],\n",
       "       [1.        , 0.        ],\n",
       "       [0.14857143, 0.85142857],\n",
       "       [0.        , 1.        ],\n",
       "       [0.        , 1.        ],\n",
       "       [0.9       , 0.1       ],\n",
       "       [0.46666667, 0.53333333],\n",
       "       [0.9       , 0.1       ],\n",
       "       [0.73083333, 0.26916667],\n",
       "       [0.60714286, 0.39285714],\n",
       "       [0.50166667, 0.49833333],\n",
       "       [0.025     , 0.975     ],\n",
       "       [0.71      , 0.29      ],\n",
       "       [0.61666667, 0.38333333],\n",
       "       [0.53333333, 0.46666667],\n",
       "       [0.87642857, 0.12357143],\n",
       "       [0.        , 1.        ],\n",
       "       [0.48333333, 0.51666667],\n",
       "       [0.9       , 0.1       ],\n",
       "       [0.        , 1.        ],\n",
       "       [0.50166667, 0.49833333],\n",
       "       [0.56666667, 0.43333333],\n",
       "       [0.43333333, 0.56666667],\n",
       "       [0.        , 1.        ],\n",
       "       [0.        , 1.        ],\n",
       "       [0.2       , 0.8       ],\n",
       "       [0.48619048, 0.51380952],\n",
       "       [0.3       , 0.7       ],\n",
       "       [0.37142857, 0.62857143],\n",
       "       [0.63      , 0.37      ],\n",
       "       [0.15064935, 0.84935065],\n",
       "       [0.70833333, 0.29166667],\n",
       "       [0.68      , 0.32      ],\n",
       "       [0.73083333, 0.26916667],\n",
       "       [0.9       , 0.1       ],\n",
       "       [0.24761905, 0.75238095],\n",
       "       [0.7       , 0.3       ],\n",
       "       [1.        , 0.        ],\n",
       "       [0.42333333, 0.57666667],\n",
       "       [0.95      , 0.05      ],\n",
       "       [0.725     , 0.275     ],\n",
       "       [0.6       , 0.4       ],\n",
       "       [0.        , 1.        ],\n",
       "       [0.8       , 0.2       ],\n",
       "       [0.95      , 0.05      ],\n",
       "       [0.37261905, 0.62738095],\n",
       "       [0.56666667, 0.43333333],\n",
       "       [0.695671  , 0.304329  ],\n",
       "       [0.27261905, 0.72738095],\n",
       "       [1.        , 0.        ],\n",
       "       [0.        , 1.        ],\n",
       "       [0.37142857, 0.62857143],\n",
       "       [0.91666667, 0.08333333],\n",
       "       [0.85      , 0.15      ],\n",
       "       [0.33333333, 0.66666667],\n",
       "       [0.51166667, 0.48833333],\n",
       "       [0.24761905, 0.75238095],\n",
       "       [1.        , 0.        ],\n",
       "       [1.        , 0.        ],\n",
       "       [0.43333333, 0.56666667],\n",
       "       [0.9       , 0.1       ],\n",
       "       [1.        , 0.        ],\n",
       "       [0.925     , 0.075     ],\n",
       "       [0.        , 1.        ],\n",
       "       [0.17333333, 0.82666667],\n",
       "       [0.50166667, 0.49833333],\n",
       "       [0.075     , 0.925     ],\n",
       "       [0.43333333, 0.56666667],\n",
       "       [0.71      , 0.29      ],\n",
       "       [0.1       , 0.9       ],\n",
       "       [0.        , 1.        ],\n",
       "       [0.5       , 0.5       ],\n",
       "       [0.1       , 0.9       ],\n",
       "       [0.67333333, 0.32666667],\n",
       "       [0.365     , 0.635     ],\n",
       "       [1.        , 0.        ],\n",
       "       [0.9       , 0.1       ],\n",
       "       [0.        , 1.        ],\n",
       "       [0.15064935, 0.84935065],\n",
       "       [0.27261905, 0.72738095],\n",
       "       [0.2       , 0.8       ],\n",
       "       [1.        , 0.        ],\n",
       "       [0.25833333, 0.74166667],\n",
       "       [0.        , 1.        ],\n",
       "       [0.695671  , 0.304329  ],\n",
       "       [0.39333333, 0.60666667],\n",
       "       [0.51166667, 0.48833333],\n",
       "       [1.        , 0.        ],\n",
       "       [1.        , 0.        ],\n",
       "       [0.24761905, 0.75238095],\n",
       "       [1.        , 0.        ],\n",
       "       [0.53665584, 0.46334416],\n",
       "       [0.38333333, 0.61666667],\n",
       "       [0.9       , 0.1       ],\n",
       "       [0.9       , 0.1       ],\n",
       "       [0.5       , 0.5       ],\n",
       "       [0.        , 1.        ],\n",
       "       [0.60714286, 0.39285714],\n",
       "       [1.        , 0.        ],\n",
       "       [1.        , 0.        ],\n",
       "       [0.39333333, 0.60666667],\n",
       "       [0.64444444, 0.35555556],\n",
       "       [0.17333333, 0.82666667],\n",
       "       [1.        , 0.        ],\n",
       "       [0.46666667, 0.53333333],\n",
       "       [0.165     , 0.835     ],\n",
       "       [0.9       , 0.1       ],\n",
       "       [0.7       , 0.3       ],\n",
       "       [0.45166667, 0.54833333],\n",
       "       [0.45      , 0.55      ],\n",
       "       [0.925     , 0.075     ],\n",
       "       [0.9       , 0.1       ],\n",
       "       [0.165     , 0.835     ],\n",
       "       [0.38119048, 0.61880952],\n",
       "       [0.3       , 0.7       ],\n",
       "       [0.        , 1.        ],\n",
       "       [0.        , 1.        ],\n",
       "       [0.1       , 0.9       ],\n",
       "       [0.8       , 0.2       ],\n",
       "       [0.73083333, 0.26916667],\n",
       "       [0.43333333, 0.56666667],\n",
       "       [1.        , 0.        ],\n",
       "       [0.68      , 0.32      ],\n",
       "       [0.33333333, 0.66666667],\n",
       "       [0.51666667, 0.48333333],\n",
       "       [0.6752381 , 0.3247619 ],\n",
       "       [0.39333333, 0.60666667],\n",
       "       [0.        , 1.        ],\n",
       "       [1.        , 0.        ],\n",
       "       [0.63      , 0.37      ],\n",
       "       [1.        , 0.        ],\n",
       "       [0.        , 1.        ],\n",
       "       [0.7       , 0.3       ],\n",
       "       [0.14857143, 0.85142857],\n",
       "       [0.        , 1.        ],\n",
       "       [0.87642857, 0.12357143],\n",
       "       [0.5       , 0.5       ],\n",
       "       [0.51666667, 0.48333333],\n",
       "       [0.38119048, 0.61880952],\n",
       "       [0.        , 1.        ],\n",
       "       [0.2       , 0.8       ],\n",
       "       [0.7       , 0.3       ],\n",
       "       [0.42333333, 0.57666667],\n",
       "       [0.        , 1.        ],\n",
       "       [1.        , 0.        ],\n",
       "       [1.        , 0.        ],\n",
       "       [0.38119048, 0.61880952],\n",
       "       [0.1875    , 0.8125    ],\n",
       "       [0.15064935, 0.84935065],\n",
       "       [1.        , 0.        ],\n",
       "       [0.45      , 0.55      ],\n",
       "       [0.52619048, 0.47380952],\n",
       "       [0.26666667, 0.73333333],\n",
       "       [1.        , 0.        ],\n",
       "       [0.        , 1.        ],\n",
       "       [0.695671  , 0.304329  ],\n",
       "       [0.72666667, 0.27333333],\n",
       "       [0.7       , 0.3       ],\n",
       "       [0.48333333, 0.51666667],\n",
       "       [0.15064935, 0.84935065],\n",
       "       [0.8       , 0.2       ],\n",
       "       [0.9       , 0.1       ],\n",
       "       [0.9       , 0.1       ],\n",
       "       [1.        , 0.        ],\n",
       "       [0.17333333, 0.82666667],\n",
       "       [0.16666667, 0.83333333],\n",
       "       [0.5       , 0.5       ],\n",
       "       [0.66666667, 0.33333333],\n",
       "       [0.7       , 0.3       ],\n",
       "       [1.        , 0.        ],\n",
       "       [0.37142857, 0.62857143],\n",
       "       [1.        , 0.        ],\n",
       "       [0.63333333, 0.36666667],\n",
       "       [0.        , 1.        ],\n",
       "       [0.53      , 0.47      ],\n",
       "       [0.53665584, 0.46334416],\n",
       "       [0.46666667, 0.53333333],\n",
       "       [1.        , 0.        ],\n",
       "       [0.86666667, 0.13333333],\n",
       "       [0.41833333, 0.58166667],\n",
       "       [0.70833333, 0.29166667],\n",
       "       [1.        , 0.        ],\n",
       "       [0.        , 1.        ],\n",
       "       [0.63      , 0.37      ],\n",
       "       [1.        , 0.        ],\n",
       "       [0.53665584, 0.46334416],\n",
       "       [0.8       , 0.2       ],\n",
       "       [0.1       , 0.9       ],\n",
       "       [0.14857143, 0.85142857],\n",
       "       [1.        , 0.        ],\n",
       "       [0.1       , 0.9       ],\n",
       "       [0.85      , 0.15      ],\n",
       "       [0.63      , 0.37      ],\n",
       "       [1.        , 0.        ],\n",
       "       [0.        , 1.        ],\n",
       "       [0.1875    , 0.8125    ],\n",
       "       [0.        , 1.        ],\n",
       "       [0.86666667, 0.13333333],\n",
       "       [1.        , 0.        ],\n",
       "       [0.95      , 0.05      ],\n",
       "       [0.5       , 0.5       ],\n",
       "       [0.63      , 0.37      ],\n",
       "       [0.695671  , 0.304329  ],\n",
       "       [0.875     , 0.125     ],\n",
       "       [0.36666667, 0.63333333],\n",
       "       [0.695671  , 0.304329  ],\n",
       "       [0.48      , 0.52      ],\n",
       "       [0.14857143, 0.85142857],\n",
       "       [0.95      , 0.05      ],\n",
       "       [1.        , 0.        ],\n",
       "       [0.        , 1.        ],\n",
       "       [0.67333333, 0.32666667],\n",
       "       [1.        , 0.        ],\n",
       "       [1.        , 0.        ],\n",
       "       [1.        , 0.        ],\n",
       "       [0.6752381 , 0.3247619 ],\n",
       "       [0.73083333, 0.26916667],\n",
       "       [1.        , 0.        ],\n",
       "       [0.38333333, 0.61666667],\n",
       "       [0.7       , 0.3       ],\n",
       "       [0.185     , 0.815     ],\n",
       "       [1.        , 0.        ],\n",
       "       [1.        , 0.        ],\n",
       "       [0.        , 1.        ],\n",
       "       [0.51666667, 0.48333333],\n",
       "       [0.53665584, 0.46334416],\n",
       "       [0.        , 1.        ],\n",
       "       [0.6752381 , 0.3247619 ],\n",
       "       [1.        , 0.        ],\n",
       "       [0.51666667, 0.48333333],\n",
       "       [0.63333333, 0.36666667],\n",
       "       [0.15333333, 0.84666667],\n",
       "       [0.85      , 0.15      ],\n",
       "       [0.53665584, 0.46334416],\n",
       "       [1.        , 0.        ],\n",
       "       [1.        , 0.        ],\n",
       "       [1.        , 0.        ],\n",
       "       [0.48619048, 0.51380952],\n",
       "       [0.73083333, 0.26916667],\n",
       "       [0.        , 1.        ],\n",
       "       [0.61666667, 0.38333333],\n",
       "       [0.64444444, 0.35555556],\n",
       "       [1.        , 0.        ],\n",
       "       [0.365     , 0.635     ],\n",
       "       [0.45166667, 0.54833333],\n",
       "       [0.1       , 0.9       ],\n",
       "       [1.        , 0.        ],\n",
       "       [1.        , 0.        ],\n",
       "       [1.        , 0.        ],\n",
       "       [0.14857143, 0.85142857],\n",
       "       [0.5       , 0.5       ],\n",
       "       [0.1       , 0.9       ],\n",
       "       [0.        , 1.        ],\n",
       "       [0.73083333, 0.26916667],\n",
       "       [1.        , 0.        ],\n",
       "       [0.4       , 0.6       ],\n",
       "       [0.3       , 0.7       ],\n",
       "       [0.725     , 0.275     ],\n",
       "       [0.53      , 0.47      ],\n",
       "       [0.3       , 0.7       ],\n",
       "       [0.72666667, 0.27333333],\n",
       "       [0.9       , 0.1       ]])"
      ]
     },
     "execution_count": 32,
     "metadata": {},
     "output_type": "execute_result"
    }
   ],
   "source": [
    "# the score is 0.8 \n",
    "rfc.predict_proba(X)"
   ]
  },
  {
   "cell_type": "markdown",
   "metadata": {},
   "source": [
    "# Classifier "
   ]
  },
  {
   "cell_type": "code",
   "execution_count": null,
   "metadata": {},
   "outputs": [],
   "source": []
  },
  {
   "cell_type": "code",
   "execution_count": null,
   "metadata": {},
   "outputs": [],
   "source": []
  },
  {
   "cell_type": "code",
   "execution_count": null,
   "metadata": {},
   "outputs": [],
   "source": []
  },
  {
   "cell_type": "code",
   "execution_count": 33,
   "metadata": {},
   "outputs": [
    {
     "data": {
      "text/html": [
       "<div>\n",
       "<style scoped>\n",
       "    .dataframe tbody tr th:only-of-type {\n",
       "        vertical-align: middle;\n",
       "    }\n",
       "\n",
       "    .dataframe tbody tr th {\n",
       "        vertical-align: top;\n",
       "    }\n",
       "\n",
       "    .dataframe thead th {\n",
       "        text-align: right;\n",
       "    }\n",
       "</style>\n",
       "<table border=\"1\" class=\"dataframe\">\n",
       "  <thead>\n",
       "    <tr style=\"text-align: right;\">\n",
       "      <th></th>\n",
       "      <th>age</th>\n",
       "      <th>sex</th>\n",
       "      <th>chest_pain</th>\n",
       "      <th>rest_bp</th>\n",
       "      <th>chol</th>\n",
       "      <th>fbs</th>\n",
       "      <th>rest_ecg</th>\n",
       "      <th>max_hr</th>\n",
       "      <th>exang</th>\n",
       "      <th>old_peak</th>\n",
       "      <th>slope</th>\n",
       "      <th>ca</th>\n",
       "      <th>thal</th>\n",
       "      <th>disease</th>\n",
       "    </tr>\n",
       "  </thead>\n",
       "  <tbody>\n",
       "    <tr>\n",
       "      <th>0</th>\n",
       "      <td>63</td>\n",
       "      <td>Male</td>\n",
       "      <td>typical</td>\n",
       "      <td>145</td>\n",
       "      <td>233</td>\n",
       "      <td>1</td>\n",
       "      <td>left ventricular hypertrophy</td>\n",
       "      <td>150</td>\n",
       "      <td>0</td>\n",
       "      <td>2.3</td>\n",
       "      <td>3</td>\n",
       "      <td>0.0</td>\n",
       "      <td>fixed</td>\n",
       "      <td>0</td>\n",
       "    </tr>\n",
       "    <tr>\n",
       "      <th>1</th>\n",
       "      <td>67</td>\n",
       "      <td>Male</td>\n",
       "      <td>asymptomatic</td>\n",
       "      <td>160</td>\n",
       "      <td>286</td>\n",
       "      <td>0</td>\n",
       "      <td>left ventricular hypertrophy</td>\n",
       "      <td>108</td>\n",
       "      <td>1</td>\n",
       "      <td>1.5</td>\n",
       "      <td>2</td>\n",
       "      <td>3.0</td>\n",
       "      <td>normal</td>\n",
       "      <td>1</td>\n",
       "    </tr>\n",
       "  </tbody>\n",
       "</table>\n",
       "</div>"
      ],
      "text/plain": [
       "   age   sex    chest_pain  rest_bp  chol  fbs                       rest_ecg  \\\n",
       "0   63  Male       typical      145   233    1  left ventricular hypertrophy    \n",
       "1   67  Male  asymptomatic      160   286    0  left ventricular hypertrophy    \n",
       "\n",
       "   max_hr  exang  old_peak  slope   ca    thal  disease  \n",
       "0     150      0       2.3      3  0.0   fixed        0  \n",
       "1     108      1       1.5      2  3.0  normal        1  "
      ]
     },
     "execution_count": 33,
     "metadata": {},
     "output_type": "execute_result"
    }
   ],
   "source": [
    "heart.head(2)"
   ]
  },
  {
   "cell_type": "code",
   "execution_count": 35,
   "metadata": {},
   "outputs": [],
   "source": [
    "cols = ['age', 'chol', 'old_peak', 'max_hr']\n",
    "X = heart[cols].values\n",
    "y = heart['disease'].values"
   ]
  },
  {
   "cell_type": "code",
   "execution_count": 36,
   "metadata": {},
   "outputs": [],
   "source": [
    "from sklearn.linear_model import  LogisticRegression"
   ]
  },
  {
   "cell_type": "code",
   "execution_count": 37,
   "metadata": {},
   "outputs": [],
   "source": [
    "logr = LogisticRegression()"
   ]
  },
  {
   "cell_type": "code",
   "execution_count": 38,
   "metadata": {},
   "outputs": [
    {
     "data": {
      "text/plain": [
       "array([[ 63. , 233. ,   2.3, 150. ],\n",
       "       [ 67. , 286. ,   1.5, 108. ]])"
      ]
     },
     "execution_count": 38,
     "metadata": {},
     "output_type": "execute_result"
    }
   ],
   "source": [
    "X[:2]"
   ]
  },
  {
   "cell_type": "code",
   "execution_count": 40,
   "metadata": {},
   "outputs": [
    {
     "data": {
      "text/plain": [
       "LogisticRegression(C=1.0, class_weight=None, dual=False, fit_intercept=True,\n",
       "          intercept_scaling=1, max_iter=100, multi_class='warn',\n",
       "          n_jobs=None, penalty='l2', random_state=None, solver='warn',\n",
       "          tol=0.0001, verbose=0, warm_start=False)"
      ]
     },
     "execution_count": 40,
     "metadata": {},
     "output_type": "execute_result"
    }
   ],
   "source": [
    "logr.fit(X, y)"
   ]
  },
  {
   "cell_type": "code",
   "execution_count": 41,
   "metadata": {},
   "outputs": [
    {
     "data": {
      "text/plain": [
       "0.7227722772277227"
      ]
     },
     "execution_count": 41,
     "metadata": {},
     "output_type": "execute_result"
    }
   ],
   "source": [
    "logr.score(X, y)"
   ]
  },
  {
   "cell_type": "code",
   "execution_count": 42,
   "metadata": {},
   "outputs": [
    {
     "data": {
      "text/plain": [
       "array([0.77235092])"
      ]
     },
     "execution_count": 42,
     "metadata": {},
     "output_type": "execute_result"
    }
   ],
   "source": [
    "logr.intercept_"
   ]
  },
  {
   "cell_type": "code",
   "execution_count": 43,
   "metadata": {},
   "outputs": [
    {
     "data": {
      "text/plain": [
       "array([[ 0.02215558,  0.00409133,  0.72787602, -0.02625114]])"
      ]
     },
     "execution_count": 43,
     "metadata": {},
     "output_type": "execute_result"
    }
   ],
   "source": [
    "logr.coef_"
   ]
  },
  {
   "cell_type": "code",
   "execution_count": 63,
   "metadata": {},
   "outputs": [],
   "source": [
    "V = np.array([55, 200, 2, 140])"
   ]
  },
  {
   "cell_type": "code",
   "execution_count": 64,
   "metadata": {},
   "outputs": [],
   "source": [
    "V = V.reshape(1, -1)"
   ]
  },
  {
   "cell_type": "code",
   "execution_count": 65,
   "metadata": {},
   "outputs": [
    {
     "data": {
      "text/plain": [
       "2"
      ]
     },
     "execution_count": 65,
     "metadata": {},
     "output_type": "execute_result"
    }
   ],
   "source": [
    "V.ndim"
   ]
  },
  {
   "cell_type": "code",
   "execution_count": 66,
   "metadata": {},
   "outputs": [
    {
     "data": {
      "text/plain": [
       "array([1])"
      ]
     },
     "execution_count": 66,
     "metadata": {},
     "output_type": "execute_result"
    }
   ],
   "source": [
    "\n",
    "\n",
    "\n",
    "logr.predict(V)"
   ]
  },
  {
   "cell_type": "code",
   "execution_count": 67,
   "metadata": {},
   "outputs": [
    {
     "data": {
      "text/plain": [
       "array([[ 50, 200,   2, 140]])"
      ]
     },
     "execution_count": 67,
     "metadata": {},
     "output_type": "execute_result"
    }
   ],
   "source": [
    "c = np.array([[50, 200, 2, 140]])\n",
    "c"
   ]
  },
  {
   "cell_type": "code",
   "execution_count": null,
   "metadata": {},
   "outputs": [],
   "source": []
  }
 ],
 "metadata": {
  "kernelspec": {
   "display_name": "Python 3",
   "language": "python",
   "name": "python3"
  },
  "language_info": {
   "codemirror_mode": {
    "name": "ipython",
    "version": 3
   },
   "file_extension": ".py",
   "mimetype": "text/x-python",
   "name": "python",
   "nbconvert_exporter": "python",
   "pygments_lexer": "ipython3",
   "version": "3.6.5"
  },
  "varInspector": {
   "cols": {
    "lenName": 16,
    "lenType": 16,
    "lenVar": 40
   },
   "kernels_config": {
    "python": {
     "delete_cmd_postfix": "",
     "delete_cmd_prefix": "del ",
     "library": "var_list.py",
     "varRefreshCmd": "print(var_dic_list())"
    },
    "r": {
     "delete_cmd_postfix": ") ",
     "delete_cmd_prefix": "rm(",
     "library": "var_list.r",
     "varRefreshCmd": "cat(var_dic_list()) "
    }
   },
   "types_to_exclude": [
    "module",
    "function",
    "builtin_function_or_method",
    "instance",
    "_Feature"
   ],
   "window_display": false
  }
 },
 "nbformat": 4,
 "nbformat_minor": 2
}
