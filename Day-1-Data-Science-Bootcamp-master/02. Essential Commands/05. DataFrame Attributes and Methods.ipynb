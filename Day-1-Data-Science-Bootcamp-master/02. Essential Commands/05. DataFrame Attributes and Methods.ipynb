{
 "cells": [
  {
   "cell_type": "markdown",
   "metadata": {},
   "source": [
    "# 5. DataFrame Attributes and Methods\n",
    "\n",
    "### Objectives\n",
    "\n",
    "In previous notebooks, we covered the most common and fundamental attributes and methods for a Series. This notebook will take on a similar task for DataFrames.\n",
    "\n",
    "## DataFrames vs Series\n",
    "\n",
    "DataFrames and Series are extremely similar objects. A Series is simply a single column of a DataFrame. Series have an index and values but no columns. A DataFrame can be thought of as a collection of Series objects each directly accessible by passing the column name to the brackets of the DataFrame."
   ]
  },
  {
   "cell_type": "markdown",
   "metadata": {},
   "source": [
    "## View the API for complete list of functionality\n",
    "Just as we did for Series, it can be helpful to see the entire list of attributes and methods for a DataFrame. Please visit the [DataFrame section][1] of the API.\n",
    "\n",
    "## Best of DataFrame API\n",
    "DataFrames, as like Series, have an abundance of attributes and methods that do not give any additional functionality to the library. We will focus on the core attributes and methods that give you the most power to complete a data analysis.\n",
    "\n",
    "## Minimally Sufficient Pandas\n",
    "I can't stress enough how important it is to stick with a minimal subset of pandas when doing an analysis. Using more obscure methods does not make you a better analyst. This is akin to going to party and using the most obscure and difficult words to impress the guests. The point of a data analysis is to clearly expose the information held within the data. Just about everything that you want to do can be clearly expressed with minimal Pandas syntax. It is this syntax that we focus on during class.\n",
    "\n",
    "## Bikes Dataset\n",
    "We will use the bikes dataset to introduce the core attributes and methods of DataFrames.\n",
    "\n",
    "[1]: http://pandas.pydata.org/pandas-docs/stable/api.html#dataframe"
   ]
  },
  {
   "cell_type": "code",
   "execution_count": null,
   "metadata": {},
   "outputs": [],
   "source": [
    "import pandas as pd\n",
    "\n",
    "bikes = pd.read_csv('../data/bikes.csv', parse_dates=['starttime', 'stoptime'])\n",
    "bikes.head()"
   ]
  },
  {
   "cell_type": "markdown",
   "metadata": {},
   "source": [
    "## Core DataFrame Attributes\n",
    "\n",
    "See the complete list of [DataFrame attributes][1]\n",
    "\n",
    "* **`index`**\n",
    "* **`columns`**\n",
    "* **`values`**\n",
    "* **`dtypes`**\n",
    "* **`shape`**\n",
    "* **`size`**\n",
    "\n",
    "Let's further explore these attributes:\n",
    "\n",
    "[1]: http://pandas.pydata.org/pandas-docs/stable/api.html#attributes-and-underlying-data"
   ]
  },
  {
   "cell_type": "markdown",
   "metadata": {},
   "source": [
    "### Index Objects\n",
    "The default index for both DataFrames and Series is a **`RangeIndex`**. This is a unique object to Pandas. All index objects have their own attributes and methods, which you can [view in the API][1]. There are actually about a dozen different Index objects, which sounds intimidating. But, you will rarely need to interact with these Index objects directly so its not necessary to put much time in studying their attributes and methods.\n",
    "\n",
    "[1]: http://pandas.pydata.org/pandas-docs/stable/api.html#attributes-and-underlying-data"
   ]
  },
  {
   "cell_type": "code",
   "execution_count": null,
   "metadata": {},
   "outputs": [],
   "source": [
    "bikes.index"
   ]
  },
  {
   "cell_type": "markdown",
   "metadata": {},
   "source": [
    "## The columns are an Index object\n",
    "The columns are always going to be some kind of Index object just like the index. You can more or less think of the Index objects as an array of data."
   ]
  },
  {
   "cell_type": "code",
   "execution_count": null,
   "metadata": {},
   "outputs": [],
   "source": [
    "bikes.columns"
   ]
  },
  {
   "cell_type": "code",
   "execution_count": null,
   "metadata": {},
   "outputs": [],
   "source": [
    "type(bikes.columns)"
   ]
  },
  {
   "cell_type": "markdown",
   "metadata": {},
   "source": [
    "### `values` returns a 2-D NumPy array\n",
    "The **`values`** attribute returns a 2-D NumPy array."
   ]
  },
  {
   "cell_type": "code",
   "execution_count": null,
   "metadata": {},
   "outputs": [],
   "source": [
    "bikes.values"
   ]
  },
  {
   "cell_type": "markdown",
   "metadata": {},
   "source": [
    "### `dtypes` returns a Series of data types\n",
    "The **`dtypes`** attributes returns a Series of data types where the index of the Series is the column names and the values are the actual data type."
   ]
  },
  {
   "cell_type": "code",
   "execution_count": null,
   "metadata": {},
   "outputs": [],
   "source": [
    "bikes.dtypes"
   ]
  },
  {
   "cell_type": "markdown",
   "metadata": {},
   "source": [
    "### `shape` returns a tuple of the number of rows and columns\n",
    "The shape attribute will always return a Python tuple of length 2 containing the number of rows and columns"
   ]
  },
  {
   "cell_type": "code",
   "execution_count": null,
   "metadata": {},
   "outputs": [],
   "source": [
    "shape = bikes.shape\n",
    "shape"
   ]
  },
  {
   "cell_type": "code",
   "execution_count": null,
   "metadata": {},
   "outputs": [],
   "source": [
    "type(shape)"
   ]
  },
  {
   "cell_type": "markdown",
   "metadata": {},
   "source": [
    "You can get the number of rows and columns as an integer by selecting them from the tuple:"
   ]
  },
  {
   "cell_type": "code",
   "execution_count": null,
   "metadata": {},
   "outputs": [],
   "source": [
    "shape[0]"
   ]
  },
  {
   "cell_type": "code",
   "execution_count": null,
   "metadata": {},
   "outputs": [],
   "source": [
    "shape[1]"
   ]
  },
  {
   "cell_type": "markdown",
   "metadata": {},
   "source": [
    "### `size` return the total number of elements in the DataFrame\n",
    "The **`size`** attribute is a bit tricky and returns the total number of elements in the DataFrame. This is simply the number of rows multiplied by the number of columns."
   ]
  },
  {
   "cell_type": "code",
   "execution_count": null,
   "metadata": {},
   "outputs": [],
   "source": [
    "bikes.size"
   ]
  },
  {
   "cell_type": "markdown",
   "metadata": {},
   "source": [
    "Just the same as this:"
   ]
  },
  {
   "cell_type": "code",
   "execution_count": null,
   "metadata": {},
   "outputs": [],
   "source": [
    "shape[0] * shape[1]"
   ]
  },
  {
   "cell_type": "markdown",
   "metadata": {},
   "source": [
    "### The `len` function returns the number of rows\n",
    "The built-in Python **`len`** function returns the number of rows."
   ]
  },
  {
   "cell_type": "code",
   "execution_count": null,
   "metadata": {},
   "outputs": [],
   "source": [
    "len(bikes)"
   ]
  },
  {
   "cell_type": "markdown",
   "metadata": {},
   "source": [
    "## The `info` method\n",
    "The **`info`** method returns the: \n",
    "* data types of each column\n",
    "* type of index\n",
    "* number of columns\n",
    "* number of non-missing values in each column\n",
    "* frequency count of data types\n",
    "* amount of memory used\n",
    "\n",
    "This information is **printed** to the screen. There is no object that is returned."
   ]
  },
  {
   "cell_type": "code",
   "execution_count": null,
   "metadata": {},
   "outputs": [],
   "source": [
    "bikes.info()"
   ]
  },
  {
   "cell_type": "markdown",
   "metadata": {},
   "source": [
    "# Arithmetic Operations with a DataFrame\n",
    "We now cover what happens when we use the arithmetic operators **`+, -, *, /, **, //`** on a DataFrame. Let's say we have DataFrame, **`df`** and execute **`df + 5`**. Pandas will attempt to add 5 to each value in the DataFrame. This operation will only work if all the columns are numeric (or boolean).\n",
    "\n",
    "### Attempt to add 5 to bikes\n",
    "If we try and add 5 to bikes we will get an error as we have a mix of numeric, object, and datetime columns. "
   ]
  },
  {
   "cell_type": "code",
   "execution_count": null,
   "metadata": {},
   "outputs": [],
   "source": [
    "bikes + 5"
   ]
  },
  {
   "cell_type": "markdown",
   "metadata": {},
   "source": [
    "### Select just numeric data with `select_dtypes`\n",
    "DataFrames have a unique method to them called **`select_dtypes`** which selects a subset of columns with the passed type. Use the data type you want as a string to select it - int, float, bool, object, datetime, timedelta, and category.\n",
    "\n",
    "Let's see some examples:"
   ]
  },
  {
   "cell_type": "code",
   "execution_count": null,
   "metadata": {},
   "outputs": [],
   "source": [
    "bikes.select_dtypes('int').head()"
   ]
  },
  {
   "cell_type": "markdown",
   "metadata": {},
   "source": [
    "#### Use the string 'number' to select all numeric data\n",
    "This selects all int and float columns."
   ]
  },
  {
   "cell_type": "code",
   "execution_count": null,
   "metadata": {},
   "outputs": [],
   "source": [
    "bikes_number = bikes.select_dtypes('number')\n",
    "bikes_number.head()"
   ]
  },
  {
   "cell_type": "markdown",
   "metadata": {},
   "source": [
    "## Try adding 5 to `bikes_number`\n",
    "Let's try adding 5 to the **`bikes_number`** DataFrame which consists of only numeric columns:"
   ]
  },
  {
   "cell_type": "code",
   "execution_count": null,
   "metadata": {},
   "outputs": [],
   "source": [
    "(bikes_number + 5).head()"
   ]
  },
  {
   "cell_type": "markdown",
   "metadata": {},
   "source": [
    "## Comparison Operators with DataFrames\n",
    "The comparison operators work similarly to the mathematical ones and will return a DataFrame of all boolean columns:"
   ]
  },
  {
   "cell_type": "code",
   "execution_count": null,
   "metadata": {},
   "outputs": [],
   "source": [
    "(bikes_number > 5).head()"
   ]
  },
  {
   "cell_type": "markdown",
   "metadata": {},
   "source": [
    "## Take Care when Working with entire DataFrame\n",
    "When you do one of the above operations, you are applying that operation to every value in the DataFrame. Make sure this is what you want because all values will be affected."
   ]
  },
  {
   "cell_type": "markdown",
   "metadata": {},
   "source": [
    "## Changing Display Options\n",
    "Pandas gives you several options to change the display of the DataFrames and Series. DataFrames are output in HTML tables while Series are output in plain text.\n",
    "\n",
    "Let's read in the college dataset and put the institution name ('INSTNM') in the index and then display it on the screen without the head method."
   ]
  },
  {
   "cell_type": "code",
   "execution_count": null,
   "metadata": {},
   "outputs": [],
   "source": [
    "college = pd.read_csv('../data/college.csv', index_col='instnm')\n",
    "college"
   ]
  },
  {
   "cell_type": "markdown",
   "metadata": {},
   "source": [
    "## Not enough column space\n",
    "If you scroll to the right, you'll notice that some columns are hidden. You will see a column filled with three dots denoting this.\n",
    "\n",
    "## The most common options\n",
    "I typically only change the display of two of the available display options - **`max_columns`** and **`max_rows`**.\n",
    "\n",
    "## Use dot notation to find, view, and change the options\n",
    "You don't have to remember all the option names to make a change. Instead, you only must remember that they are all located under **`pd.options`**. From here we choose **`display`** and then press **tab** to have all the options come down in a menu. The code will look like this:\n",
    "\n",
    "```\n",
    ">>> pd.options.display.<press tab>\n",
    "```\n",
    "\n",
    "### Output `max_columns` and `max_rows`\n",
    "We can output the default values for these options."
   ]
  },
  {
   "cell_type": "code",
   "execution_count": null,
   "metadata": {},
   "outputs": [],
   "source": [
    "pd.options.display.max_columns"
   ]
  },
  {
   "cell_type": "code",
   "execution_count": null,
   "metadata": {},
   "outputs": [],
   "source": [
    "pd.options.display.max_rows"
   ]
  },
  {
   "cell_type": "markdown",
   "metadata": {},
   "source": [
    "## Change the options with an assignment statement\n",
    "You can use an assignment statement to change the options directly. Let's find out the number of columns in our DataFrame and change the options so all of them will be visible.\n",
    "\n",
    "Let's also change the `max_rows` to 12 to limit the long output."
   ]
  },
  {
   "cell_type": "code",
   "execution_count": null,
   "metadata": {},
   "outputs": [],
   "source": [
    "college.shape"
   ]
  },
  {
   "cell_type": "markdown",
   "metadata": {},
   "source": [
    "Let's go with a 40 column display:"
   ]
  },
  {
   "cell_type": "code",
   "execution_count": null,
   "metadata": {},
   "outputs": [],
   "source": [
    "pd.options.display.max_columns = 40\n",
    "pd.options.display.max_rows = 12"
   ]
  },
  {
   "cell_type": "markdown",
   "metadata": {},
   "source": [
    "## Use the new display settings\n",
    "We can now view all of the columns and a fraction of the rows that fit on our screen."
   ]
  },
  {
   "cell_type": "code",
   "execution_count": null,
   "metadata": {},
   "outputs": [],
   "source": [
    "college.head()"
   ]
  },
  {
   "cell_type": "markdown",
   "metadata": {},
   "source": [
    "## Many more options\n",
    "There are a couple dozen more display options. Feel free to explore them."
   ]
  },
  {
   "cell_type": "markdown",
   "metadata": {},
   "source": [
    "# Data Dictionaries\n",
    "A data dictionary is a very important element of a data analysis and at a minimum gives us the column name and description of each column. Other information on each column can be kept in it such as the data type of each column or number of missing values. This \"data on the data\" is often referred to as **metadata**.\n",
    "\n",
    "The college dataset has an available data dictionary that can be read in as a DataFrame. It has the descriptions of each column, which is important with this dataset as the column names are not easily decipherable."
   ]
  },
  {
   "cell_type": "code",
   "execution_count": null,
   "metadata": {},
   "outputs": [],
   "source": [
    "pd.read_csv('../data/college_data_dictionary.csv')"
   ]
  },
  {
   "cell_type": "markdown",
   "metadata": {},
   "source": [
    "# Extra"
   ]
  },
  {
   "cell_type": "markdown",
   "metadata": {},
   "source": [
    "## More on selecting specific data types"
   ]
  },
  {
   "cell_type": "code",
   "execution_count": null,
   "metadata": {},
   "outputs": [],
   "source": [
    "bikes.select_dtypes('float').head()"
   ]
  },
  {
   "cell_type": "code",
   "execution_count": null,
   "metadata": {},
   "outputs": [],
   "source": [
    "bikes.select_dtypes('datetime').head()"
   ]
  },
  {
   "cell_type": "code",
   "execution_count": null,
   "metadata": {},
   "outputs": [],
   "source": [
    "bikes.select_dtypes('object').head()"
   ]
  },
  {
   "cell_type": "markdown",
   "metadata": {},
   "source": [
    "Use a list to select multiple data types:"
   ]
  },
  {
   "cell_type": "code",
   "execution_count": null,
   "metadata": {},
   "outputs": [],
   "source": [
    "bikes.select_dtypes(['int', 'object']).head()"
   ]
  },
  {
   "cell_type": "markdown",
   "metadata": {},
   "source": [
    "### Other numeric operators\n",
    "All the other numeric operators work in the same manner. They all apply the operation to every value in the DataFrame. For instance, the following does floor division to each value:"
   ]
  },
  {
   "cell_type": "code",
   "execution_count": null,
   "metadata": {},
   "outputs": [],
   "source": [
    "(bikes_number // 17).head()"
   ]
  },
  {
   "cell_type": "markdown",
   "metadata": {},
   "source": [
    "### Strange addition and multiplication with objects\n",
    "Addition actually does work with strings by appending the word being added to each value. You can also multiply strings by an integer which will make them repeat."
   ]
  },
  {
   "cell_type": "code",
   "execution_count": null,
   "metadata": {},
   "outputs": [],
   "source": [
    "(bikes.select_dtypes('object') + 'SOMESTRING').head()"
   ]
  },
  {
   "cell_type": "code",
   "execution_count": null,
   "metadata": {},
   "outputs": [],
   "source": [
    "(bikes.select_dtypes('object') * 3).head()"
   ]
  },
  {
   "cell_type": "markdown",
   "metadata": {},
   "source": [
    "# Explore selecting data types, arithmetic operations, and changing display options"
   ]
  },
  {
   "cell_type": "code",
   "execution_count": null,
   "metadata": {},
   "outputs": [],
   "source": []
  },
  {
   "cell_type": "code",
   "execution_count": null,
   "metadata": {},
   "outputs": [],
   "source": []
  },
  {
   "cell_type": "code",
   "execution_count": null,
   "metadata": {},
   "outputs": [],
   "source": []
  },
  {
   "cell_type": "code",
   "execution_count": null,
   "metadata": {},
   "outputs": [],
   "source": []
  },
  {
   "cell_type": "code",
   "execution_count": null,
   "metadata": {},
   "outputs": [],
   "source": []
  },
  {
   "cell_type": "markdown",
   "metadata": {},
   "source": [
    "# Mini Case Study: Finding the attributes and methods in common between DataFrames and Series\n",
    "The DataFrames and Series have most of their attributes and methods in common so you won't have to remember too much more to use them.\n",
    "\n",
    "Let's find all the public functionality that is in-common and unique to DataFrames and Series."
   ]
  },
  {
   "cell_type": "markdown",
   "metadata": {},
   "source": [
    "Use a set comprehension to get all public methods for each type:"
   ]
  },
  {
   "cell_type": "code",
   "execution_count": null,
   "metadata": {},
   "outputs": [],
   "source": [
    "df_public = {method for method in dir(pd.DataFrame) if method[0] != '_'}\n",
    "series_public = {method for method in dir(pd.Series) if method[0] != '_'}"
   ]
  },
  {
   "cell_type": "markdown",
   "metadata": {},
   "source": [
    "Output the total number of methods of each. Notice how they have nearly the same amount:"
   ]
  },
  {
   "cell_type": "code",
   "execution_count": null,
   "metadata": {},
   "outputs": [],
   "source": [
    "len(df_public)"
   ]
  },
  {
   "cell_type": "code",
   "execution_count": null,
   "metadata": {},
   "outputs": [],
   "source": [
    "len(series_public)"
   ]
  },
  {
   "cell_type": "markdown",
   "metadata": {},
   "source": [
    "Let's find the number of methods in-common. About 90% of the methods are the same:"
   ]
  },
  {
   "cell_type": "code",
   "execution_count": null,
   "metadata": {},
   "outputs": [],
   "source": [
    "len(df_public & series_public)"
   ]
  },
  {
   "cell_type": "markdown",
   "metadata": {},
   "source": [
    "#### Output the methods unique to DataFrames"
   ]
  },
  {
   "cell_type": "code",
   "execution_count": null,
   "metadata": {},
   "outputs": [],
   "source": [
    "df_public - series_public"
   ]
  },
  {
   "cell_type": "markdown",
   "metadata": {},
   "source": [
    "#### Output the methods unique to Series"
   ]
  },
  {
   "cell_type": "code",
   "execution_count": null,
   "metadata": {},
   "outputs": [],
   "source": [
    "series_public - df_public"
   ]
  }
 ],
 "metadata": {
  "kernelspec": {
   "display_name": "Python 3",
   "language": "python",
   "name": "python3"
  },
  "language_info": {
   "codemirror_mode": {
    "name": "ipython",
    "version": 3
   },
   "file_extension": ".py",
   "mimetype": "text/x-python",
   "name": "python",
   "nbconvert_exporter": "python",
   "pygments_lexer": "ipython3",
   "version": "3.6.5"
  },
  "varInspector": {
   "cols": {
    "lenName": 16,
    "lenType": 16,
    "lenVar": 40
   },
   "kernels_config": {
    "python": {
     "delete_cmd_postfix": "",
     "delete_cmd_prefix": "del ",
     "library": "var_list.py",
     "varRefreshCmd": "print(var_dic_list())"
    },
    "r": {
     "delete_cmd_postfix": ") ",
     "delete_cmd_prefix": "rm(",
     "library": "var_list.r",
     "varRefreshCmd": "cat(var_dic_list()) "
    }
   },
   "types_to_exclude": [
    "module",
    "function",
    "builtin_function_or_method",
    "instance",
    "_Feature"
   ],
   "window_display": false
  }
 },
 "nbformat": 4,
 "nbformat_minor": 2
}
