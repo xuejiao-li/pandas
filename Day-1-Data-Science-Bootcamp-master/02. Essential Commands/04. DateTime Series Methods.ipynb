{
 "cells": [
  {
   "cell_type": "markdown",
   "metadata": {},
   "source": [
    "# 4. Datetime Series Methods\n",
    "\n",
    "\n",
    "# Methods for Series with Datetime data types\n",
    "In this notebook we will focus on methods that work for Series that contain datetime data. Just like Pandas has the **`str`** accessor to give us access to string only methods, it also has the **`dt`** accessor to give us access to datetime only methods.\n",
    "\n",
    "Let's read in the bikes dataset which has two datetime columns, **`starttime`**, and **`stoptime`**."
   ]
  },
  {
   "cell_type": "code",
   "execution_count": 1,
   "metadata": {},
   "outputs": [
    {
     "data": {
      "text/html": [
       "<div>\n",
       "<style scoped>\n",
       "    .dataframe tbody tr th:only-of-type {\n",
       "        vertical-align: middle;\n",
       "    }\n",
       "\n",
       "    .dataframe tbody tr th {\n",
       "        vertical-align: top;\n",
       "    }\n",
       "\n",
       "    .dataframe thead th {\n",
       "        text-align: right;\n",
       "    }\n",
       "</style>\n",
       "<table border=\"1\" class=\"dataframe\">\n",
       "  <thead>\n",
       "    <tr style=\"text-align: right;\">\n",
       "      <th></th>\n",
       "      <th>trip_id</th>\n",
       "      <th>usertype</th>\n",
       "      <th>gender</th>\n",
       "      <th>starttime</th>\n",
       "      <th>stoptime</th>\n",
       "      <th>tripduration</th>\n",
       "      <th>from_station_name</th>\n",
       "      <th>latitude_start</th>\n",
       "      <th>longitude_start</th>\n",
       "      <th>dpcapacity_start</th>\n",
       "      <th>to_station_name</th>\n",
       "      <th>latitude_end</th>\n",
       "      <th>longitude_end</th>\n",
       "      <th>dpcapacity_end</th>\n",
       "      <th>temperature</th>\n",
       "      <th>visibility</th>\n",
       "      <th>wind_speed</th>\n",
       "      <th>precipitation</th>\n",
       "      <th>events</th>\n",
       "    </tr>\n",
       "  </thead>\n",
       "  <tbody>\n",
       "    <tr>\n",
       "      <th>0</th>\n",
       "      <td>7147</td>\n",
       "      <td>Subscriber</td>\n",
       "      <td>Male</td>\n",
       "      <td>2013-06-28 19:01:00</td>\n",
       "      <td>2013-06-28 19:17:00</td>\n",
       "      <td>993</td>\n",
       "      <td>Lake Shore Dr &amp; Monroe St</td>\n",
       "      <td>41.881050</td>\n",
       "      <td>-87.616970</td>\n",
       "      <td>11.0</td>\n",
       "      <td>Michigan Ave &amp; Oak St</td>\n",
       "      <td>41.900960</td>\n",
       "      <td>-87.623777</td>\n",
       "      <td>15.0</td>\n",
       "      <td>73.9</td>\n",
       "      <td>10.0</td>\n",
       "      <td>12.7</td>\n",
       "      <td>-9999.0</td>\n",
       "      <td>mostlycloudy</td>\n",
       "    </tr>\n",
       "    <tr>\n",
       "      <th>1</th>\n",
       "      <td>7524</td>\n",
       "      <td>Subscriber</td>\n",
       "      <td>Male</td>\n",
       "      <td>2013-06-28 22:53:00</td>\n",
       "      <td>2013-06-28 23:03:00</td>\n",
       "      <td>623</td>\n",
       "      <td>Clinton St &amp; Washington Blvd</td>\n",
       "      <td>41.883380</td>\n",
       "      <td>-87.641170</td>\n",
       "      <td>31.0</td>\n",
       "      <td>Wells St &amp; Walton St</td>\n",
       "      <td>41.899930</td>\n",
       "      <td>-87.634430</td>\n",
       "      <td>19.0</td>\n",
       "      <td>69.1</td>\n",
       "      <td>10.0</td>\n",
       "      <td>6.9</td>\n",
       "      <td>-9999.0</td>\n",
       "      <td>partlycloudy</td>\n",
       "    </tr>\n",
       "    <tr>\n",
       "      <th>2</th>\n",
       "      <td>10927</td>\n",
       "      <td>Subscriber</td>\n",
       "      <td>Male</td>\n",
       "      <td>2013-06-30 14:43:00</td>\n",
       "      <td>2013-06-30 15:01:00</td>\n",
       "      <td>1040</td>\n",
       "      <td>Sheffield Ave &amp; Kingsbury St</td>\n",
       "      <td>41.909592</td>\n",
       "      <td>-87.653497</td>\n",
       "      <td>15.0</td>\n",
       "      <td>Dearborn St &amp; Monroe St</td>\n",
       "      <td>41.881320</td>\n",
       "      <td>-87.629521</td>\n",
       "      <td>23.0</td>\n",
       "      <td>73.0</td>\n",
       "      <td>10.0</td>\n",
       "      <td>16.1</td>\n",
       "      <td>-9999.0</td>\n",
       "      <td>mostlycloudy</td>\n",
       "    </tr>\n",
       "    <tr>\n",
       "      <th>3</th>\n",
       "      <td>12907</td>\n",
       "      <td>Subscriber</td>\n",
       "      <td>Male</td>\n",
       "      <td>2013-07-01 10:05:00</td>\n",
       "      <td>2013-07-01 10:16:00</td>\n",
       "      <td>667</td>\n",
       "      <td>Carpenter St &amp; Huron St</td>\n",
       "      <td>41.894556</td>\n",
       "      <td>-87.653449</td>\n",
       "      <td>19.0</td>\n",
       "      <td>Clark St &amp; Randolph St</td>\n",
       "      <td>41.884576</td>\n",
       "      <td>-87.631890</td>\n",
       "      <td>31.0</td>\n",
       "      <td>72.0</td>\n",
       "      <td>10.0</td>\n",
       "      <td>16.1</td>\n",
       "      <td>-9999.0</td>\n",
       "      <td>mostlycloudy</td>\n",
       "    </tr>\n",
       "    <tr>\n",
       "      <th>4</th>\n",
       "      <td>13168</td>\n",
       "      <td>Subscriber</td>\n",
       "      <td>Male</td>\n",
       "      <td>2013-07-01 11:16:00</td>\n",
       "      <td>2013-07-01 11:18:00</td>\n",
       "      <td>130</td>\n",
       "      <td>Damen Ave &amp; Pierce Ave</td>\n",
       "      <td>41.909396</td>\n",
       "      <td>-87.677692</td>\n",
       "      <td>19.0</td>\n",
       "      <td>Damen Ave &amp; Pierce Ave</td>\n",
       "      <td>41.909396</td>\n",
       "      <td>-87.677692</td>\n",
       "      <td>19.0</td>\n",
       "      <td>73.0</td>\n",
       "      <td>10.0</td>\n",
       "      <td>17.3</td>\n",
       "      <td>-9999.0</td>\n",
       "      <td>partlycloudy</td>\n",
       "    </tr>\n",
       "  </tbody>\n",
       "</table>\n",
       "</div>"
      ],
      "text/plain": [
       "   trip_id    usertype gender           starttime            stoptime  \\\n",
       "0     7147  Subscriber   Male 2013-06-28 19:01:00 2013-06-28 19:17:00   \n",
       "1     7524  Subscriber   Male 2013-06-28 22:53:00 2013-06-28 23:03:00   \n",
       "2    10927  Subscriber   Male 2013-06-30 14:43:00 2013-06-30 15:01:00   \n",
       "3    12907  Subscriber   Male 2013-07-01 10:05:00 2013-07-01 10:16:00   \n",
       "4    13168  Subscriber   Male 2013-07-01 11:16:00 2013-07-01 11:18:00   \n",
       "\n",
       "   tripduration             from_station_name  latitude_start  \\\n",
       "0           993     Lake Shore Dr & Monroe St       41.881050   \n",
       "1           623  Clinton St & Washington Blvd       41.883380   \n",
       "2          1040  Sheffield Ave & Kingsbury St       41.909592   \n",
       "3           667       Carpenter St & Huron St       41.894556   \n",
       "4           130        Damen Ave & Pierce Ave       41.909396   \n",
       "\n",
       "   longitude_start  dpcapacity_start          to_station_name  latitude_end  \\\n",
       "0       -87.616970              11.0    Michigan Ave & Oak St     41.900960   \n",
       "1       -87.641170              31.0     Wells St & Walton St     41.899930   \n",
       "2       -87.653497              15.0  Dearborn St & Monroe St     41.881320   \n",
       "3       -87.653449              19.0   Clark St & Randolph St     41.884576   \n",
       "4       -87.677692              19.0   Damen Ave & Pierce Ave     41.909396   \n",
       "\n",
       "   longitude_end  dpcapacity_end  temperature  visibility  wind_speed  \\\n",
       "0     -87.623777            15.0         73.9        10.0        12.7   \n",
       "1     -87.634430            19.0         69.1        10.0         6.9   \n",
       "2     -87.629521            23.0         73.0        10.0        16.1   \n",
       "3     -87.631890            31.0         72.0        10.0        16.1   \n",
       "4     -87.677692            19.0         73.0        10.0        17.3   \n",
       "\n",
       "   precipitation        events  \n",
       "0        -9999.0  mostlycloudy  \n",
       "1        -9999.0  partlycloudy  \n",
       "2        -9999.0  mostlycloudy  \n",
       "3        -9999.0  mostlycloudy  \n",
       "4        -9999.0  partlycloudy  "
      ]
     },
     "execution_count": 1,
     "metadata": {},
     "output_type": "execute_result"
    }
   ],
   "source": [
    "import pandas as pd\n",
    "\n",
    "bikes = pd.read_csv('../data/bikes.csv', parse_dates=['starttime', 'stoptime'])\n",
    "bikes.head()"
   ]
  },
  {
   "cell_type": "markdown",
   "metadata": {},
   "source": [
    "## Pandas datetime columns are always nanosecond precision\n",
    "Pandas forces all datetime columns to have nanosecond precision. It relies on NumPy's datetime64 data type as the foundation. NumPy does allow you to have different ranges of precision, microsecond or millisecond, for example, but pandas requires nanosecond precision. Pandas converts any other NumPy datatime to nanoseconds.\n",
    "\n",
    "Let's take a look at the data types of each column with the **`dtypes`** attribute to verify that we do have two datetime columns."
   ]
  },
  {
   "cell_type": "code",
   "execution_count": 2,
   "metadata": {},
   "outputs": [
    {
     "data": {
      "text/plain": [
       "trip_id                       int64\n",
       "usertype                     object\n",
       "gender                       object\n",
       "starttime            datetime64[ns]\n",
       "stoptime             datetime64[ns]\n",
       "tripduration                  int64\n",
       "from_station_name            object\n",
       "latitude_start              float64\n",
       "longitude_start             float64\n",
       "dpcapacity_start            float64\n",
       "to_station_name              object\n",
       "latitude_end                float64\n",
       "longitude_end               float64\n",
       "dpcapacity_end              float64\n",
       "temperature                 float64\n",
       "visibility                  float64\n",
       "wind_speed                  float64\n",
       "precipitation               float64\n",
       "events                       object\n",
       "dtype: object"
      ]
     },
     "execution_count": 2,
     "metadata": {},
     "output_type": "execute_result"
    }
   ],
   "source": [
    "bikes.dtypes"
   ]
  },
  {
   "cell_type": "markdown",
   "metadata": {},
   "source": [
    "# The `dt` accessor\n",
    "The primary focus on this notebook will be the methods that follow the **`dt`** accessor. [Visit the API][1] to view all the possible datetime attributes and methods that are available.\n",
    "\n",
    "## Use the `read_html` to scrape its own API page and output the `dt` attributes and methods as a DataFrame\n",
    "\n",
    "The `read_html` function attempts to turn every single HTML table found on the given URL into a Pandas DataFrame. It returns a list DataFrames. It takes an optional second parameter, a string that must be contained in the table.\n",
    "\n",
    "The Pandas API page places all of the object attribute and methods within HTML tables. This makes it a great page to work with `read_html`. The function searches each table for the phrase `Series.dt.`. Four DataFrames are returned in a list. The first two contain the attributes and methods for the `dt` accessor."
   ]
  },
  {
   "cell_type": "code",
   "execution_count": 3,
   "metadata": {},
   "outputs": [
    {
     "data": {
      "text/html": [
       "<div>\n",
       "<style scoped>\n",
       "    .dataframe tbody tr th:only-of-type {\n",
       "        vertical-align: middle;\n",
       "    }\n",
       "\n",
       "    .dataframe tbody tr th {\n",
       "        vertical-align: top;\n",
       "    }\n",
       "\n",
       "    .dataframe thead th {\n",
       "        text-align: right;\n",
       "    }\n",
       "</style>\n",
       "<table border=\"1\" class=\"dataframe\">\n",
       "  <thead>\n",
       "    <tr style=\"text-align: right;\">\n",
       "      <th></th>\n",
       "      <th>Attributes</th>\n",
       "      <th>Description</th>\n",
       "    </tr>\n",
       "  </thead>\n",
       "  <tbody>\n",
       "    <tr>\n",
       "      <th>0</th>\n",
       "      <td>Series.dt.date</td>\n",
       "      <td>Returns numpy array of python datetime.date ob...</td>\n",
       "    </tr>\n",
       "    <tr>\n",
       "      <th>1</th>\n",
       "      <td>Series.dt.time</td>\n",
       "      <td>Returns numpy array of datetime.time.</td>\n",
       "    </tr>\n",
       "    <tr>\n",
       "      <th>2</th>\n",
       "      <td>Series.dt.year</td>\n",
       "      <td>The year of the datetime</td>\n",
       "    </tr>\n",
       "    <tr>\n",
       "      <th>3</th>\n",
       "      <td>Series.dt.month</td>\n",
       "      <td>The month as January=1, December=12</td>\n",
       "    </tr>\n",
       "    <tr>\n",
       "      <th>4</th>\n",
       "      <td>Series.dt.day</td>\n",
       "      <td>The days of the datetime</td>\n",
       "    </tr>\n",
       "    <tr>\n",
       "      <th>5</th>\n",
       "      <td>Series.dt.hour</td>\n",
       "      <td>The hours of the datetime</td>\n",
       "    </tr>\n",
       "    <tr>\n",
       "      <th>6</th>\n",
       "      <td>Series.dt.minute</td>\n",
       "      <td>The minutes of the datetime</td>\n",
       "    </tr>\n",
       "    <tr>\n",
       "      <th>7</th>\n",
       "      <td>Series.dt.second</td>\n",
       "      <td>The seconds of the datetime</td>\n",
       "    </tr>\n",
       "    <tr>\n",
       "      <th>8</th>\n",
       "      <td>Series.dt.microsecond</td>\n",
       "      <td>The microseconds of the datetime</td>\n",
       "    </tr>\n",
       "    <tr>\n",
       "      <th>9</th>\n",
       "      <td>Series.dt.nanosecond</td>\n",
       "      <td>The nanoseconds of the datetime</td>\n",
       "    </tr>\n",
       "    <tr>\n",
       "      <th>10</th>\n",
       "      <td>Series.dt.week</td>\n",
       "      <td>The week ordinal of the year</td>\n",
       "    </tr>\n",
       "    <tr>\n",
       "      <th>11</th>\n",
       "      <td>Series.dt.weekofyear</td>\n",
       "      <td>The week ordinal of the year</td>\n",
       "    </tr>\n",
       "    <tr>\n",
       "      <th>12</th>\n",
       "      <td>Series.dt.dayofweek</td>\n",
       "      <td>The day of the week with Monday=0, Sunday=6</td>\n",
       "    </tr>\n",
       "    <tr>\n",
       "      <th>13</th>\n",
       "      <td>Series.dt.weekday</td>\n",
       "      <td>The day of the week with Monday=0, Sunday=6</td>\n",
       "    </tr>\n",
       "    <tr>\n",
       "      <th>14</th>\n",
       "      <td>Series.dt.dayofyear</td>\n",
       "      <td>The ordinal day of the year</td>\n",
       "    </tr>\n",
       "    <tr>\n",
       "      <th>15</th>\n",
       "      <td>Series.dt.quarter</td>\n",
       "      <td>The quarter of the date</td>\n",
       "    </tr>\n",
       "    <tr>\n",
       "      <th>16</th>\n",
       "      <td>Series.dt.is_month_start</td>\n",
       "      <td>Logical indicating if first day of month (defi...</td>\n",
       "    </tr>\n",
       "    <tr>\n",
       "      <th>17</th>\n",
       "      <td>Series.dt.is_month_end</td>\n",
       "      <td>Indicator for whether the date is the last day...</td>\n",
       "    </tr>\n",
       "    <tr>\n",
       "      <th>18</th>\n",
       "      <td>Series.dt.is_quarter_start</td>\n",
       "      <td>Indicator for whether the date is the first da...</td>\n",
       "    </tr>\n",
       "    <tr>\n",
       "      <th>19</th>\n",
       "      <td>Series.dt.is_quarter_end</td>\n",
       "      <td>Indicator for whether the date is the last day...</td>\n",
       "    </tr>\n",
       "    <tr>\n",
       "      <th>20</th>\n",
       "      <td>Series.dt.is_year_start</td>\n",
       "      <td>Indicate whether the date is the first day of ...</td>\n",
       "    </tr>\n",
       "    <tr>\n",
       "      <th>21</th>\n",
       "      <td>Series.dt.is_year_end</td>\n",
       "      <td>Indicate whether the date is the last day of t...</td>\n",
       "    </tr>\n",
       "    <tr>\n",
       "      <th>22</th>\n",
       "      <td>Series.dt.is_leap_year</td>\n",
       "      <td>Boolean indicator if the date belongs to a lea...</td>\n",
       "    </tr>\n",
       "    <tr>\n",
       "      <th>23</th>\n",
       "      <td>Series.dt.daysinmonth</td>\n",
       "      <td>The number of days in the month</td>\n",
       "    </tr>\n",
       "    <tr>\n",
       "      <th>24</th>\n",
       "      <td>Series.dt.days_in_month</td>\n",
       "      <td>The number of days in the month</td>\n",
       "    </tr>\n",
       "    <tr>\n",
       "      <th>25</th>\n",
       "      <td>Series.dt.tz</td>\n",
       "      <td>NaN</td>\n",
       "    </tr>\n",
       "    <tr>\n",
       "      <th>26</th>\n",
       "      <td>Series.dt.freq</td>\n",
       "      <td>NaN</td>\n",
       "    </tr>\n",
       "  </tbody>\n",
       "</table>\n",
       "</div>"
      ],
      "text/plain": [
       "                    Attributes  \\\n",
       "0               Series.dt.date   \n",
       "1               Series.dt.time   \n",
       "2               Series.dt.year   \n",
       "3              Series.dt.month   \n",
       "4                Series.dt.day   \n",
       "5               Series.dt.hour   \n",
       "6             Series.dt.minute   \n",
       "7             Series.dt.second   \n",
       "8        Series.dt.microsecond   \n",
       "9         Series.dt.nanosecond   \n",
       "10              Series.dt.week   \n",
       "11        Series.dt.weekofyear   \n",
       "12         Series.dt.dayofweek   \n",
       "13           Series.dt.weekday   \n",
       "14         Series.dt.dayofyear   \n",
       "15           Series.dt.quarter   \n",
       "16    Series.dt.is_month_start   \n",
       "17      Series.dt.is_month_end   \n",
       "18  Series.dt.is_quarter_start   \n",
       "19    Series.dt.is_quarter_end   \n",
       "20     Series.dt.is_year_start   \n",
       "21       Series.dt.is_year_end   \n",
       "22      Series.dt.is_leap_year   \n",
       "23       Series.dt.daysinmonth   \n",
       "24     Series.dt.days_in_month   \n",
       "25                Series.dt.tz   \n",
       "26              Series.dt.freq   \n",
       "\n",
       "                                          Description  \n",
       "0   Returns numpy array of python datetime.date ob...  \n",
       "1               Returns numpy array of datetime.time.  \n",
       "2                            The year of the datetime  \n",
       "3                 The month as January=1, December=12  \n",
       "4                            The days of the datetime  \n",
       "5                           The hours of the datetime  \n",
       "6                         The minutes of the datetime  \n",
       "7                         The seconds of the datetime  \n",
       "8                    The microseconds of the datetime  \n",
       "9                     The nanoseconds of the datetime  \n",
       "10                       The week ordinal of the year  \n",
       "11                       The week ordinal of the year  \n",
       "12        The day of the week with Monday=0, Sunday=6  \n",
       "13        The day of the week with Monday=0, Sunday=6  \n",
       "14                        The ordinal day of the year  \n",
       "15                            The quarter of the date  \n",
       "16  Logical indicating if first day of month (defi...  \n",
       "17  Indicator for whether the date is the last day...  \n",
       "18  Indicator for whether the date is the first da...  \n",
       "19  Indicator for whether the date is the last day...  \n",
       "20  Indicate whether the date is the first day of ...  \n",
       "21  Indicate whether the date is the last day of t...  \n",
       "22  Boolean indicator if the date belongs to a lea...  \n",
       "23                    The number of days in the month  \n",
       "24                    The number of days in the month  \n",
       "25                                                NaN  \n",
       "26                                                NaN  "
      ]
     },
     "execution_count": 3,
     "metadata": {},
     "output_type": "execute_result"
    }
   ],
   "source": [
    "dfs = pd.read_html('http://pandas.pydata.org/pandas-docs/stable/api.html', 'Series[.]dt[.]')\n",
    "\n",
    "dt_attr = dfs[0]\n",
    "dt_attr.columns = ['Attributes', 'Description']\n",
    "\n",
    "dt_methods = dfs[1]\n",
    "dt_methods.columns = ['Methods', 'Description']\n",
    "\n",
    "dt_attr"
   ]
  },
  {
   "cell_type": "code",
   "execution_count": 50,
   "metadata": {},
   "outputs": [
    {
     "data": {
      "text/html": [
       "<div>\n",
       "<style scoped>\n",
       "    .dataframe tbody tr th:only-of-type {\n",
       "        vertical-align: middle;\n",
       "    }\n",
       "\n",
       "    .dataframe tbody tr th {\n",
       "        vertical-align: top;\n",
       "    }\n",
       "\n",
       "    .dataframe thead th {\n",
       "        text-align: right;\n",
       "    }\n",
       "</style>\n",
       "<table border=\"1\" class=\"dataframe\">\n",
       "  <thead>\n",
       "    <tr style=\"text-align: right;\">\n",
       "      <th></th>\n",
       "      <th>Methods</th>\n",
       "      <th>Description</th>\n",
       "    </tr>\n",
       "  </thead>\n",
       "  <tbody>\n",
       "    <tr>\n",
       "      <th>0</th>\n",
       "      <td>Series.dt.to_period(*args, **kwargs)</td>\n",
       "      <td>Cast to PeriodIndex at a particular frequency.</td>\n",
       "    </tr>\n",
       "    <tr>\n",
       "      <th>1</th>\n",
       "      <td>Series.dt.to_pydatetime()</td>\n",
       "      <td>Return the data as an array of native Python d...</td>\n",
       "    </tr>\n",
       "    <tr>\n",
       "      <th>2</th>\n",
       "      <td>Series.dt.tz_localize(*args, **kwargs)</td>\n",
       "      <td>Localize tz-naive DatetimeIndex to tz-aware Da...</td>\n",
       "    </tr>\n",
       "    <tr>\n",
       "      <th>3</th>\n",
       "      <td>Series.dt.tz_convert(*args, **kwargs)</td>\n",
       "      <td>Convert tz-aware DatetimeIndex from one time z...</td>\n",
       "    </tr>\n",
       "    <tr>\n",
       "      <th>4</th>\n",
       "      <td>Series.dt.normalize(*args, **kwargs)</td>\n",
       "      <td>Convert times to midnight.</td>\n",
       "    </tr>\n",
       "    <tr>\n",
       "      <th>5</th>\n",
       "      <td>Series.dt.strftime(*args, **kwargs)</td>\n",
       "      <td>Convert to Index using specified date_format.</td>\n",
       "    </tr>\n",
       "    <tr>\n",
       "      <th>6</th>\n",
       "      <td>Series.dt.round(*args, **kwargs)</td>\n",
       "      <td>round the data to the specified freq.</td>\n",
       "    </tr>\n",
       "    <tr>\n",
       "      <th>7</th>\n",
       "      <td>Series.dt.floor(*args, **kwargs)</td>\n",
       "      <td>floor the data to the specified freq.</td>\n",
       "    </tr>\n",
       "    <tr>\n",
       "      <th>8</th>\n",
       "      <td>Series.dt.ceil(*args, **kwargs)</td>\n",
       "      <td>ceil the data to the specified freq.</td>\n",
       "    </tr>\n",
       "    <tr>\n",
       "      <th>9</th>\n",
       "      <td>Series.dt.month_name(*args, **kwargs)</td>\n",
       "      <td>Return the month names of the DateTimeIndex wi...</td>\n",
       "    </tr>\n",
       "    <tr>\n",
       "      <th>10</th>\n",
       "      <td>Series.dt.day_name(*args, **kwargs)</td>\n",
       "      <td>Return the day names of the DateTimeIndex with...</td>\n",
       "    </tr>\n",
       "  </tbody>\n",
       "</table>\n",
       "</div>"
      ],
      "text/plain": [
       "                                   Methods  \\\n",
       "0     Series.dt.to_period(*args, **kwargs)   \n",
       "1                Series.dt.to_pydatetime()   \n",
       "2   Series.dt.tz_localize(*args, **kwargs)   \n",
       "3    Series.dt.tz_convert(*args, **kwargs)   \n",
       "4     Series.dt.normalize(*args, **kwargs)   \n",
       "5      Series.dt.strftime(*args, **kwargs)   \n",
       "6         Series.dt.round(*args, **kwargs)   \n",
       "7         Series.dt.floor(*args, **kwargs)   \n",
       "8          Series.dt.ceil(*args, **kwargs)   \n",
       "9    Series.dt.month_name(*args, **kwargs)   \n",
       "10     Series.dt.day_name(*args, **kwargs)   \n",
       "\n",
       "                                          Description  \n",
       "0      Cast to PeriodIndex at a particular frequency.  \n",
       "1   Return the data as an array of native Python d...  \n",
       "2   Localize tz-naive DatetimeIndex to tz-aware Da...  \n",
       "3   Convert tz-aware DatetimeIndex from one time z...  \n",
       "4                          Convert times to midnight.  \n",
       "5       Convert to Index using specified date_format.  \n",
       "6               round the data to the specified freq.  \n",
       "7               floor the data to the specified freq.  \n",
       "8                ceil the data to the specified freq.  \n",
       "9   Return the month names of the DateTimeIndex wi...  \n",
       "10  Return the day names of the DateTimeIndex with...  "
      ]
     },
     "execution_count": 50,
     "metadata": {},
     "output_type": "execute_result"
    }
   ],
   "source": [
    "dt_methods"
   ]
  },
  {
   "cell_type": "markdown",
   "metadata": {},
   "source": [
    "### Only available for Series\n",
    "The **`dt`** accessor (and **`str`**) are only available to Series objects and not DataFrames. You will have to select a single Series first in order to use it. Let's select the **`starttime`** column as a Series and output the public datetime attributes and methods.\n",
    "\n",
    "[1]: http://pandas.pydata.org/pandas-docs/stable/api.html#datetimelike-properties"
   ]
  },
  {
   "cell_type": "code",
   "execution_count": 4,
   "metadata": {},
   "outputs": [],
   "source": [
    "start = bikes['starttime']"
   ]
  },
  {
   "cell_type": "markdown",
   "metadata": {},
   "source": [
    "### Datetime attributes and methods are simpler than strings\n",
    "Almost all the attributes and methods available for datetimes are simple and straightforward. Let's take a look at some of them. We will output the head of the Series so that we can visually verify the results of the attributes and methods."
   ]
  },
  {
   "cell_type": "code",
   "execution_count": 5,
   "metadata": {},
   "outputs": [
    {
     "data": {
      "text/plain": [
       "0   2013-06-28 19:01:00\n",
       "1   2013-06-28 22:53:00\n",
       "2   2013-06-30 14:43:00\n",
       "3   2013-07-01 10:05:00\n",
       "4   2013-07-01 11:16:00\n",
       "Name: starttime, dtype: datetime64[ns]"
      ]
     },
     "execution_count": 5,
     "metadata": {},
     "output_type": "execute_result"
    }
   ],
   "source": [
    "start.head()"
   ]
  },
  {
   "cell_type": "markdown",
   "metadata": {},
   "source": [
    "There are many attributes that return a particular part of the datetime such as **`year, month, day, hour, minute, second`**, etc..."
   ]
  },
  {
   "cell_type": "code",
   "execution_count": 6,
   "metadata": {},
   "outputs": [
    {
     "data": {
      "text/plain": [
       "0    2013\n",
       "1    2013\n",
       "2    2013\n",
       "3    2013\n",
       "4    2013\n",
       "Name: starttime, dtype: int64"
      ]
     },
     "execution_count": 6,
     "metadata": {},
     "output_type": "execute_result"
    }
   ],
   "source": [
    "start.dt.year.head()"
   ]
  },
  {
   "cell_type": "code",
   "execution_count": 7,
   "metadata": {},
   "outputs": [
    {
     "data": {
      "text/plain": [
       "0    6\n",
       "1    6\n",
       "2    6\n",
       "3    7\n",
       "4    7\n",
       "Name: starttime, dtype: int64"
      ]
     },
     "execution_count": 7,
     "metadata": {},
     "output_type": "execute_result"
    }
   ],
   "source": [
    "start.dt.month.head()"
   ]
  },
  {
   "cell_type": "code",
   "execution_count": 8,
   "metadata": {},
   "outputs": [
    {
     "data": {
      "text/plain": [
       "0     1\n",
       "1    53\n",
       "2    43\n",
       "3     5\n",
       "4    16\n",
       "Name: starttime, dtype: int64"
      ]
     },
     "execution_count": 8,
     "metadata": {},
     "output_type": "execute_result"
    }
   ],
   "source": [
    "start.dt.minute.head()"
   ]
  },
  {
   "cell_type": "code",
   "execution_count": 9,
   "metadata": {},
   "outputs": [
    {
     "data": {
      "text/plain": [
       "0    4\n",
       "1    4\n",
       "2    6\n",
       "3    0\n",
       "4    0\n",
       "Name: starttime, dtype: int64"
      ]
     },
     "execution_count": 9,
     "metadata": {},
     "output_type": "execute_result"
    }
   ],
   "source": [
    "# monday is 0\n",
    "start.dt.dayofweek.head()"
   ]
  },
  {
   "cell_type": "code",
   "execution_count": 10,
   "metadata": {},
   "outputs": [
    {
     "data": {
      "text/plain": [
       "0    26\n",
       "1    26\n",
       "2    26\n",
       "3    27\n",
       "4    27\n",
       "Name: starttime, dtype: int64"
      ]
     },
     "execution_count": 10,
     "metadata": {},
     "output_type": "execute_result"
    }
   ],
   "source": [
    "# week of year\n",
    "start.dt.week.head()"
   ]
  },
  {
   "cell_type": "markdown",
   "metadata": {},
   "source": [
    "## Datetime methods\n",
    "There are actually only a few methods that exist with the most useful being **`ceil`**, **`round`**, **`floor`**, **`strftime`**, and **`to_period`**. To use these methods you will need to be familiar with the [offset aliases][1], which are short strings, usually one character, that represent an element of time.\n",
    "\n",
    "* **`D`** - day\n",
    "* **`H`** - hour\n",
    "* **`T`** or **`min`** - minute\n",
    "* **`S`** - second\n",
    "\n",
    "[1]: http://pandas.pydata.org/pandas-docs/stable/timeseries.html#offset-aliases"
   ]
  },
  {
   "cell_type": "markdown",
   "metadata": {},
   "source": [
    "### Scrape the offset aliases and output them in the notebook"
   ]
  },
  {
   "cell_type": "code",
   "execution_count": 11,
   "metadata": {},
   "outputs": [
    {
     "data": {
      "text/html": [
       "<div>\n",
       "<style scoped>\n",
       "    .dataframe tbody tr th:only-of-type {\n",
       "        vertical-align: middle;\n",
       "    }\n",
       "\n",
       "    .dataframe tbody tr th {\n",
       "        vertical-align: top;\n",
       "    }\n",
       "\n",
       "    .dataframe thead th {\n",
       "        text-align: right;\n",
       "    }\n",
       "</style>\n",
       "<table border=\"1\" class=\"dataframe\">\n",
       "  <thead>\n",
       "    <tr style=\"text-align: right;\">\n",
       "      <th></th>\n",
       "      <th>Alias</th>\n",
       "      <th>Description</th>\n",
       "    </tr>\n",
       "  </thead>\n",
       "  <tbody>\n",
       "    <tr>\n",
       "      <th>0</th>\n",
       "      <td>B</td>\n",
       "      <td>business day frequency</td>\n",
       "    </tr>\n",
       "    <tr>\n",
       "      <th>1</th>\n",
       "      <td>C</td>\n",
       "      <td>custom business day frequency</td>\n",
       "    </tr>\n",
       "    <tr>\n",
       "      <th>2</th>\n",
       "      <td>D</td>\n",
       "      <td>calendar day frequency</td>\n",
       "    </tr>\n",
       "    <tr>\n",
       "      <th>3</th>\n",
       "      <td>W</td>\n",
       "      <td>weekly frequency</td>\n",
       "    </tr>\n",
       "    <tr>\n",
       "      <th>4</th>\n",
       "      <td>M</td>\n",
       "      <td>month end frequency</td>\n",
       "    </tr>\n",
       "    <tr>\n",
       "      <th>5</th>\n",
       "      <td>SM</td>\n",
       "      <td>semi-month end frequency (15th and end of month)</td>\n",
       "    </tr>\n",
       "    <tr>\n",
       "      <th>6</th>\n",
       "      <td>BM</td>\n",
       "      <td>business month end frequency</td>\n",
       "    </tr>\n",
       "    <tr>\n",
       "      <th>7</th>\n",
       "      <td>CBM</td>\n",
       "      <td>custom business month end frequency</td>\n",
       "    </tr>\n",
       "    <tr>\n",
       "      <th>8</th>\n",
       "      <td>MS</td>\n",
       "      <td>month start frequency</td>\n",
       "    </tr>\n",
       "    <tr>\n",
       "      <th>9</th>\n",
       "      <td>SMS</td>\n",
       "      <td>semi-month start frequency (1st and 15th)</td>\n",
       "    </tr>\n",
       "    <tr>\n",
       "      <th>10</th>\n",
       "      <td>BMS</td>\n",
       "      <td>business month start frequency</td>\n",
       "    </tr>\n",
       "    <tr>\n",
       "      <th>11</th>\n",
       "      <td>CBMS</td>\n",
       "      <td>custom business month start frequency</td>\n",
       "    </tr>\n",
       "    <tr>\n",
       "      <th>12</th>\n",
       "      <td>Q</td>\n",
       "      <td>quarter end frequency</td>\n",
       "    </tr>\n",
       "    <tr>\n",
       "      <th>13</th>\n",
       "      <td>BQ</td>\n",
       "      <td>business quarter end frequency</td>\n",
       "    </tr>\n",
       "    <tr>\n",
       "      <th>14</th>\n",
       "      <td>QS</td>\n",
       "      <td>quarter start frequency</td>\n",
       "    </tr>\n",
       "    <tr>\n",
       "      <th>15</th>\n",
       "      <td>BQS</td>\n",
       "      <td>business quarter start frequency</td>\n",
       "    </tr>\n",
       "    <tr>\n",
       "      <th>16</th>\n",
       "      <td>A, Y</td>\n",
       "      <td>year end frequency</td>\n",
       "    </tr>\n",
       "    <tr>\n",
       "      <th>17</th>\n",
       "      <td>BA, BY</td>\n",
       "      <td>business year end frequency</td>\n",
       "    </tr>\n",
       "    <tr>\n",
       "      <th>18</th>\n",
       "      <td>AS, YS</td>\n",
       "      <td>year start frequency</td>\n",
       "    </tr>\n",
       "    <tr>\n",
       "      <th>19</th>\n",
       "      <td>BAS, BYS</td>\n",
       "      <td>business year start frequency</td>\n",
       "    </tr>\n",
       "    <tr>\n",
       "      <th>20</th>\n",
       "      <td>BH</td>\n",
       "      <td>business hour frequency</td>\n",
       "    </tr>\n",
       "    <tr>\n",
       "      <th>21</th>\n",
       "      <td>H</td>\n",
       "      <td>hourly frequency</td>\n",
       "    </tr>\n",
       "    <tr>\n",
       "      <th>22</th>\n",
       "      <td>T, min</td>\n",
       "      <td>minutely frequency</td>\n",
       "    </tr>\n",
       "    <tr>\n",
       "      <th>23</th>\n",
       "      <td>S</td>\n",
       "      <td>secondly frequency</td>\n",
       "    </tr>\n",
       "    <tr>\n",
       "      <th>24</th>\n",
       "      <td>L, ms</td>\n",
       "      <td>milliseconds</td>\n",
       "    </tr>\n",
       "    <tr>\n",
       "      <th>25</th>\n",
       "      <td>U, us</td>\n",
       "      <td>microseconds</td>\n",
       "    </tr>\n",
       "    <tr>\n",
       "      <th>26</th>\n",
       "      <td>N</td>\n",
       "      <td>nanoseconds</td>\n",
       "    </tr>\n",
       "  </tbody>\n",
       "</table>\n",
       "</div>"
      ],
      "text/plain": [
       "       Alias                                       Description\n",
       "0          B                            business day frequency\n",
       "1          C                     custom business day frequency\n",
       "2          D                            calendar day frequency\n",
       "3          W                                  weekly frequency\n",
       "4          M                               month end frequency\n",
       "5         SM  semi-month end frequency (15th and end of month)\n",
       "6         BM                      business month end frequency\n",
       "7        CBM               custom business month end frequency\n",
       "8         MS                             month start frequency\n",
       "9        SMS         semi-month start frequency (1st and 15th)\n",
       "10       BMS                    business month start frequency\n",
       "11      CBMS             custom business month start frequency\n",
       "12         Q                             quarter end frequency\n",
       "13        BQ                    business quarter end frequency\n",
       "14        QS                           quarter start frequency\n",
       "15       BQS                  business quarter start frequency\n",
       "16      A, Y                                year end frequency\n",
       "17    BA, BY                       business year end frequency\n",
       "18    AS, YS                              year start frequency\n",
       "19  BAS, BYS                     business year start frequency\n",
       "20        BH                           business hour frequency\n",
       "21         H                                  hourly frequency\n",
       "22    T, min                                minutely frequency\n",
       "23         S                                secondly frequency\n",
       "24     L, ms                                      milliseconds\n",
       "25     U, us                                      microseconds\n",
       "26         N                                       nanoseconds"
      ]
     },
     "execution_count": 11,
     "metadata": {},
     "output_type": "execute_result"
    }
   ],
   "source": [
    "dfs = pd.read_html('http://pandas.pydata.org/pandas-docs/stable/timeseries.html', \n",
    "                   match='business day frequency',\n",
    "                   attrs={'class' :\"colwidths-given docutils\"})\n",
    "offset_aliases = dfs[0]\n",
    "offset_aliases"
   ]
  },
  {
   "cell_type": "markdown",
   "metadata": {},
   "source": [
    "### Use offset aliases with datetime methods"
   ]
  },
  {
   "cell_type": "code",
   "execution_count": 12,
   "metadata": {},
   "outputs": [
    {
     "data": {
      "text/plain": [
       "0   2013-06-28 19:01:00\n",
       "1   2013-06-28 22:53:00\n",
       "2   2013-06-30 14:43:00\n",
       "3   2013-07-01 10:05:00\n",
       "4   2013-07-01 11:16:00\n",
       "Name: starttime, dtype: datetime64[ns]"
      ]
     },
     "execution_count": 12,
     "metadata": {},
     "output_type": "execute_result"
    }
   ],
   "source": [
    "start.head()"
   ]
  },
  {
   "cell_type": "markdown",
   "metadata": {},
   "source": [
    "## `ceil` rounds up to nearest unit"
   ]
  },
  {
   "cell_type": "markdown",
   "metadata": {},
   "source": [
    "Round up to nearest hour:"
   ]
  },
  {
   "cell_type": "code",
   "execution_count": 13,
   "metadata": {},
   "outputs": [
    {
     "data": {
      "text/plain": [
       "0   2013-06-28 20:00:00\n",
       "1   2013-06-28 23:00:00\n",
       "2   2013-06-30 15:00:00\n",
       "3   2013-07-01 11:00:00\n",
       "4   2013-07-01 12:00:00\n",
       "Name: starttime, dtype: datetime64[ns]"
      ]
     },
     "execution_count": 13,
     "metadata": {},
     "output_type": "execute_result"
    }
   ],
   "source": [
    "start.dt.ceil('H').head()"
   ]
  },
  {
   "cell_type": "markdown",
   "metadata": {},
   "source": [
    "Round up to nearest day:"
   ]
  },
  {
   "cell_type": "code",
   "execution_count": 14,
   "metadata": {},
   "outputs": [
    {
     "data": {
      "text/plain": [
       "0   2013-06-29\n",
       "1   2013-06-29\n",
       "2   2013-07-01\n",
       "3   2013-07-02\n",
       "4   2013-07-02\n",
       "Name: starttime, dtype: datetime64[ns]"
      ]
     },
     "execution_count": 14,
     "metadata": {},
     "output_type": "execute_result"
    }
   ],
   "source": [
    "start.dt.ceil('D').head()"
   ]
  },
  {
   "cell_type": "markdown",
   "metadata": {},
   "source": [
    "**`floor`** rounds down:"
   ]
  },
  {
   "cell_type": "code",
   "execution_count": 15,
   "metadata": {},
   "outputs": [
    {
     "data": {
      "text/plain": [
       "0   2013-06-28 19:01:00\n",
       "1   2013-06-28 22:53:00\n",
       "2   2013-06-30 14:43:00\n",
       "3   2013-07-01 10:05:00\n",
       "4   2013-07-01 11:16:00\n",
       "Name: starttime, dtype: datetime64[ns]"
      ]
     },
     "execution_count": 15,
     "metadata": {},
     "output_type": "execute_result"
    }
   ],
   "source": [
    "start.dt.floor('min').head()"
   ]
  },
  {
   "cell_type": "markdown",
   "metadata": {},
   "source": [
    "**`round`** rounds normally to nearest whole unit."
   ]
  },
  {
   "cell_type": "code",
   "execution_count": 16,
   "metadata": {},
   "outputs": [
    {
     "data": {
      "text/plain": [
       "0   2013-06-28 19:00:00\n",
       "1   2013-06-28 23:00:00\n",
       "2   2013-06-30 15:00:00\n",
       "3   2013-07-01 10:00:00\n",
       "4   2013-07-01 11:00:00\n",
       "Name: starttime, dtype: datetime64[ns]"
      ]
     },
     "execution_count": 16,
     "metadata": {},
     "output_type": "execute_result"
    }
   ],
   "source": [
    "start.dt.round('H').head()"
   ]
  },
  {
   "cell_type": "markdown",
   "metadata": {},
   "source": [
    "# Exercises"
   ]
  },
  {
   "cell_type": "markdown",
   "metadata": {},
   "source": [
    "### Problem 1\n",
    "<span  style=\"color:green; font-size:16px\">What percentage of bike rides happen in January?</span>"
   ]
  },
  {
   "cell_type": "code",
   "execution_count": 38,
   "metadata": {},
   "outputs": [
    {
     "data": {
      "text/plain": [
       "8     0.137375\n",
       "7     0.132245\n",
       "9     0.130168\n",
       "6     0.120525\n",
       "10    0.111102\n",
       "5     0.086227\n",
       "11    0.071433\n",
       "4     0.064286\n",
       "12    0.045000\n",
       "3     0.044101\n",
       "2     0.030346\n",
       "1     0.027192\n",
       "Name: starttime, dtype: float64"
      ]
     },
     "execution_count": 38,
     "metadata": {},
     "output_type": "execute_result"
    }
   ],
   "source": [
    "# your code here\n",
    "start.dt.month.value_counts(normalize=True)"
   ]
  },
  {
   "cell_type": "markdown",
   "metadata": {},
   "source": [
    "### Problem 2\n",
    "<span  style=\"color:green; font-size:16px\">What percentage of bike rides happen on the weekend?</span>"
   ]
  },
  {
   "cell_type": "code",
   "execution_count": 33,
   "metadata": {},
   "outputs": [
    {
     "data": {
      "text/plain": [
       "0.19692946555131866"
      ]
     },
     "execution_count": 33,
     "metadata": {},
     "output_type": "execute_result"
    }
   ],
   "source": [
    "# your code here\n",
    "filt1 = start.dt.dayofweek == 5\n",
    "filt2 = start.dt.dayofweek == 6\n",
    "filt = filt1 | filt2 \n",
    "filt.mean()"
   ]
  },
  {
   "cell_type": "markdown",
   "metadata": {},
   "source": [
    "### Problem 3\n",
    "<span  style=\"color:green; font-size:16px\">What percentage of bike rides happen on the last day of the month?</span>"
   ]
  },
  {
   "cell_type": "code",
   "execution_count": 39,
   "metadata": {},
   "outputs": [
    {
     "data": {
      "text/plain": [
       "0.031563816406795904"
      ]
     },
     "execution_count": 39,
     "metadata": {},
     "output_type": "execute_result"
    }
   ],
   "source": [
    "# your code here\n",
    "start.dt.is_month_end.mean()"
   ]
  },
  {
   "cell_type": "markdown",
   "metadata": {},
   "source": [
    "### Problem 4\n",
    "<span  style=\"color:green; font-size:16px\">We would expect that the value of the minutes recorded for each starting ride is approximately random. Can you show some data that confirms or rejects this?</span>"
   ]
  },
  {
   "cell_type": "code",
   "execution_count": 47,
   "metadata": {},
   "outputs": [
    {
     "data": {
      "text/plain": [
       "12    0.017968\n",
       "6     0.017928\n",
       "8     0.017868\n",
       "18    0.017808\n",
       "43    0.017629\n",
       "21    0.017549\n",
       "10    0.017529\n",
       "48    0.017509\n",
       "44    0.017449\n",
       "15    0.017409\n",
       "53    0.017349\n",
       "17    0.017329\n",
       "37    0.017309\n",
       "13    0.017289\n",
       "19    0.017269\n",
       "33    0.017229\n",
       "42    0.017229\n",
       "39    0.017189\n",
       "24    0.017189\n",
       "22    0.017110\n",
       "34    0.017070\n",
       "29    0.017070\n",
       "45    0.016950\n",
       "5     0.016890\n",
       "36    0.016870\n",
       "11    0.016870\n",
       "14    0.016870\n",
       "49    0.016850\n",
       "47    0.016830\n",
       "30    0.016810\n",
       "16    0.016710\n",
       "32    0.016670\n",
       "38    0.016630\n",
       "1     0.016630\n",
       "40    0.016531\n",
       "7     0.016491\n",
       "2     0.016471\n",
       "46    0.016471\n",
       "4     0.016391\n",
       "23    0.016331\n",
       "54    0.016311\n",
       "57    0.016291\n",
       "3     0.016251\n",
       "28    0.016091\n",
       "35    0.016071\n",
       "59    0.016071\n",
       "56    0.016031\n",
       "0     0.015932\n",
       "58    0.015912\n",
       "50    0.015872\n",
       "31    0.015872\n",
       "55    0.015852\n",
       "9     0.015812\n",
       "27    0.015812\n",
       "41    0.015712\n",
       "20    0.015612\n",
       "25    0.015512\n",
       "52    0.015253\n",
       "51    0.015213\n",
       "26    0.014973\n",
       "Name: starttime, dtype: float64"
      ]
     },
     "execution_count": 47,
     "metadata": {},
     "output_type": "execute_result"
    }
   ],
   "source": [
    "# your code here\n",
    "\n",
    "start.dt.minute.value_counts(normalize=True)"
   ]
  },
  {
   "cell_type": "markdown",
   "metadata": {},
   "source": [
    "### Problem 5\n",
    "<span  style=\"color:green; font-size:16px\">Assign the length of the ride to `ride_length`. Then find the percentage of rides that lasted longer than 30 minutes.</span>"
   ]
  },
  {
   "cell_type": "code",
   "execution_count": 40,
   "metadata": {},
   "outputs": [
    {
     "data": {
      "text/html": [
       "<div>\n",
       "<style scoped>\n",
       "    .dataframe tbody tr th:only-of-type {\n",
       "        vertical-align: middle;\n",
       "    }\n",
       "\n",
       "    .dataframe tbody tr th {\n",
       "        vertical-align: top;\n",
       "    }\n",
       "\n",
       "    .dataframe thead th {\n",
       "        text-align: right;\n",
       "    }\n",
       "</style>\n",
       "<table border=\"1\" class=\"dataframe\">\n",
       "  <thead>\n",
       "    <tr style=\"text-align: right;\">\n",
       "      <th></th>\n",
       "      <th>trip_id</th>\n",
       "      <th>usertype</th>\n",
       "      <th>gender</th>\n",
       "      <th>starttime</th>\n",
       "      <th>stoptime</th>\n",
       "      <th>tripduration</th>\n",
       "      <th>from_station_name</th>\n",
       "      <th>latitude_start</th>\n",
       "      <th>longitude_start</th>\n",
       "      <th>dpcapacity_start</th>\n",
       "      <th>to_station_name</th>\n",
       "      <th>latitude_end</th>\n",
       "      <th>longitude_end</th>\n",
       "      <th>dpcapacity_end</th>\n",
       "      <th>temperature</th>\n",
       "      <th>visibility</th>\n",
       "      <th>wind_speed</th>\n",
       "      <th>precipitation</th>\n",
       "      <th>events</th>\n",
       "    </tr>\n",
       "  </thead>\n",
       "  <tbody>\n",
       "    <tr>\n",
       "      <th>0</th>\n",
       "      <td>7147</td>\n",
       "      <td>Subscriber</td>\n",
       "      <td>Male</td>\n",
       "      <td>2013-06-28 19:01:00</td>\n",
       "      <td>2013-06-28 19:17:00</td>\n",
       "      <td>993</td>\n",
       "      <td>Lake Shore Dr &amp; Monroe St</td>\n",
       "      <td>41.881050</td>\n",
       "      <td>-87.616970</td>\n",
       "      <td>11.0</td>\n",
       "      <td>Michigan Ave &amp; Oak St</td>\n",
       "      <td>41.900960</td>\n",
       "      <td>-87.623777</td>\n",
       "      <td>15.0</td>\n",
       "      <td>73.9</td>\n",
       "      <td>10.0</td>\n",
       "      <td>12.7</td>\n",
       "      <td>-9999.0</td>\n",
       "      <td>mostlycloudy</td>\n",
       "    </tr>\n",
       "    <tr>\n",
       "      <th>1</th>\n",
       "      <td>7524</td>\n",
       "      <td>Subscriber</td>\n",
       "      <td>Male</td>\n",
       "      <td>2013-06-28 22:53:00</td>\n",
       "      <td>2013-06-28 23:03:00</td>\n",
       "      <td>623</td>\n",
       "      <td>Clinton St &amp; Washington Blvd</td>\n",
       "      <td>41.883380</td>\n",
       "      <td>-87.641170</td>\n",
       "      <td>31.0</td>\n",
       "      <td>Wells St &amp; Walton St</td>\n",
       "      <td>41.899930</td>\n",
       "      <td>-87.634430</td>\n",
       "      <td>19.0</td>\n",
       "      <td>69.1</td>\n",
       "      <td>10.0</td>\n",
       "      <td>6.9</td>\n",
       "      <td>-9999.0</td>\n",
       "      <td>partlycloudy</td>\n",
       "    </tr>\n",
       "    <tr>\n",
       "      <th>2</th>\n",
       "      <td>10927</td>\n",
       "      <td>Subscriber</td>\n",
       "      <td>Male</td>\n",
       "      <td>2013-06-30 14:43:00</td>\n",
       "      <td>2013-06-30 15:01:00</td>\n",
       "      <td>1040</td>\n",
       "      <td>Sheffield Ave &amp; Kingsbury St</td>\n",
       "      <td>41.909592</td>\n",
       "      <td>-87.653497</td>\n",
       "      <td>15.0</td>\n",
       "      <td>Dearborn St &amp; Monroe St</td>\n",
       "      <td>41.881320</td>\n",
       "      <td>-87.629521</td>\n",
       "      <td>23.0</td>\n",
       "      <td>73.0</td>\n",
       "      <td>10.0</td>\n",
       "      <td>16.1</td>\n",
       "      <td>-9999.0</td>\n",
       "      <td>mostlycloudy</td>\n",
       "    </tr>\n",
       "    <tr>\n",
       "      <th>3</th>\n",
       "      <td>12907</td>\n",
       "      <td>Subscriber</td>\n",
       "      <td>Male</td>\n",
       "      <td>2013-07-01 10:05:00</td>\n",
       "      <td>2013-07-01 10:16:00</td>\n",
       "      <td>667</td>\n",
       "      <td>Carpenter St &amp; Huron St</td>\n",
       "      <td>41.894556</td>\n",
       "      <td>-87.653449</td>\n",
       "      <td>19.0</td>\n",
       "      <td>Clark St &amp; Randolph St</td>\n",
       "      <td>41.884576</td>\n",
       "      <td>-87.631890</td>\n",
       "      <td>31.0</td>\n",
       "      <td>72.0</td>\n",
       "      <td>10.0</td>\n",
       "      <td>16.1</td>\n",
       "      <td>-9999.0</td>\n",
       "      <td>mostlycloudy</td>\n",
       "    </tr>\n",
       "    <tr>\n",
       "      <th>4</th>\n",
       "      <td>13168</td>\n",
       "      <td>Subscriber</td>\n",
       "      <td>Male</td>\n",
       "      <td>2013-07-01 11:16:00</td>\n",
       "      <td>2013-07-01 11:18:00</td>\n",
       "      <td>130</td>\n",
       "      <td>Damen Ave &amp; Pierce Ave</td>\n",
       "      <td>41.909396</td>\n",
       "      <td>-87.677692</td>\n",
       "      <td>19.0</td>\n",
       "      <td>Damen Ave &amp; Pierce Ave</td>\n",
       "      <td>41.909396</td>\n",
       "      <td>-87.677692</td>\n",
       "      <td>19.0</td>\n",
       "      <td>73.0</td>\n",
       "      <td>10.0</td>\n",
       "      <td>17.3</td>\n",
       "      <td>-9999.0</td>\n",
       "      <td>partlycloudy</td>\n",
       "    </tr>\n",
       "  </tbody>\n",
       "</table>\n",
       "</div>"
      ],
      "text/plain": [
       "   trip_id    usertype gender           starttime            stoptime  \\\n",
       "0     7147  Subscriber   Male 2013-06-28 19:01:00 2013-06-28 19:17:00   \n",
       "1     7524  Subscriber   Male 2013-06-28 22:53:00 2013-06-28 23:03:00   \n",
       "2    10927  Subscriber   Male 2013-06-30 14:43:00 2013-06-30 15:01:00   \n",
       "3    12907  Subscriber   Male 2013-07-01 10:05:00 2013-07-01 10:16:00   \n",
       "4    13168  Subscriber   Male 2013-07-01 11:16:00 2013-07-01 11:18:00   \n",
       "\n",
       "   tripduration             from_station_name  latitude_start  \\\n",
       "0           993     Lake Shore Dr & Monroe St       41.881050   \n",
       "1           623  Clinton St & Washington Blvd       41.883380   \n",
       "2          1040  Sheffield Ave & Kingsbury St       41.909592   \n",
       "3           667       Carpenter St & Huron St       41.894556   \n",
       "4           130        Damen Ave & Pierce Ave       41.909396   \n",
       "\n",
       "   longitude_start  dpcapacity_start          to_station_name  latitude_end  \\\n",
       "0       -87.616970              11.0    Michigan Ave & Oak St     41.900960   \n",
       "1       -87.641170              31.0     Wells St & Walton St     41.899930   \n",
       "2       -87.653497              15.0  Dearborn St & Monroe St     41.881320   \n",
       "3       -87.653449              19.0   Clark St & Randolph St     41.884576   \n",
       "4       -87.677692              19.0   Damen Ave & Pierce Ave     41.909396   \n",
       "\n",
       "   longitude_end  dpcapacity_end  temperature  visibility  wind_speed  \\\n",
       "0     -87.623777            15.0         73.9        10.0        12.7   \n",
       "1     -87.634430            19.0         69.1        10.0         6.9   \n",
       "2     -87.629521            23.0         73.0        10.0        16.1   \n",
       "3     -87.631890            31.0         72.0        10.0        16.1   \n",
       "4     -87.677692            19.0         73.0        10.0        17.3   \n",
       "\n",
       "   precipitation        events  \n",
       "0        -9999.0  mostlycloudy  \n",
       "1        -9999.0  partlycloudy  \n",
       "2        -9999.0  mostlycloudy  \n",
       "3        -9999.0  mostlycloudy  \n",
       "4        -9999.0  partlycloudy  "
      ]
     },
     "execution_count": 40,
     "metadata": {},
     "output_type": "execute_result"
    }
   ],
   "source": [
    "# your code here\n",
    "bikes.head()"
   ]
  },
  {
   "cell_type": "code",
   "execution_count": 45,
   "metadata": {},
   "outputs": [
    {
     "data": {
      "text/plain": [
       "0   00:16:00\n",
       "1   00:10:00\n",
       "2   00:18:00\n",
       "3   00:11:00\n",
       "4   00:02:00\n",
       "dtype: timedelta64[ns]"
      ]
     },
     "execution_count": 45,
     "metadata": {},
     "output_type": "execute_result"
    }
   ],
   "source": [
    "stop = bikes['stoptime']\n",
    "ride_length = stop - start\n",
    "ride_length.head()"
   ]
  },
  {
   "cell_type": "code",
   "execution_count": 49,
   "metadata": {},
   "outputs": [
    {
     "data": {
      "text/plain": [
       "0.019625067380063487"
      ]
     },
     "execution_count": 49,
     "metadata": {},
     "output_type": "execute_result"
    }
   ],
   "source": [
    "(ride_length.dt.seconds > 30 * 60).mean()"
   ]
  },
  {
   "cell_type": "code",
   "execution_count": null,
   "metadata": {},
   "outputs": [],
   "source": []
  },
  {
   "cell_type": "code",
   "execution_count": null,
   "metadata": {},
   "outputs": [],
   "source": []
  },
  {
   "cell_type": "code",
   "execution_count": null,
   "metadata": {},
   "outputs": [],
   "source": []
  },
  {
   "cell_type": "markdown",
   "metadata": {},
   "source": [
    "# Explore the `dt` accessor"
   ]
  },
  {
   "cell_type": "code",
   "execution_count": null,
   "metadata": {},
   "outputs": [],
   "source": []
  },
  {
   "cell_type": "code",
   "execution_count": null,
   "metadata": {},
   "outputs": [],
   "source": []
  },
  {
   "cell_type": "code",
   "execution_count": null,
   "metadata": {},
   "outputs": [],
   "source": []
  },
  {
   "cell_type": "markdown",
   "metadata": {},
   "source": [
    "# Extra\n",
    "Some extra notes on the Period and Timedelta objects"
   ]
  },
  {
   "cell_type": "markdown",
   "metadata": {},
   "source": [
    "## Format time as a string with `strftime`\n",
    "The **`strftime`** stands for **str**ing **f**ormat **time**. It turns each datetime into a string object. You must consult [Python's documentation][1] to determine how you want your string to be formatted.\n",
    "\n",
    "[1]: https://docs.python.org/3/library/datetime.html#strftime-and-strptime-behavior"
   ]
  },
  {
   "cell_type": "code",
   "execution_count": 22,
   "metadata": {},
   "outputs": [
    {
     "data": {
      "text/plain": [
       "0    Friday, June 28, 2013 at 19:01:00\n",
       "1    Friday, June 28, 2013 at 22:53:00\n",
       "2    Sunday, June 30, 2013 at 14:43:00\n",
       "3    Monday, July 01, 2013 at 10:05:00\n",
       "4    Monday, July 01, 2013 at 11:16:00\n",
       "Name: starttime, dtype: object"
      ]
     },
     "execution_count": 22,
     "metadata": {},
     "output_type": "execute_result"
    }
   ],
   "source": [
    "start.dt.strftime('%A, %B %d, %Y at %X').head()"
   ]
  },
  {
   "cell_type": "markdown",
   "metadata": {},
   "source": [
    "## Convert to a Period object\n",
    "Period objects are special data types unique to pandas and simply represent an entire period of time such as the entire month of June, 2012 or the entire year 1998, or the entire minute of June 11, 2011 12:34 p.m.\n",
    "\n",
    "This contrasts with datetimes which represent a particular moment in time with nanosecond precision. Datetimes are always specific all the way down to a nanosecond.\n",
    "\n",
    "### Use offset aliases to convert to a period\n",
    "To convert to a period use the same [offset aliases](http://pandas.pydata.org/pandas-docs/stable/timeseries.html#offset-aliases) from above.\n",
    "\n",
    "Let's do some conversions: First to a month."
   ]
  },
  {
   "cell_type": "code",
   "execution_count": 23,
   "metadata": {},
   "outputs": [
    {
     "data": {
      "text/plain": [
       "0   2013-06\n",
       "1   2013-06\n",
       "2   2013-06\n",
       "3   2013-07\n",
       "4   2013-07\n",
       "Name: starttime, dtype: object"
      ]
     },
     "execution_count": 23,
     "metadata": {},
     "output_type": "execute_result"
    }
   ],
   "source": [
    "start.dt.to_period('M').head()"
   ]
  },
  {
   "cell_type": "markdown",
   "metadata": {},
   "source": [
    "Convert to a time span of an hour:"
   ]
  },
  {
   "cell_type": "code",
   "execution_count": 24,
   "metadata": {},
   "outputs": [
    {
     "data": {
      "text/plain": [
       "0   2013-06-28 19:00\n",
       "1   2013-06-28 22:00\n",
       "2   2013-06-30 14:00\n",
       "3   2013-07-01 10:00\n",
       "4   2013-07-01 11:00\n",
       "Name: starttime, dtype: object"
      ]
     },
     "execution_count": 24,
     "metadata": {},
     "output_type": "execute_result"
    }
   ],
   "source": [
    "start.dt.to_period('h').head()"
   ]
  },
  {
   "cell_type": "markdown",
   "metadata": {},
   "source": [
    "# Timedeltas\n",
    "Timedeltas are a separate data type that represent an amount of time such as 5 minutes and 34 seconds. The highest unit of a timedelta is days. Timedelta Series can also use the **`dt`** accessor.\n",
    "\n",
    "### Creating a Timedelta\n",
    "To create a timedelta, subtract two datetime Series from each other. Here, we select the stop time as a Series and subtract the **`start`** Series from it."
   ]
  },
  {
   "cell_type": "code",
   "execution_count": 25,
   "metadata": {},
   "outputs": [
    {
     "data": {
      "text/plain": [
       "0   00:16:00\n",
       "1   00:10:00\n",
       "2   00:18:00\n",
       "3   00:11:00\n",
       "4   00:02:00\n",
       "dtype: timedelta64[ns]"
      ]
     },
     "execution_count": 25,
     "metadata": {},
     "output_type": "execute_result"
    }
   ],
   "source": [
    "stop = bikes['stoptime']\n",
    "ride_length = stop - start\n",
    "ride_length.head()"
   ]
  },
  {
   "cell_type": "markdown",
   "metadata": {},
   "source": [
    "There are much fewer attributes and methods for timedeltas but they work the same way:"
   ]
  },
  {
   "cell_type": "code",
   "execution_count": null,
   "metadata": {},
   "outputs": [],
   "source": []
  }
 ],
 "metadata": {
  "kernelspec": {
   "display_name": "Python 3",
   "language": "python",
   "name": "python3"
  },
  "language_info": {
   "codemirror_mode": {
    "name": "ipython",
    "version": 3
   },
   "file_extension": ".py",
   "mimetype": "text/x-python",
   "name": "python",
   "nbconvert_exporter": "python",
   "pygments_lexer": "ipython3",
   "version": "3.6.5"
  },
  "varInspector": {
   "cols": {
    "lenName": 16,
    "lenType": 16,
    "lenVar": 40
   },
   "kernels_config": {
    "python": {
     "delete_cmd_postfix": "",
     "delete_cmd_prefix": "del ",
     "library": "var_list.py",
     "varRefreshCmd": "print(var_dic_list())"
    },
    "r": {
     "delete_cmd_postfix": ") ",
     "delete_cmd_prefix": "rm(",
     "library": "var_list.r",
     "varRefreshCmd": "cat(var_dic_list()) "
    }
   },
   "types_to_exclude": [
    "module",
    "function",
    "builtin_function_or_method",
    "instance",
    "_Feature"
   ],
   "window_display": false
  }
 },
 "nbformat": 4,
 "nbformat_minor": 2
}
