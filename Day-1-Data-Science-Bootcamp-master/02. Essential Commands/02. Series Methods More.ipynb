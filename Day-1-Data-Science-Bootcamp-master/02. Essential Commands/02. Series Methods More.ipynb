{
 "cells": [
  {
   "cell_type": "markdown",
   "metadata": {},
   "source": [
    "# 2. Series Methods More\n",
    "\n",
    "### Objectives\n",
    "\n",
    "+ Understand how to use the following methods to handle missing data: **`isna`**, **`notna`**, **`fillna`**, **`dropna`**\n",
    "+ Find the percentage of missing values by chaining the **`mean`** method to the **`isna`** method\n",
    "+ Sort values and the index with **`sort_values`** and **`sort_index`**\n",
    "+ Randomly **`sample`** a Series\n",
    "+ Find the index of the max and min with **`idxmax`** and **`idxmin`**\n",
    "+ Explore uniqueness with **`unique`**, **`nunique`** and **`drop_duplicates`**\n",
    "\n",
    "## Other Useful Methods\n",
    "In the previous notebook, we covered the most essential and common attributes and statistical methods for Pandas Series objects. In this notebook, we will cover several other useful and common methods from the [Series API](http://pandas.pydata.org/pandas-docs/stable/api.html#series)."
   ]
  },
  {
   "cell_type": "code",
   "execution_count": 1,
   "metadata": {},
   "outputs": [
    {
     "data": {
      "text/html": [
       "<div>\n",
       "<style scoped>\n",
       "    .dataframe tbody tr th:only-of-type {\n",
       "        vertical-align: middle;\n",
       "    }\n",
       "\n",
       "    .dataframe tbody tr th {\n",
       "        vertical-align: top;\n",
       "    }\n",
       "\n",
       "    .dataframe thead th {\n",
       "        text-align: right;\n",
       "    }\n",
       "</style>\n",
       "<table border=\"1\" class=\"dataframe\">\n",
       "  <thead>\n",
       "    <tr style=\"text-align: right;\">\n",
       "      <th></th>\n",
       "      <th>year</th>\n",
       "      <th>color</th>\n",
       "      <th>content_rating</th>\n",
       "      <th>duration</th>\n",
       "      <th>director_name</th>\n",
       "      <th>director_fb</th>\n",
       "      <th>actor1</th>\n",
       "      <th>actor1_fb</th>\n",
       "      <th>actor2</th>\n",
       "      <th>actor2_fb</th>\n",
       "      <th>...</th>\n",
       "      <th>actor3_fb</th>\n",
       "      <th>gross</th>\n",
       "      <th>genres</th>\n",
       "      <th>num_reviews</th>\n",
       "      <th>num_voted_users</th>\n",
       "      <th>plot_keywords</th>\n",
       "      <th>language</th>\n",
       "      <th>country</th>\n",
       "      <th>budget</th>\n",
       "      <th>imdb_score</th>\n",
       "    </tr>\n",
       "    <tr>\n",
       "      <th>title</th>\n",
       "      <th></th>\n",
       "      <th></th>\n",
       "      <th></th>\n",
       "      <th></th>\n",
       "      <th></th>\n",
       "      <th></th>\n",
       "      <th></th>\n",
       "      <th></th>\n",
       "      <th></th>\n",
       "      <th></th>\n",
       "      <th></th>\n",
       "      <th></th>\n",
       "      <th></th>\n",
       "      <th></th>\n",
       "      <th></th>\n",
       "      <th></th>\n",
       "      <th></th>\n",
       "      <th></th>\n",
       "      <th></th>\n",
       "      <th></th>\n",
       "      <th></th>\n",
       "    </tr>\n",
       "  </thead>\n",
       "  <tbody>\n",
       "    <tr>\n",
       "      <th>Avatar</th>\n",
       "      <td>2009.0</td>\n",
       "      <td>Color</td>\n",
       "      <td>PG-13</td>\n",
       "      <td>178.0</td>\n",
       "      <td>James Cameron</td>\n",
       "      <td>0.0</td>\n",
       "      <td>CCH Pounder</td>\n",
       "      <td>1000.0</td>\n",
       "      <td>Joel David Moore</td>\n",
       "      <td>936.0</td>\n",
       "      <td>...</td>\n",
       "      <td>855.0</td>\n",
       "      <td>760505847.0</td>\n",
       "      <td>Action|Adventure|Fantasy|Sci-Fi</td>\n",
       "      <td>723.0</td>\n",
       "      <td>886204</td>\n",
       "      <td>avatar|future|marine|native|paraplegic</td>\n",
       "      <td>English</td>\n",
       "      <td>USA</td>\n",
       "      <td>237000000.0</td>\n",
       "      <td>7.9</td>\n",
       "    </tr>\n",
       "    <tr>\n",
       "      <th>Pirates of the Caribbean: At World's End</th>\n",
       "      <td>2007.0</td>\n",
       "      <td>Color</td>\n",
       "      <td>PG-13</td>\n",
       "      <td>169.0</td>\n",
       "      <td>Gore Verbinski</td>\n",
       "      <td>563.0</td>\n",
       "      <td>Johnny Depp</td>\n",
       "      <td>40000.0</td>\n",
       "      <td>Orlando Bloom</td>\n",
       "      <td>5000.0</td>\n",
       "      <td>...</td>\n",
       "      <td>1000.0</td>\n",
       "      <td>309404152.0</td>\n",
       "      <td>Action|Adventure|Fantasy</td>\n",
       "      <td>302.0</td>\n",
       "      <td>471220</td>\n",
       "      <td>goddess|marriage ceremony|marriage proposal|pi...</td>\n",
       "      <td>English</td>\n",
       "      <td>USA</td>\n",
       "      <td>300000000.0</td>\n",
       "      <td>7.1</td>\n",
       "    </tr>\n",
       "    <tr>\n",
       "      <th>Spectre</th>\n",
       "      <td>2015.0</td>\n",
       "      <td>Color</td>\n",
       "      <td>PG-13</td>\n",
       "      <td>148.0</td>\n",
       "      <td>Sam Mendes</td>\n",
       "      <td>0.0</td>\n",
       "      <td>Christoph Waltz</td>\n",
       "      <td>11000.0</td>\n",
       "      <td>Rory Kinnear</td>\n",
       "      <td>393.0</td>\n",
       "      <td>...</td>\n",
       "      <td>161.0</td>\n",
       "      <td>200074175.0</td>\n",
       "      <td>Action|Adventure|Thriller</td>\n",
       "      <td>602.0</td>\n",
       "      <td>275868</td>\n",
       "      <td>bomb|espionage|sequel|spy|terrorist</td>\n",
       "      <td>English</td>\n",
       "      <td>UK</td>\n",
       "      <td>245000000.0</td>\n",
       "      <td>6.8</td>\n",
       "    </tr>\n",
       "    <tr>\n",
       "      <th>The Dark Knight Rises</th>\n",
       "      <td>2012.0</td>\n",
       "      <td>Color</td>\n",
       "      <td>PG-13</td>\n",
       "      <td>164.0</td>\n",
       "      <td>Christopher Nolan</td>\n",
       "      <td>22000.0</td>\n",
       "      <td>Tom Hardy</td>\n",
       "      <td>27000.0</td>\n",
       "      <td>Christian Bale</td>\n",
       "      <td>23000.0</td>\n",
       "      <td>...</td>\n",
       "      <td>23000.0</td>\n",
       "      <td>448130642.0</td>\n",
       "      <td>Action|Thriller</td>\n",
       "      <td>813.0</td>\n",
       "      <td>1144337</td>\n",
       "      <td>deception|imprisonment|lawlessness|police offi...</td>\n",
       "      <td>English</td>\n",
       "      <td>USA</td>\n",
       "      <td>250000000.0</td>\n",
       "      <td>8.5</td>\n",
       "    </tr>\n",
       "    <tr>\n",
       "      <th>Star Wars: Episode VII - The Force Awakens</th>\n",
       "      <td>NaN</td>\n",
       "      <td>NaN</td>\n",
       "      <td>NaN</td>\n",
       "      <td>NaN</td>\n",
       "      <td>Doug Walker</td>\n",
       "      <td>131.0</td>\n",
       "      <td>Doug Walker</td>\n",
       "      <td>131.0</td>\n",
       "      <td>Rob Walker</td>\n",
       "      <td>12.0</td>\n",
       "      <td>...</td>\n",
       "      <td>NaN</td>\n",
       "      <td>NaN</td>\n",
       "      <td>Documentary</td>\n",
       "      <td>NaN</td>\n",
       "      <td>8</td>\n",
       "      <td>NaN</td>\n",
       "      <td>NaN</td>\n",
       "      <td>NaN</td>\n",
       "      <td>NaN</td>\n",
       "      <td>7.1</td>\n",
       "    </tr>\n",
       "  </tbody>\n",
       "</table>\n",
       "<p>5 rows × 21 columns</p>\n",
       "</div>"
      ],
      "text/plain": [
       "                                              year  color content_rating  \\\n",
       "title                                                                      \n",
       "Avatar                                      2009.0  Color          PG-13   \n",
       "Pirates of the Caribbean: At World's End    2007.0  Color          PG-13   \n",
       "Spectre                                     2015.0  Color          PG-13   \n",
       "The Dark Knight Rises                       2012.0  Color          PG-13   \n",
       "Star Wars: Episode VII - The Force Awakens     NaN    NaN            NaN   \n",
       "\n",
       "                                            duration      director_name  \\\n",
       "title                                                                     \n",
       "Avatar                                         178.0      James Cameron   \n",
       "Pirates of the Caribbean: At World's End       169.0     Gore Verbinski   \n",
       "Spectre                                        148.0         Sam Mendes   \n",
       "The Dark Knight Rises                          164.0  Christopher Nolan   \n",
       "Star Wars: Episode VII - The Force Awakens       NaN        Doug Walker   \n",
       "\n",
       "                                            director_fb           actor1  \\\n",
       "title                                                                      \n",
       "Avatar                                              0.0      CCH Pounder   \n",
       "Pirates of the Caribbean: At World's End          563.0      Johnny Depp   \n",
       "Spectre                                             0.0  Christoph Waltz   \n",
       "The Dark Knight Rises                           22000.0        Tom Hardy   \n",
       "Star Wars: Episode VII - The Force Awakens        131.0      Doug Walker   \n",
       "\n",
       "                                            actor1_fb            actor2  \\\n",
       "title                                                                     \n",
       "Avatar                                         1000.0  Joel David Moore   \n",
       "Pirates of the Caribbean: At World's End      40000.0     Orlando Bloom   \n",
       "Spectre                                       11000.0      Rory Kinnear   \n",
       "The Dark Knight Rises                         27000.0    Christian Bale   \n",
       "Star Wars: Episode VII - The Force Awakens      131.0        Rob Walker   \n",
       "\n",
       "                                            actor2_fb     ...     actor3_fb  \\\n",
       "title                                                     ...                 \n",
       "Avatar                                          936.0     ...         855.0   \n",
       "Pirates of the Caribbean: At World's End       5000.0     ...        1000.0   \n",
       "Spectre                                         393.0     ...         161.0   \n",
       "The Dark Knight Rises                         23000.0     ...       23000.0   \n",
       "Star Wars: Episode VII - The Force Awakens       12.0     ...           NaN   \n",
       "\n",
       "                                                  gross  \\\n",
       "title                                                     \n",
       "Avatar                                      760505847.0   \n",
       "Pirates of the Caribbean: At World's End    309404152.0   \n",
       "Spectre                                     200074175.0   \n",
       "The Dark Knight Rises                       448130642.0   \n",
       "Star Wars: Episode VII - The Force Awakens          NaN   \n",
       "\n",
       "                                                                     genres  \\\n",
       "title                                                                         \n",
       "Avatar                                      Action|Adventure|Fantasy|Sci-Fi   \n",
       "Pirates of the Caribbean: At World's End           Action|Adventure|Fantasy   \n",
       "Spectre                                           Action|Adventure|Thriller   \n",
       "The Dark Knight Rises                                       Action|Thriller   \n",
       "Star Wars: Episode VII - The Force Awakens                      Documentary   \n",
       "\n",
       "                                           num_reviews  num_voted_users  \\\n",
       "title                                                                     \n",
       "Avatar                                           723.0           886204   \n",
       "Pirates of the Caribbean: At World's End         302.0           471220   \n",
       "Spectre                                          602.0           275868   \n",
       "The Dark Knight Rises                            813.0          1144337   \n",
       "Star Wars: Episode VII - The Force Awakens         NaN                8   \n",
       "\n",
       "                                                                                plot_keywords  \\\n",
       "title                                                                                           \n",
       "Avatar                                                 avatar|future|marine|native|paraplegic   \n",
       "Pirates of the Caribbean: At World's End    goddess|marriage ceremony|marriage proposal|pi...   \n",
       "Spectre                                                   bomb|espionage|sequel|spy|terrorist   \n",
       "The Dark Knight Rises                       deception|imprisonment|lawlessness|police offi...   \n",
       "Star Wars: Episode VII - The Force Awakens                                                NaN   \n",
       "\n",
       "                                           language country       budget  \\\n",
       "title                                                                      \n",
       "Avatar                                      English     USA  237000000.0   \n",
       "Pirates of the Caribbean: At World's End    English     USA  300000000.0   \n",
       "Spectre                                     English      UK  245000000.0   \n",
       "The Dark Knight Rises                       English     USA  250000000.0   \n",
       "Star Wars: Episode VII - The Force Awakens      NaN     NaN          NaN   \n",
       "\n",
       "                                            imdb_score  \n",
       "title                                                   \n",
       "Avatar                                             7.9  \n",
       "Pirates of the Caribbean: At World's End           7.1  \n",
       "Spectre                                            6.8  \n",
       "The Dark Knight Rises                              8.5  \n",
       "Star Wars: Episode VII - The Force Awakens         7.1  \n",
       "\n",
       "[5 rows x 21 columns]"
      ]
     },
     "execution_count": 1,
     "metadata": {},
     "output_type": "execute_result"
    }
   ],
   "source": [
    "import pandas as pd\n",
    "movie = pd.read_csv('../data/movie.csv', index_col='title')\n",
    "movie.head()"
   ]
  },
  {
   "cell_type": "code",
   "execution_count": 2,
   "metadata": {},
   "outputs": [
    {
     "data": {
      "text/plain": [
       "title\n",
       "Avatar                                        178.0\n",
       "Pirates of the Caribbean: At World's End      169.0\n",
       "Spectre                                       148.0\n",
       "The Dark Knight Rises                         164.0\n",
       "Star Wars: Episode VII - The Force Awakens      NaN\n",
       "Name: duration, dtype: float64"
      ]
     },
     "execution_count": 2,
     "metadata": {},
     "output_type": "execute_result"
    }
   ],
   "source": [
    "duration = movie['duration']\n",
    "duration.head()"
   ]
  },
  {
   "cell_type": "markdown",
   "metadata": {},
   "source": [
    "## Methods for handling missing values\n",
    "Pandas provides the following methods to handle missing values:\n",
    "\n",
    "* **`isna`** - Returns a Series of booleans based on whether each value is missing or not\n",
    "* **`notna`** - Exact opposite of **`isna`**\n",
    "* **`fillna`** - fills missing values in a variety of ways\n",
    "* **`dropna`** - Drops the missing values from the Series"
   ]
  },
  {
   "cell_type": "markdown",
   "metadata": {},
   "source": [
    "### Counting the number of missing values\n",
    "Pandas doesn't have a single method that counts the number of missing values, so you can find them in two ways. \n",
    "\n",
    "* Use the **`count`** method to find the number of non-missing values and subtract this from the total number of values\n",
    "* Use the **`isna`** method to return a Series of booleans and chain the **`sum`** method"
   ]
  },
  {
   "cell_type": "code",
   "execution_count": 3,
   "metadata": {},
   "outputs": [
    {
     "data": {
      "text/plain": [
       "15"
      ]
     },
     "execution_count": 3,
     "metadata": {},
     "output_type": "execute_result"
    }
   ],
   "source": [
    "len(duration) - duration.count()"
   ]
  },
  {
   "cell_type": "code",
   "execution_count": 4,
   "metadata": {},
   "outputs": [
    {
     "data": {
      "text/plain": [
       "15"
      ]
     },
     "execution_count": 4,
     "metadata": {},
     "output_type": "execute_result"
    }
   ],
   "source": [
    "duration.isna().sum()"
   ]
  },
  {
   "cell_type": "markdown",
   "metadata": {},
   "source": [
    "## Finding the percentage of missing values\n",
    "To find the percentage of missing values in a Series we can chain the **`mean`** method to the **`isna`** method."
   ]
  },
  {
   "cell_type": "code",
   "execution_count": 5,
   "metadata": {},
   "outputs": [
    {
     "data": {
      "text/plain": [
       "0.0030512611879576893"
      ]
     },
     "execution_count": 5,
     "metadata": {},
     "output_type": "execute_result"
    }
   ],
   "source": [
    "duration.isna().mean()"
   ]
  },
  {
   "cell_type": "markdown",
   "metadata": {},
   "source": [
    "### Alternate calculation\n",
    "The last calculation might be confusing. We could have alternatively been more explicit and calculated the percentage of missing values by dividing the number missing by the total size of the Series like this:"
   ]
  },
  {
   "cell_type": "code",
   "execution_count": 6,
   "metadata": {},
   "outputs": [
    {
     "data": {
      "text/plain": [
       "0.0030512611879576893"
      ]
     },
     "execution_count": 6,
     "metadata": {},
     "output_type": "execute_result"
    }
   ],
   "source": [
    "total = len(duration)\n",
    "num_missing = total - duration.count()\n",
    "num_missing / total"
   ]
  },
  {
   "cell_type": "markdown",
   "metadata": {},
   "source": [
    "### Why does taking the mean of the boolean Series work?\n",
    "The mean is defined as the sum divided by the total. The sum in this case is the sum of all **`True`** values which is just the number of missing values."
   ]
  },
  {
   "cell_type": "markdown",
   "metadata": {},
   "source": [
    "## Filling missing values\n",
    "Occasionally, it will be necessary to fill missing values. Pandas provides the **`fillna`** method to do so. There are many strategies on how to replace missing values. We will only cover how to fill the missing values with a constant here. A popular choice is to use the median or mean of the  Series."
   ]
  },
  {
   "cell_type": "code",
   "execution_count": 7,
   "metadata": {},
   "outputs": [
    {
     "data": {
      "text/plain": [
       "title\n",
       "Avatar                                        178.0\n",
       "Pirates of the Caribbean: At World's End      169.0\n",
       "Spectre                                       148.0\n",
       "The Dark Knight Rises                         164.0\n",
       "Star Wars: Episode VII - The Force Awakens      NaN\n",
       "Name: duration, dtype: float64"
      ]
     },
     "execution_count": 7,
     "metadata": {},
     "output_type": "execute_result"
    }
   ],
   "source": [
    "duration.head()"
   ]
  },
  {
   "cell_type": "markdown",
   "metadata": {},
   "source": [
    "Find the median and replace missing values with it."
   ]
  },
  {
   "cell_type": "code",
   "execution_count": 8,
   "metadata": {},
   "outputs": [
    {
     "data": {
      "text/plain": [
       "title\n",
       "Avatar                                        178.0\n",
       "Pirates of the Caribbean: At World's End      169.0\n",
       "Spectre                                       148.0\n",
       "The Dark Knight Rises                         164.0\n",
       "Star Wars: Episode VII - The Force Awakens    103.0\n",
       "Name: duration, dtype: float64"
      ]
     },
     "execution_count": 8,
     "metadata": {},
     "output_type": "execute_result"
    }
   ],
   "source": [
    "median = duration.median()\n",
    "duration.fillna(median).head()"
   ]
  },
  {
   "cell_type": "markdown",
   "metadata": {},
   "source": [
    "You can use any constant number directly as well:"
   ]
  },
  {
   "cell_type": "code",
   "execution_count": 9,
   "metadata": {},
   "outputs": [
    {
     "data": {
      "text/plain": [
       "title\n",
       "Avatar                                        178.0\n",
       "Pirates of the Caribbean: At World's End      169.0\n",
       "Spectre                                       148.0\n",
       "The Dark Knight Rises                         164.0\n",
       "Star Wars: Episode VII - The Force Awakens    -99.0\n",
       "Name: duration, dtype: float64"
      ]
     },
     "execution_count": 9,
     "metadata": {},
     "output_type": "execute_result"
    }
   ],
   "source": [
    "duration.fillna(-99).head()"
   ]
  },
  {
   "cell_type": "markdown",
   "metadata": {},
   "source": [
    "## Dropping missing values\n",
    "The **`dropna`** method simply removes the values from the Series that are missing. Notice that the size of the Series has decreased."
   ]
  },
  {
   "cell_type": "code",
   "execution_count": 10,
   "metadata": {},
   "outputs": [
    {
     "data": {
      "text/plain": [
       "4901"
      ]
     },
     "execution_count": 10,
     "metadata": {},
     "output_type": "execute_result"
    }
   ],
   "source": [
    "duration.dropna().size"
   ]
  },
  {
   "cell_type": "markdown",
   "metadata": {},
   "source": [
    "# Sorting\n",
    "The **`sort_values`** method sorts the Series from least to greatest by default. It places missing values at the end."
   ]
  },
  {
   "cell_type": "code",
   "execution_count": 11,
   "metadata": {},
   "outputs": [
    {
     "data": {
      "text/plain": [
       "title\n",
       "The Touch                                7.0\n",
       "Shaun the Sheep                          7.0\n",
       "Robot Chicken                           11.0\n",
       "Vessel                                  14.0\n",
       "Wal-Mart: The High Cost of Low Price    20.0\n",
       "Name: duration, dtype: float64"
      ]
     },
     "execution_count": 11,
     "metadata": {},
     "output_type": "execute_result"
    }
   ],
   "source": [
    "duration.sort_values().head()"
   ]
  },
  {
   "cell_type": "markdown",
   "metadata": {},
   "source": [
    "The **`ascending`** parameter can be set to **`False`** to sort from greatest to least:"
   ]
  },
  {
   "cell_type": "code",
   "execution_count": 12,
   "metadata": {},
   "outputs": [
    {
     "data": {
      "text/plain": [
       "title\n",
       "Trapped                     511.0\n",
       "Carlos                      334.0\n",
       "Blood In, Blood Out         330.0\n",
       "Heaven's Gate               325.0\n",
       "The Legend of Suriyothai    300.0\n",
       "Name: duration, dtype: float64"
      ]
     },
     "execution_count": 12,
     "metadata": {},
     "output_type": "execute_result"
    }
   ],
   "source": [
    "duration.sort_values(ascending=False).head()"
   ]
  },
  {
   "cell_type": "markdown",
   "metadata": {},
   "source": [
    "## Sorting the index\n",
    "Since Series also have an index, Pandas allows you to sort by it as well with the **`sort_index`** method."
   ]
  },
  {
   "cell_type": "code",
   "execution_count": 13,
   "metadata": {},
   "outputs": [
    {
     "data": {
      "text/plain": [
       "title\n",
       "#Horror                       101.0\n",
       "10 Cloverfield Lane           104.0\n",
       "10 Days in a Madhouse         111.0\n",
       "10 Things I Hate About You     97.0\n",
       "10,000 B.C.                    22.0\n",
       "Name: duration, dtype: float64"
      ]
     },
     "execution_count": 13,
     "metadata": {},
     "output_type": "execute_result"
    }
   ],
   "source": [
    "duration.sort_index().head()"
   ]
  },
  {
   "cell_type": "code",
   "execution_count": 14,
   "metadata": {},
   "outputs": [
    {
     "data": {
      "text/plain": [
       "title\n",
       "Æon Flux                    93.0\n",
       "xXx: State of the Union    101.0\n",
       "xXx                        132.0\n",
       "eXistenZ                   115.0\n",
       "[Rec] 2                     85.0\n",
       "Name: duration, dtype: float64"
      ]
     },
     "execution_count": 14,
     "metadata": {},
     "output_type": "execute_result"
    }
   ],
   "source": [
    "duration.sort_index(ascending=False).head()"
   ]
  },
  {
   "cell_type": "markdown",
   "metadata": {},
   "source": [
    "# Exercises"
   ]
  },
  {
   "cell_type": "markdown",
   "metadata": {},
   "source": [
    "### Problem 1\n",
    "<span  style=\"color:green; font-size:16px\">What percentage of actor 1 Facebook likes are missing?</span>"
   ]
  },
  {
   "cell_type": "code",
   "execution_count": 15,
   "metadata": {},
   "outputs": [],
   "source": [
    "# your code here"
   ]
  },
  {
   "cell_type": "markdown",
   "metadata": {},
   "source": [
    "### Problem 2\n",
    "<span  style=\"color:green; font-size:16px\">Use the `notna` method to find the number of non-missing values in the actor 1 Facebook like column. Verify this number is the same as the `count` method.</span>"
   ]
  },
  {
   "cell_type": "code",
   "execution_count": 16,
   "metadata": {},
   "outputs": [],
   "source": [
    "# your code here"
   ]
  },
  {
   "cell_type": "markdown",
   "metadata": {},
   "source": [
    "### Problem 3\n",
    "<span  style=\"color:green; font-size:16px\">Use one line of code to fill the missing values of `actor1_fb` with the maximum of `actor2_fb`. Save this result to variable `actor1_fb_full`</span>"
   ]
  },
  {
   "cell_type": "code",
   "execution_count": 17,
   "metadata": {},
   "outputs": [],
   "source": [
    "# your code here"
   ]
  },
  {
   "cell_type": "markdown",
   "metadata": {},
   "source": [
    "### Problem 4\n",
    "<span  style=\"color:green; font-size:16px\">Verify the results of problem 3 by selecting just the values of `actor1_fb_full` that were filled by `actor2_fb`.</span>"
   ]
  },
  {
   "cell_type": "code",
   "execution_count": 18,
   "metadata": {},
   "outputs": [],
   "source": [
    "# your code here"
   ]
  },
  {
   "cell_type": "markdown",
   "metadata": {},
   "source": [
    "# Explore More Methods and their parameters\n",
    "In this section below, you can learn and practice with other methods and their parameters. There are much too many to cover all during a lecture and left to you to understand on your own."
   ]
  },
  {
   "cell_type": "markdown",
   "metadata": {},
   "source": [
    "## Take a random sample of the Series\n",
    "The **`sample`** method is used to take a random sample of the Series."
   ]
  },
  {
   "cell_type": "code",
   "execution_count": 19,
   "metadata": {},
   "outputs": [
    {
     "data": {
      "text/plain": [
       "title\n",
       "Phone Booth                                          81.0\n",
       "The Girlfriend Experience                            27.0\n",
       "Justin Bieber: Never Say Never                      115.0\n",
       "Quo Vadis                                           171.0\n",
       "Creepshow                                           130.0\n",
       "Cats Don't Dance                                     75.0\n",
       "Teenage Mutant Ninja Turtles: Out of the Shadows    112.0\n",
       "Philomena                                            98.0\n",
       "Hansel & Gretel Get Baked                            86.0\n",
       "Plush                                                99.0\n",
       "Name: duration, dtype: float64"
      ]
     },
     "execution_count": 19,
     "metadata": {},
     "output_type": "execute_result"
    }
   ],
   "source": [
    "duration.sample(10)"
   ]
  },
  {
   "cell_type": "markdown",
   "metadata": {},
   "source": [
    "By default it selects without replacement. Set parameter **`replace`** to **`True`** to select with replacement:"
   ]
  },
  {
   "cell_type": "code",
   "execution_count": 20,
   "metadata": {},
   "outputs": [
    {
     "data": {
      "text/plain": [
       "title\n",
       "Imaginary Heroes        111.0\n",
       "Latter Days             107.0\n",
       "Eddie the Eagle         106.0\n",
       "Cinderella Man          144.0\n",
       "Love Me Tender           89.0\n",
       "The Tailor of Panama    109.0\n",
       "Gran Torino             116.0\n",
       "Jaws 2                  131.0\n",
       "Moms' Night Out          98.0\n",
       "Stargate SG-1            44.0\n",
       "Name: duration, dtype: float64"
      ]
     },
     "execution_count": 20,
     "metadata": {},
     "output_type": "execute_result"
    }
   ],
   "source": [
    "duration.sample(10, replace=True)"
   ]
  },
  {
   "cell_type": "markdown",
   "metadata": {},
   "source": [
    "Set parameter **`frac`** to a number between 0 and 1 to select a random percentage of values. For instance, the following selects .1%."
   ]
  },
  {
   "cell_type": "code",
   "execution_count": 21,
   "metadata": {},
   "outputs": [
    {
     "data": {
      "text/plain": [
       "title\n",
       "Love's Abiding Joy           87.0\n",
       "Get Over It                  87.0\n",
       "A Low Down Dirty Shame      100.0\n",
       "The Time Traveler's Wife    107.0\n",
       "Dr. Dolittle 2               87.0\n",
       "Name: duration, dtype: float64"
      ]
     },
     "execution_count": 21,
     "metadata": {},
     "output_type": "execute_result"
    }
   ],
   "source": [
    "duration.sample(frac=.001)"
   ]
  },
  {
   "cell_type": "markdown",
   "metadata": {},
   "source": [
    "## Index of maximum and minimum\n",
    "Instead of finding the maximum or minimum of the values of the Series, you can return the index of the maximum or minimum with **`idxmax`** and **`idxmin`**."
   ]
  },
  {
   "cell_type": "code",
   "execution_count": 22,
   "metadata": {},
   "outputs": [
    {
     "data": {
      "text/plain": [
       "'Trapped'"
      ]
     },
     "execution_count": 22,
     "metadata": {},
     "output_type": "execute_result"
    }
   ],
   "source": [
    "duration.idxmax()"
   ]
  },
  {
   "cell_type": "markdown",
   "metadata": {},
   "source": [
    "Verify results by sorting: "
   ]
  },
  {
   "cell_type": "code",
   "execution_count": 23,
   "metadata": {},
   "outputs": [
    {
     "data": {
      "text/plain": [
       "title\n",
       "Trapped                     511.0\n",
       "Carlos                      334.0\n",
       "Blood In, Blood Out         330.0\n",
       "Heaven's Gate               325.0\n",
       "The Legend of Suriyothai    300.0\n",
       "Name: duration, dtype: float64"
      ]
     },
     "execution_count": 23,
     "metadata": {},
     "output_type": "execute_result"
    }
   ],
   "source": [
    "duration.sort_values(ascending=False).head()"
   ]
  },
  {
   "cell_type": "markdown",
   "metadata": {},
   "source": [
    "Can also verify by doing boolean indexing:"
   ]
  },
  {
   "cell_type": "code",
   "execution_count": 24,
   "metadata": {},
   "outputs": [
    {
     "data": {
      "text/plain": [
       "title\n",
       "Trapped    511.0\n",
       "Name: duration, dtype: float64"
      ]
     },
     "execution_count": 24,
     "metadata": {},
     "output_type": "execute_result"
    }
   ],
   "source": [
    "duration[duration == duration.max()]"
   ]
  },
  {
   "cell_type": "markdown",
   "metadata": {},
   "source": [
    "Test **`idxmin`**"
   ]
  },
  {
   "cell_type": "code",
   "execution_count": 25,
   "metadata": {},
   "outputs": [
    {
     "data": {
      "text/plain": [
       "'Shaun the Sheep'"
      ]
     },
     "execution_count": 25,
     "metadata": {},
     "output_type": "execute_result"
    }
   ],
   "source": [
    "duration.idxmin()"
   ]
  },
  {
   "cell_type": "markdown",
   "metadata": {},
   "source": [
    "Verify by directly selecting the score and finding the minimum:"
   ]
  },
  {
   "cell_type": "code",
   "execution_count": 26,
   "metadata": {},
   "outputs": [
    {
     "data": {
      "text/plain": [
       "7.0"
      ]
     },
     "execution_count": 26,
     "metadata": {},
     "output_type": "execute_result"
    }
   ],
   "source": [
    "duration.loc['Shaun the Sheep']"
   ]
  },
  {
   "cell_type": "code",
   "execution_count": 27,
   "metadata": {},
   "outputs": [
    {
     "data": {
      "text/plain": [
       "7.0"
      ]
     },
     "execution_count": 27,
     "metadata": {},
     "output_type": "execute_result"
    }
   ],
   "source": [
    "duration.min()"
   ]
  },
  {
   "cell_type": "markdown",
   "metadata": {},
   "source": [
    "# Uniqueness\n",
    "There are a few methods that deal with unique values in a Series:\n",
    "* **`unique`** - Returns a NumPy array of all the unique values in order of their appearance\n",
    "* **`nunique`** - Returns the number of unique values in the Series. It is an aggregation method\n",
    "* **`drop_duplicates`** - Returns a Pandas Series of just the unique values. By default, it keeps the first value it encounters"
   ]
  },
  {
   "cell_type": "code",
   "execution_count": 28,
   "metadata": {},
   "outputs": [
    {
     "data": {
      "text/plain": [
       "array([178., 169., 148., 164.,  nan, 132., 156., 100., 141., 153., 183.,\n",
       "       106., 151., 150., 143., 173., 136., 186., 113., 201., 194., 147.,\n",
       "       131., 124., 135., 195., 108., 104., 165., 130., 142., 125., 123.,\n",
       "       103., 118., 140., 149., 114., 116., 154., 122.,  93.,  98.,  91.,\n",
       "       158.,  96., 127., 110., 144., 152.,  94., 126., 112., 176.,  95.,\n",
       "        97., 109., 128., 102., 101., 120., 121., 182., 166., 137., 184.,\n",
       "       206., 138., 157., 115., 111.,  89., 105., 119., 129., 146.,  88.,\n",
       "        99.,  90.,  85.,  92., 196., 133., 215.,  60., 117., 107.,  82.,\n",
       "       159., 174., 134.,  77., 170.,  76., 171.,  84.,  22., 145.,  78.,\n",
       "       240., 172.,  87., 216., 192.,  44.,  83., 139.,  86., 162.,  54.,\n",
       "        80.,  25.,  74.,  81., 177.,  73.,  43.,  45., 163.,  30., 212.,\n",
       "       187., 189., 188., 280., 155.,  64., 190.,  75., 220., 160.,  52.,\n",
       "       325., 251., 202., 330., 289., 161.,  28.,  79.,  63., 511.,  42.,\n",
       "       167., 193., 175., 185., 219.,   7., 271.,  50.,  72.,  24.,  68.,\n",
       "       225., 236., 180., 334., 270., 227., 286.,  65.,  55.,  41.,  69.,\n",
       "       293., 200.,  40., 168., 197., 181., 300.,  23.,  53.,  46.,  67.,\n",
       "       199., 226.,  37.,  11.,  66.,  34.,  20.,  27.,  70.,  14.,  71.,\n",
       "        58.,  35.,  59.,  62.,  47.])"
      ]
     },
     "execution_count": 28,
     "metadata": {},
     "output_type": "execute_result"
    }
   ],
   "source": [
    "duration.unique()"
   ]
  },
  {
   "cell_type": "code",
   "execution_count": 29,
   "metadata": {},
   "outputs": [
    {
     "data": {
      "text/plain": [
       "191"
      ]
     },
     "execution_count": 29,
     "metadata": {},
     "output_type": "execute_result"
    }
   ],
   "source": [
    "duration.nunique()"
   ]
  },
  {
   "cell_type": "markdown",
   "metadata": {},
   "source": [
    "Verify that **`unique`** produces the same number of values as **`nunique`**"
   ]
  },
  {
   "cell_type": "code",
   "execution_count": 30,
   "metadata": {},
   "outputs": [
    {
     "data": {
      "text/plain": [
       "192"
      ]
     },
     "execution_count": 30,
     "metadata": {},
     "output_type": "execute_result"
    }
   ],
   "source": [
    "len(duration.unique())"
   ]
  },
  {
   "cell_type": "markdown",
   "metadata": {},
   "source": [
    "By default, **`nunique`** does not count missing values."
   ]
  },
  {
   "cell_type": "code",
   "execution_count": 31,
   "metadata": {},
   "outputs": [
    {
     "data": {
      "text/plain": [
       "192"
      ]
     },
     "execution_count": 31,
     "metadata": {},
     "output_type": "execute_result"
    }
   ],
   "source": [
    "duration.nunique(dropna=False)"
   ]
  },
  {
   "cell_type": "markdown",
   "metadata": {},
   "source": [
    "**`drop_duplicates`** preserves the Series object, just drops values that are duplicated."
   ]
  },
  {
   "cell_type": "code",
   "execution_count": 32,
   "metadata": {},
   "outputs": [],
   "source": [
    "duration_unique_series = duration.drop_duplicates()"
   ]
  },
  {
   "cell_type": "code",
   "execution_count": 33,
   "metadata": {},
   "outputs": [
    {
     "data": {
      "text/plain": [
       "title\n",
       "Avatar                                        178.0\n",
       "Pirates of the Caribbean: At World's End      169.0\n",
       "Spectre                                       148.0\n",
       "The Dark Knight Rises                         164.0\n",
       "Star Wars: Episode VII - The Force Awakens      NaN\n",
       "John Carter                                   132.0\n",
       "Spider-Man 3                                  156.0\n",
       "Tangled                                       100.0\n",
       "Avengers: Age of Ultron                       141.0\n",
       "Harry Potter and the Half-Blood Prince        153.0\n",
       "Name: duration, dtype: float64"
      ]
     },
     "execution_count": 33,
     "metadata": {},
     "output_type": "execute_result"
    }
   ],
   "source": [
    "duration_unique_series.head(10)"
   ]
  },
  {
   "cell_type": "markdown",
   "metadata": {},
   "source": [
    "Size will match length of result from **`unique`** method:"
   ]
  },
  {
   "cell_type": "code",
   "execution_count": 34,
   "metadata": {},
   "outputs": [
    {
     "data": {
      "text/plain": [
       "192"
      ]
     },
     "execution_count": 34,
     "metadata": {},
     "output_type": "execute_result"
    }
   ],
   "source": [
    "duration_unique_series.size"
   ]
  },
  {
   "cell_type": "markdown",
   "metadata": {},
   "source": [
    "# More exercises"
   ]
  },
  {
   "cell_type": "markdown",
   "metadata": {},
   "source": [
    "### Problem 5\n",
    "<span  style=\"color:green; font-size:16px\">Randomly sample the `actor1_fb_full` Series with replacement to select three values. Use random state 54321.</span>"
   ]
  },
  {
   "cell_type": "code",
   "execution_count": 35,
   "metadata": {},
   "outputs": [],
   "source": [
    "# your code here"
   ]
  },
  {
   "cell_type": "markdown",
   "metadata": {},
   "source": [
    "### Problem 6\n",
    "<span  style=\"color:green; font-size:16px\">How many unique directors are there?</span>"
   ]
  },
  {
   "cell_type": "code",
   "execution_count": 36,
   "metadata": {},
   "outputs": [],
   "source": [
    "# your code here"
   ]
  },
  {
   "cell_type": "markdown",
   "metadata": {},
   "source": [
    "### Problem 7\n",
    "<span  style=\"color:green; font-size:16px\">Select the `year` column, sort it, and drop any duplicates?</span>"
   ]
  },
  {
   "cell_type": "code",
   "execution_count": 37,
   "metadata": {},
   "outputs": [],
   "source": [
    "# your code here"
   ]
  },
  {
   "cell_type": "markdown",
   "metadata": {},
   "source": [
    "### Problem 8\n",
    "<span  style=\"color:green; font-size:16px\">Get the same result as problem 7 by dropping duplicates first and then sort. Which method is faster?</span>"
   ]
  },
  {
   "cell_type": "code",
   "execution_count": 38,
   "metadata": {},
   "outputs": [],
   "source": [
    "# your code here"
   ]
  }
 ],
 "metadata": {
  "kernelspec": {
   "display_name": "Python 3",
   "language": "python",
   "name": "python3"
  },
  "language_info": {
   "codemirror_mode": {
    "name": "ipython",
    "version": 3
   },
   "file_extension": ".py",
   "mimetype": "text/x-python",
   "name": "python",
   "nbconvert_exporter": "python",
   "pygments_lexer": "ipython3",
   "version": "3.6.5"
  },
  "varInspector": {
   "cols": {
    "lenName": 16,
    "lenType": 16,
    "lenVar": 40
   },
   "kernels_config": {
    "python": {
     "delete_cmd_postfix": "",
     "delete_cmd_prefix": "del ",
     "library": "var_list.py",
     "varRefreshCmd": "print(var_dic_list())"
    },
    "r": {
     "delete_cmd_postfix": ") ",
     "delete_cmd_prefix": "rm(",
     "library": "var_list.r",
     "varRefreshCmd": "cat(var_dic_list()) "
    }
   },
   "types_to_exclude": [
    "module",
    "function",
    "builtin_function_or_method",
    "instance",
    "_Feature"
   ],
   "window_display": false
  }
 },
 "nbformat": 4,
 "nbformat_minor": 2
}
