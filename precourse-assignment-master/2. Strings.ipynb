{
 "cells": [
  {
   "cell_type": "markdown",
   "metadata": {},
   "source": [
    "# Strings\n",
    "\n",
    "# Objectives\n",
    "\n",
    "By the end of this notebook, you should know:\n",
    "\n",
    "* Strings are sequences of characters\n",
    "* Each character is encoded with Unicode\n",
    "* How to define a string with single, double, and triple quotes\n",
    "* How to recognize the backslash escape character\n",
    "* What a method is and how to call it\n",
    "* How to call methods with parameters\n",
    "* How to discover methods with tab completion\n",
    "* How to get help using methods\n",
    "* How to call methods in succession with method chaining\n",
    "* How to get the length of a string\n",
    "* What the plus and multiplication operators do with strings\n",
    "* The basics of string interpolation with f-strings\n",
    "* How to select a single character from a string\n",
    "* How to select multiple characters with slice notation\n",
    "* That strings are immutable\n",
    "\n",
    "In the previous notebook we briefly looked at the basic numeric types, **`int`** and **`float`**. These types are quite simple and straightforward. They behave how you would expect them. We now turn to **strings** which are a more complex type. Python uses the keyword **`str`** to represent strings.\n",
    "\n",
    "# Built-in Types\n",
    "Before diving into strings, let's take a moment to discuss **built-in types**. The word **built-in** refers to features of the language that come standard with each installation of Python. They form the core part of the language from which all other features and libraries are built from. The most common and prevalent built-in types are:\n",
    "\n",
    "* `bool`\n",
    "* `int`\n",
    "* `float`\n",
    "* `str`\n",
    "* `tuple`\n",
    "* `list`\n",
    "* `set`\n",
    "* `dict`\n",
    "\n",
    "There are several more built-in types such as **`complex`**, **`frozenset`**, **`bytes`**, and others but these are used far less frequently than the list above. To see all the built-in types see this (very long) [page from the official Python documentation][1]\n",
    "\n",
    "## The term data type\n",
    "You will often see the term **data type** used when discussing **types**. They refer to the same concept.\n",
    "\n",
    "## Back to strings - what are they?\n",
    "Technically, a Python string is a sequence of characters.\n",
    "\n",
    "## So what are characters?\n",
    "A character is the smallest possible component of text, usually a letter of an alphabet or punctuation that you can output with one key from your keyboard. There is no separate types for characters. A single character is just a string with length of one.\n",
    "\n",
    "Internally, each character in Python is represented as an integer. For instance, the integer 65 corresponds to **`A`** and 947 corresponds to **`γ`**, the Greek letter Gamma. This system of encoding is called **Unicode**. Unicode has become a industry standard for character representation. See the [documentation][2] for more on characters.\n",
    "\n",
    "### More on Unicode\n",
    "Before Unicode, one of the first computing standards for character representation was ASCII, a system that represented 128 unique characters using 7 bits. A bit is the smallest unit of information for a computer and is binary (0/1). So 7 bits can encode 2^7 (128) different pieces of information and for ASCII, this information corresponded to characters, numbers, and punctuation common to English language speakers.\n",
    "\n",
    "Since there happen to be many thousands of languages and tens of thousands of different character representations, Unicode was brought into existence to universally cover any possible writing system. Unicode represents each character with 4 **bytes**, and with 8-bits per byte that is 32 bits which can represent 2^32 or over 4 billion unique characters. Each number in Unicode is called a **code point** and represents a single unique character.\n",
    "\n",
    "##  Creating our first string\n",
    "Strings are created by writing a sequence of characters surrounded by either single or double quotes.\n",
    "\n",
    "## Reminder to execute all code cells\n",
    "Remember to execute (**shift/ctrl + enter**) each code cell below while reading through the notebook.\n",
    "\n",
    "[1]: https://docs.python.org/3/library/stdtypes.html\n",
    "[2]: https://docs.python.org/3/howto/unicode.html#definitions"
   ]
  },
  {
   "cell_type": "code",
   "execution_count": 3,
   "metadata": {},
   "outputs": [],
   "source": [
    "# Define a string\n",
    "my_string = 'my own personal string'"
   ]
  },
  {
   "cell_type": "markdown",
   "metadata": {},
   "source": [
    "## Output the string to the notebook\n",
    "There was no output after executing the above cell as the string was assigned to the variable **`my_string`**. Use the cell below to output the value of the screen to the notebook."
   ]
  },
  {
   "cell_type": "code",
   "execution_count": 4,
   "metadata": {},
   "outputs": [
    {
     "data": {
      "text/plain": [
       "'my own personal string'"
      ]
     },
     "execution_count": 4,
     "metadata": {},
     "output_type": "execute_result"
    }
   ],
   "source": [
    "my_string"
   ]
  },
  {
   "cell_type": "markdown",
   "metadata": {},
   "source": [
    "## Using double quotes\n",
    "Double quotes work equally as well for creating strings. See the example below:"
   ]
  },
  {
   "cell_type": "code",
   "execution_count": 5,
   "metadata": {},
   "outputs": [
    {
     "data": {
      "text/plain": [
       "'yet another string'"
      ]
     },
     "execution_count": 5,
     "metadata": {},
     "output_type": "execute_result"
    }
   ],
   "source": [
    "my_string2 = \"yet another string\"\n",
    "my_string2"
   ]
  },
  {
   "cell_type": "markdown",
   "metadata": {},
   "source": [
    "## Quotes inside of quotes\n",
    "Because Python allows for single and double quotes, it's easy to make a string with quotes inside of quotes. Below are examples of either a single or double quote inside of a string."
   ]
  },
  {
   "cell_type": "code",
   "execution_count": 6,
   "metadata": {},
   "outputs": [
    {
     "data": {
      "text/plain": [
       "\"There's a single quote in here\""
      ]
     },
     "execution_count": 6,
     "metadata": {},
     "output_type": "execute_result"
    }
   ],
   "source": [
    "singleq = \"There's a single quote in here\"\n",
    "singleq"
   ]
  },
  {
   "cell_type": "code",
   "execution_count": 7,
   "metadata": {},
   "outputs": [
    {
     "data": {
      "text/plain": [
       "'Yogi Berra once said, \"We made too many wrong mistakes\"'"
      ]
     },
     "execution_count": 7,
     "metadata": {},
     "output_type": "execute_result"
    }
   ],
   "source": [
    "doubleq = 'Yogi Berra once said, \"We made too many wrong mistakes\"'\n",
    "doubleq"
   ]
  },
  {
   "cell_type": "markdown",
   "metadata": {},
   "source": [
    "## Multiline Strings with triple quotes\n",
    "When you have a string that spans multiple lines, or a string with both double and single quotes in it, you can use triple quotes. Enclose the string with either three single or three double quotes."
   ]
  },
  {
   "cell_type": "code",
   "execution_count": 8,
   "metadata": {},
   "outputs": [
    {
     "data": {
      "text/plain": [
       "'Use triple\\nquotes for some \\nvery long\\nmultiline strings\\n'"
      ]
     },
     "execution_count": 8,
     "metadata": {},
     "output_type": "execute_result"
    }
   ],
   "source": [
    "tripleq = \"\"\"Use triple\n",
    "quotes for some \n",
    "very long\n",
    "multiline strings\n",
    "\"\"\"\n",
    "\n",
    "tripleq"
   ]
  },
  {
   "cell_type": "markdown",
   "metadata": {},
   "source": [
    "## Single and double quotes in the same string\n",
    "You can also use triple quotes as a way to put both single and double quotes in the same string."
   ]
  },
  {
   "cell_type": "code",
   "execution_count": 9,
   "metadata": {},
   "outputs": [
    {
     "data": {
      "text/plain": [
       "'My friend said, \"I\\'m only a mediocre pythonista\". I got mad! '"
      ]
     },
     "execution_count": 9,
     "metadata": {},
     "output_type": "execute_result"
    }
   ],
   "source": [
    "my_string_w_2_quote_types = '''My friend said, \"I'm only a mediocre pythonista\". I got mad! '''\n",
    "\n",
    "my_string_w_2_quote_types"
   ]
  },
  {
   "cell_type": "markdown",
   "metadata": {},
   "source": [
    "## Strings with escape characters\n",
    "You probably noticed that the output of the last two strings have backslashes inside them. The Jupyter notebook outputs the strings in a standard manner by using only single quotes. The two strings are identical. It is still possible to have single quotes inside a string that uses single quotes by using the backslash **escape character**.\n",
    "\n",
    "A backslash is a signal (technically an escape character) to Python that we want something different to happen than use the literal backslash character. For instance, **`\\n`** is interpretted as a new line and **`\\'`** means a single quote but not one that terminates the string."
   ]
  },
  {
   "cell_type": "markdown",
   "metadata": {},
   "source": [
    "## An aside on functions\n",
    "We will formally discuss functions in their own notebooks. For those unfamiliar with functions, they are references to reusable stored code that performs a particular task. Function names are always followed by a set of parentheses (when called) and can contain **arguments** which are comma separated values that the function will use.\n",
    "\n",
    "## Using the print function\n",
    "You can use the **`print`** function to output your strings. The output will have the escape characters replaced by the values they represent."
   ]
  },
  {
   "cell_type": "code",
   "execution_count": 10,
   "metadata": {},
   "outputs": [
    {
     "name": "stdout",
     "output_type": "stream",
     "text": [
      "Use triple\n",
      "quotes for some \n",
      "very long\n",
      "multiline strings\n",
      "\n"
     ]
    }
   ],
   "source": [
    "print(tripleq)"
   ]
  },
  {
   "cell_type": "code",
   "execution_count": 11,
   "metadata": {},
   "outputs": [
    {
     "name": "stdout",
     "output_type": "stream",
     "text": [
      "My friend said, \"I'm only a mediocre pythonista\". I got mad! \n"
     ]
    }
   ],
   "source": [
    "print(my_string_w_2_quote_types)"
   ]
  },
  {
   "cell_type": "markdown",
   "metadata": {},
   "source": [
    "# Many more \"abilities\" with strings\n",
    "Strings have far more \"abilities\" than their numeric counterparts. Some of these abilities include the following:\n",
    "* Capitalizing the first letter of each word\n",
    "* Counting the frequency of a particular letter\n",
    "* Splitting the string into multiple other strings\n",
    "* Finding the location a particular substring\n",
    "* And much more\n",
    "\n",
    "The abilities I am referring to are called **methods**. The way methods are invoked in Python is by placing a dot at the end of the variable name followed by the method name and a set of parentheses.\n",
    "\n",
    "## Capitalizing each character in a string\n",
    "For instance, we can use the **`upper`** method to capitalize each character in a string."
   ]
  },
  {
   "cell_type": "code",
   "execution_count": 12,
   "metadata": {},
   "outputs": [],
   "source": [
    "capitalize_me = \"this string will soon be all caps\""
   ]
  },
  {
   "cell_type": "code",
   "execution_count": 13,
   "metadata": {},
   "outputs": [
    {
     "data": {
      "text/plain": [
       "'THIS STRING WILL SOON BE ALL CAPS'"
      ]
     },
     "execution_count": 13,
     "metadata": {},
     "output_type": "execute_result"
    }
   ],
   "source": [
    "capitalize_me.upper()"
   ]
  },
  {
   "cell_type": "markdown",
   "metadata": {},
   "source": [
    "# Counting character occurrences\n",
    "The **`count`** method capitalizes the unique occurrences of a substring. Place the substring you would like to count inside of the parentheses."
   ]
  },
  {
   "cell_type": "code",
   "execution_count": 14,
   "metadata": {},
   "outputs": [
    {
     "data": {
      "text/plain": [
       "3"
      ]
     },
     "execution_count": 14,
     "metadata": {},
     "output_type": "execute_result"
    }
   ],
   "source": [
    "capitalize_me.count('i')"
   ]
  },
  {
   "cell_type": "code",
   "execution_count": 15,
   "metadata": {},
   "outputs": [
    {
     "data": {
      "text/plain": [
       "1"
      ]
     },
     "execution_count": 15,
     "metadata": {},
     "output_type": "execute_result"
    }
   ],
   "source": [
    "capitalize_me.count('will')"
   ]
  },
  {
   "cell_type": "markdown",
   "metadata": {},
   "source": [
    "# Calling methods with parameters\n",
    "The **`count`** method from above is an example of a method with **parameters**. A parameter is a variable whose value changes the functionality of the method. The strings **`i`** and **`will`** are both parameter values. \n",
    "\n",
    "Some methods, such as **`upper`** do not have any parameters and therefore can be called with nothing inside their parentheses. Methods and their parameters will be discussed in greater detail in future notebooks."
   ]
  },
  {
   "cell_type": "markdown",
   "metadata": {},
   "source": [
    "# Split a string into multiple substrings\n",
    "The **`split`** method splits a single string into multiple strings. By default, it will split the string at every space. The **`split`** method returns a **`list`** of strings. Lists contain multiple objects and will be discussed in depth in a separate notebook."
   ]
  },
  {
   "cell_type": "code",
   "execution_count": 16,
   "metadata": {},
   "outputs": [
    {
     "data": {
      "text/plain": [
       "['my', 'own', 'personal', 'string']"
      ]
     },
     "execution_count": 16,
     "metadata": {},
     "output_type": "execute_result"
    }
   ],
   "source": [
    "my_string.split()"
   ]
  },
  {
   "cell_type": "markdown",
   "metadata": {},
   "source": [
    "# Splitting a string by a given value\n",
    "The first parameter of the **`split`** allows us to choose how the string is split. Below, the string will be split at every occurrence of the substring **`so`**."
   ]
  },
  {
   "cell_type": "code",
   "execution_count": 17,
   "metadata": {},
   "outputs": [
    {
     "data": {
      "text/plain": [
       "['my own per', 'nal string']"
      ]
     },
     "execution_count": 17,
     "metadata": {},
     "output_type": "execute_result"
    }
   ],
   "source": [
    "my_string.split('so')"
   ]
  },
  {
   "cell_type": "markdown",
   "metadata": {},
   "source": [
    "# How do I know what methods are available?\n",
    "The above examples only covered a few of the available string methods. The official Python documentation lists all the [string methods][1]. While thorough, its not that convenient. \n",
    "\n",
    "The **`help`** function provides a fairly easy way to display all the methods from a certain type. Execute the following cell to get a list of all the string methods.\n",
    "\n",
    "[1]: https://docs.python.org/3/library/stdtypes.html#string-methods"
   ]
  },
  {
   "cell_type": "code",
   "execution_count": 18,
   "metadata": {},
   "outputs": [
    {
     "name": "stdout",
     "output_type": "stream",
     "text": [
      "Help on class str in module builtins:\n",
      "\n",
      "class str(object)\n",
      " |  str(object='') -> str\n",
      " |  str(bytes_or_buffer[, encoding[, errors]]) -> str\n",
      " |  \n",
      " |  Create a new string object from the given object. If encoding or\n",
      " |  errors is specified, then the object must expose a data buffer\n",
      " |  that will be decoded using the given encoding and error handler.\n",
      " |  Otherwise, returns the result of object.__str__() (if defined)\n",
      " |  or repr(object).\n",
      " |  encoding defaults to sys.getdefaultencoding().\n",
      " |  errors defaults to 'strict'.\n",
      " |  \n",
      " |  Methods defined here:\n",
      " |  \n",
      " |  __add__(self, value, /)\n",
      " |      Return self+value.\n",
      " |  \n",
      " |  __contains__(self, key, /)\n",
      " |      Return key in self.\n",
      " |  \n",
      " |  __eq__(self, value, /)\n",
      " |      Return self==value.\n",
      " |  \n",
      " |  __format__(self, format_spec, /)\n",
      " |      Return a formatted version of the string as described by format_spec.\n",
      " |  \n",
      " |  __ge__(self, value, /)\n",
      " |      Return self>=value.\n",
      " |  \n",
      " |  __getattribute__(self, name, /)\n",
      " |      Return getattr(self, name).\n",
      " |  \n",
      " |  __getitem__(self, key, /)\n",
      " |      Return self[key].\n",
      " |  \n",
      " |  __getnewargs__(...)\n",
      " |  \n",
      " |  __gt__(self, value, /)\n",
      " |      Return self>value.\n",
      " |  \n",
      " |  __hash__(self, /)\n",
      " |      Return hash(self).\n",
      " |  \n",
      " |  __iter__(self, /)\n",
      " |      Implement iter(self).\n",
      " |  \n",
      " |  __le__(self, value, /)\n",
      " |      Return self<=value.\n",
      " |  \n",
      " |  __len__(self, /)\n",
      " |      Return len(self).\n",
      " |  \n",
      " |  __lt__(self, value, /)\n",
      " |      Return self<value.\n",
      " |  \n",
      " |  __mod__(self, value, /)\n",
      " |      Return self%value.\n",
      " |  \n",
      " |  __mul__(self, value, /)\n",
      " |      Return self*value.\n",
      " |  \n",
      " |  __ne__(self, value, /)\n",
      " |      Return self!=value.\n",
      " |  \n",
      " |  __repr__(self, /)\n",
      " |      Return repr(self).\n",
      " |  \n",
      " |  __rmod__(self, value, /)\n",
      " |      Return value%self.\n",
      " |  \n",
      " |  __rmul__(self, value, /)\n",
      " |      Return value*self.\n",
      " |  \n",
      " |  __sizeof__(self, /)\n",
      " |      Return the size of the string in memory, in bytes.\n",
      " |  \n",
      " |  __str__(self, /)\n",
      " |      Return str(self).\n",
      " |  \n",
      " |  capitalize(self, /)\n",
      " |      Return a capitalized version of the string.\n",
      " |      \n",
      " |      More specifically, make the first character have upper case and the rest lower\n",
      " |      case.\n",
      " |  \n",
      " |  casefold(self, /)\n",
      " |      Return a version of the string suitable for caseless comparisons.\n",
      " |  \n",
      " |  center(self, width, fillchar=' ', /)\n",
      " |      Return a centered string of length width.\n",
      " |      \n",
      " |      Padding is done using the specified fill character (default is a space).\n",
      " |  \n",
      " |  count(...)\n",
      " |      S.count(sub[, start[, end]]) -> int\n",
      " |      \n",
      " |      Return the number of non-overlapping occurrences of substring sub in\n",
      " |      string S[start:end].  Optional arguments start and end are\n",
      " |      interpreted as in slice notation.\n",
      " |  \n",
      " |  encode(self, /, encoding='utf-8', errors='strict')\n",
      " |      Encode the string using the codec registered for encoding.\n",
      " |      \n",
      " |      encoding\n",
      " |        The encoding in which to encode the string.\n",
      " |      errors\n",
      " |        The error handling scheme to use for encoding errors.\n",
      " |        The default is 'strict' meaning that encoding errors raise a\n",
      " |        UnicodeEncodeError.  Other possible values are 'ignore', 'replace' and\n",
      " |        'xmlcharrefreplace' as well as any other name registered with\n",
      " |        codecs.register_error that can handle UnicodeEncodeErrors.\n",
      " |  \n",
      " |  endswith(...)\n",
      " |      S.endswith(suffix[, start[, end]]) -> bool\n",
      " |      \n",
      " |      Return True if S ends with the specified suffix, False otherwise.\n",
      " |      With optional start, test S beginning at that position.\n",
      " |      With optional end, stop comparing S at that position.\n",
      " |      suffix can also be a tuple of strings to try.\n",
      " |  \n",
      " |  expandtabs(self, /, tabsize=8)\n",
      " |      Return a copy where all tab characters are expanded using spaces.\n",
      " |      \n",
      " |      If tabsize is not given, a tab size of 8 characters is assumed.\n",
      " |  \n",
      " |  find(...)\n",
      " |      S.find(sub[, start[, end]]) -> int\n",
      " |      \n",
      " |      Return the lowest index in S where substring sub is found,\n",
      " |      such that sub is contained within S[start:end].  Optional\n",
      " |      arguments start and end are interpreted as in slice notation.\n",
      " |      \n",
      " |      Return -1 on failure.\n",
      " |  \n",
      " |  format(...)\n",
      " |      S.format(*args, **kwargs) -> str\n",
      " |      \n",
      " |      Return a formatted version of S, using substitutions from args and kwargs.\n",
      " |      The substitutions are identified by braces ('{' and '}').\n",
      " |  \n",
      " |  format_map(...)\n",
      " |      S.format_map(mapping) -> str\n",
      " |      \n",
      " |      Return a formatted version of S, using substitutions from mapping.\n",
      " |      The substitutions are identified by braces ('{' and '}').\n",
      " |  \n",
      " |  index(...)\n",
      " |      S.index(sub[, start[, end]]) -> int\n",
      " |      \n",
      " |      Return the lowest index in S where substring sub is found, \n",
      " |      such that sub is contained within S[start:end].  Optional\n",
      " |      arguments start and end are interpreted as in slice notation.\n",
      " |      \n",
      " |      Raises ValueError when the substring is not found.\n",
      " |  \n",
      " |  isalnum(self, /)\n",
      " |      Return True if the string is an alpha-numeric string, False otherwise.\n",
      " |      \n",
      " |      A string is alpha-numeric if all characters in the string are alpha-numeric and\n",
      " |      there is at least one character in the string.\n",
      " |  \n",
      " |  isalpha(self, /)\n",
      " |      Return True if the string is an alphabetic string, False otherwise.\n",
      " |      \n",
      " |      A string is alphabetic if all characters in the string are alphabetic and there\n",
      " |      is at least one character in the string.\n",
      " |  \n",
      " |  isascii(self, /)\n",
      " |      Return True if all characters in the string are ASCII, False otherwise.\n",
      " |      \n",
      " |      ASCII characters have code points in the range U+0000-U+007F.\n",
      " |      Empty string is ASCII too.\n",
      " |  \n",
      " |  isdecimal(self, /)\n",
      " |      Return True if the string is a decimal string, False otherwise.\n",
      " |      \n",
      " |      A string is a decimal string if all characters in the string are decimal and\n",
      " |      there is at least one character in the string.\n",
      " |  \n",
      " |  isdigit(self, /)\n",
      " |      Return True if the string is a digit string, False otherwise.\n",
      " |      \n",
      " |      A string is a digit string if all characters in the string are digits and there\n",
      " |      is at least one character in the string.\n",
      " |  \n",
      " |  isidentifier(self, /)\n",
      " |      Return True if the string is a valid Python identifier, False otherwise.\n",
      " |      \n",
      " |      Use keyword.iskeyword() to test for reserved identifiers such as \"def\" and\n",
      " |      \"class\".\n",
      " |  \n",
      " |  islower(self, /)\n",
      " |      Return True if the string is a lowercase string, False otherwise.\n",
      " |      \n",
      " |      A string is lowercase if all cased characters in the string are lowercase and\n",
      " |      there is at least one cased character in the string.\n",
      " |  \n",
      " |  isnumeric(self, /)\n",
      " |      Return True if the string is a numeric string, False otherwise.\n",
      " |      \n",
      " |      A string is numeric if all characters in the string are numeric and there is at\n",
      " |      least one character in the string.\n",
      " |  \n",
      " |  isprintable(self, /)\n",
      " |      Return True if the string is printable, False otherwise.\n",
      " |      \n",
      " |      A string is printable if all of its characters are considered printable in\n",
      " |      repr() or if it is empty.\n",
      " |  \n",
      " |  isspace(self, /)\n",
      " |      Return True if the string is a whitespace string, False otherwise.\n",
      " |      \n",
      " |      A string is whitespace if all characters in the string are whitespace and there\n",
      " |      is at least one character in the string.\n",
      " |  \n",
      " |  istitle(self, /)\n",
      " |      Return True if the string is a title-cased string, False otherwise.\n",
      " |      \n",
      " |      In a title-cased string, upper- and title-case characters may only\n",
      " |      follow uncased characters and lowercase characters only cased ones.\n",
      " |  \n",
      " |  isupper(self, /)\n",
      " |      Return True if the string is an uppercase string, False otherwise.\n",
      " |      \n",
      " |      A string is uppercase if all cased characters in the string are uppercase and\n",
      " |      there is at least one cased character in the string.\n",
      " |  \n",
      " |  join(self, iterable, /)\n",
      " |      Concatenate any number of strings.\n",
      " |      \n",
      " |      The string whose method is called is inserted in between each given string.\n",
      " |      The result is returned as a new string.\n",
      " |      \n",
      " |      Example: '.'.join(['ab', 'pq', 'rs']) -> 'ab.pq.rs'\n",
      " |  \n",
      " |  ljust(self, width, fillchar=' ', /)\n",
      " |      Return a left-justified string of length width.\n",
      " |      \n",
      " |      Padding is done using the specified fill character (default is a space).\n",
      " |  \n",
      " |  lower(self, /)\n",
      " |      Return a copy of the string converted to lowercase.\n",
      " |  \n",
      " |  lstrip(self, chars=None, /)\n",
      " |      Return a copy of the string with leading whitespace removed.\n",
      " |      \n",
      " |      If chars is given and not None, remove characters in chars instead.\n",
      " |  \n",
      " |  partition(self, sep, /)\n",
      " |      Partition the string into three parts using the given separator.\n",
      " |      \n",
      " |      This will search for the separator in the string.  If the separator is found,\n",
      " |      returns a 3-tuple containing the part before the separator, the separator\n",
      " |      itself, and the part after it.\n",
      " |      \n",
      " |      If the separator is not found, returns a 3-tuple containing the original string\n",
      " |      and two empty strings.\n",
      " |  \n",
      " |  replace(self, old, new, count=-1, /)\n",
      " |      Return a copy with all occurrences of substring old replaced by new.\n",
      " |      \n",
      " |        count\n",
      " |          Maximum number of occurrences to replace.\n",
      " |          -1 (the default value) means replace all occurrences.\n",
      " |      \n",
      " |      If the optional argument count is given, only the first count occurrences are\n",
      " |      replaced.\n",
      " |  \n",
      " |  rfind(...)\n",
      " |      S.rfind(sub[, start[, end]]) -> int\n",
      " |      \n",
      " |      Return the highest index in S where substring sub is found,\n",
      " |      such that sub is contained within S[start:end].  Optional\n",
      " |      arguments start and end are interpreted as in slice notation.\n",
      " |      \n",
      " |      Return -1 on failure.\n",
      " |  \n",
      " |  rindex(...)\n",
      " |      S.rindex(sub[, start[, end]]) -> int\n",
      " |      \n",
      " |      Return the highest index in S where substring sub is found,\n",
      " |      such that sub is contained within S[start:end].  Optional\n",
      " |      arguments start and end are interpreted as in slice notation.\n",
      " |      \n",
      " |      Raises ValueError when the substring is not found.\n",
      " |  \n",
      " |  rjust(self, width, fillchar=' ', /)\n",
      " |      Return a right-justified string of length width.\n",
      " |      \n",
      " |      Padding is done using the specified fill character (default is a space).\n",
      " |  \n",
      " |  rpartition(self, sep, /)\n",
      " |      Partition the string into three parts using the given separator.\n",
      " |      \n",
      " |      This will search for the separator in the string, starting at the end. If\n",
      " |      the separator is found, returns a 3-tuple containing the part before the\n",
      " |      separator, the separator itself, and the part after it.\n",
      " |      \n",
      " |      If the separator is not found, returns a 3-tuple containing two empty strings\n",
      " |      and the original string.\n",
      " |  \n",
      " |  rsplit(self, /, sep=None, maxsplit=-1)\n",
      " |      Return a list of the words in the string, using sep as the delimiter string.\n",
      " |      \n",
      " |        sep\n",
      " |          The delimiter according which to split the string.\n",
      " |          None (the default value) means split according to any whitespace,\n",
      " |          and discard empty strings from the result.\n",
      " |        maxsplit\n",
      " |          Maximum number of splits to do.\n",
      " |          -1 (the default value) means no limit.\n",
      " |      \n",
      " |      Splits are done starting at the end of the string and working to the front.\n",
      " |  \n",
      " |  rstrip(self, chars=None, /)\n",
      " |      Return a copy of the string with trailing whitespace removed.\n",
      " |      \n",
      " |      If chars is given and not None, remove characters in chars instead.\n",
      " |  \n",
      " |  split(self, /, sep=None, maxsplit=-1)\n",
      " |      Return a list of the words in the string, using sep as the delimiter string.\n",
      " |      \n",
      " |      sep\n",
      " |        The delimiter according which to split the string.\n",
      " |        None (the default value) means split according to any whitespace,\n",
      " |        and discard empty strings from the result.\n",
      " |      maxsplit\n",
      " |        Maximum number of splits to do.\n",
      " |        -1 (the default value) means no limit.\n",
      " |  \n",
      " |  splitlines(self, /, keepends=False)\n",
      " |      Return a list of the lines in the string, breaking at line boundaries.\n",
      " |      \n",
      " |      Line breaks are not included in the resulting list unless keepends is given and\n",
      " |      true.\n",
      " |  \n",
      " |  startswith(...)\n",
      " |      S.startswith(prefix[, start[, end]]) -> bool\n",
      " |      \n",
      " |      Return True if S starts with the specified prefix, False otherwise.\n",
      " |      With optional start, test S beginning at that position.\n",
      " |      With optional end, stop comparing S at that position.\n",
      " |      prefix can also be a tuple of strings to try.\n",
      " |  \n",
      " |  strip(self, chars=None, /)\n",
      " |      Return a copy of the string with leading and trailing whitespace remove.\n",
      " |      \n",
      " |      If chars is given and not None, remove characters in chars instead.\n",
      " |  \n",
      " |  swapcase(self, /)\n",
      " |      Convert uppercase characters to lowercase and lowercase characters to uppercase.\n",
      " |  \n",
      " |  title(self, /)\n",
      " |      Return a version of the string where each word is titlecased.\n",
      " |      \n",
      " |      More specifically, words start with uppercased characters and all remaining\n",
      " |      cased characters have lower case.\n",
      " |  \n",
      " |  translate(self, table, /)\n",
      " |      Replace each character in the string using the given translation table.\n",
      " |      \n",
      " |        table\n",
      " |          Translation table, which must be a mapping of Unicode ordinals to\n",
      " |          Unicode ordinals, strings, or None.\n",
      " |      \n",
      " |      The table must implement lookup/indexing via __getitem__, for instance a\n",
      " |      dictionary or list.  If this operation raises LookupError, the character is\n",
      " |      left untouched.  Characters mapped to None are deleted.\n",
      " |  \n",
      " |  upper(self, /)\n",
      " |      Return a copy of the string converted to uppercase.\n",
      " |  \n",
      " |  zfill(self, width, /)\n",
      " |      Pad a numeric string with zeros on the left, to fill a field of the given width.\n",
      " |      \n",
      " |      The string is never truncated.\n",
      " |  \n",
      " |  ----------------------------------------------------------------------\n",
      " |  Static methods defined here:\n",
      " |  \n",
      " |  __new__(*args, **kwargs) from builtins.type\n",
      " |      Create and return a new object.  See help(type) for accurate signature.\n",
      " |  \n",
      " |  maketrans(x, y=None, z=None, /)\n",
      " |      Return a translation table usable for str.translate().\n",
      " |      \n",
      " |      If there is only one argument, it must be a dictionary mapping Unicode\n",
      " |      ordinals (integers) or characters to Unicode ordinals, strings or None.\n",
      " |      Character keys will be then converted to ordinals.\n",
      " |      If there are two arguments, they must be strings of equal length, and\n",
      " |      in the resulting dictionary, each character in x will be mapped to the\n",
      " |      character at the same position in y. If there is a third argument, it\n",
      " |      must be a string, whose characters will be mapped to None in the result.\n",
      "\n"
     ]
    }
   ],
   "source": [
    "help(str)"
   ]
  },
  {
   "cell_type": "markdown",
   "metadata": {},
   "source": [
    "# Use tab completion to get help while coding\n",
    "An even better method for finding the available list of methods is with the tab completion functionality of IPython. To make use of tab completion, write the name of your variable followed by a dot and then press **tab**. A drop down menu will appear with a list of the methods. It will look like this: ![][1]\n",
    "\n",
    "[1]: images/string_methods.png\n",
    "\n",
    "Reproduce this drop down menu in the below cell:"
   ]
  },
  {
   "cell_type": "code",
   "execution_count": 19,
   "metadata": {},
   "outputs": [
    {
     "data": {
      "text/plain": [
       "'my own personal string'"
      ]
     },
     "execution_count": 19,
     "metadata": {},
     "output_type": "execute_result"
    }
   ],
   "source": [
    "# Place your cursor at the end of the next line and press tab\n",
    "my_string.casefold()"
   ]
  },
  {
   "cell_type": "markdown",
   "metadata": {},
   "source": [
    "# Use the `dir` function as yet another way\n",
    "One further method for finding all the functionality of a particular variable is to pass it to the **`dir`** function."
   ]
  },
  {
   "cell_type": "code",
   "execution_count": 20,
   "metadata": {},
   "outputs": [
    {
     "data": {
      "text/plain": [
       "['__add__',\n",
       " '__class__',\n",
       " '__contains__',\n",
       " '__delattr__',\n",
       " '__dir__',\n",
       " '__doc__',\n",
       " '__eq__',\n",
       " '__format__',\n",
       " '__ge__',\n",
       " '__getattribute__',\n",
       " '__getitem__',\n",
       " '__getnewargs__',\n",
       " '__gt__',\n",
       " '__hash__',\n",
       " '__init__',\n",
       " '__init_subclass__',\n",
       " '__iter__',\n",
       " '__le__',\n",
       " '__len__',\n",
       " '__lt__',\n",
       " '__mod__',\n",
       " '__mul__',\n",
       " '__ne__',\n",
       " '__new__',\n",
       " '__reduce__',\n",
       " '__reduce_ex__',\n",
       " '__repr__',\n",
       " '__rmod__',\n",
       " '__rmul__',\n",
       " '__setattr__',\n",
       " '__sizeof__',\n",
       " '__str__',\n",
       " '__subclasshook__',\n",
       " 'capitalize',\n",
       " 'casefold',\n",
       " 'center',\n",
       " 'count',\n",
       " 'encode',\n",
       " 'endswith',\n",
       " 'expandtabs',\n",
       " 'find',\n",
       " 'format',\n",
       " 'format_map',\n",
       " 'index',\n",
       " 'isalnum',\n",
       " 'isalpha',\n",
       " 'isascii',\n",
       " 'isdecimal',\n",
       " 'isdigit',\n",
       " 'isidentifier',\n",
       " 'islower',\n",
       " 'isnumeric',\n",
       " 'isprintable',\n",
       " 'isspace',\n",
       " 'istitle',\n",
       " 'isupper',\n",
       " 'join',\n",
       " 'ljust',\n",
       " 'lower',\n",
       " 'lstrip',\n",
       " 'maketrans',\n",
       " 'partition',\n",
       " 'replace',\n",
       " 'rfind',\n",
       " 'rindex',\n",
       " 'rjust',\n",
       " 'rpartition',\n",
       " 'rsplit',\n",
       " 'rstrip',\n",
       " 'split',\n",
       " 'splitlines',\n",
       " 'startswith',\n",
       " 'strip',\n",
       " 'swapcase',\n",
       " 'title',\n",
       " 'translate',\n",
       " 'upper',\n",
       " 'zfill']"
      ]
     },
     "execution_count": 20,
     "metadata": {},
     "output_type": "execute_result"
    }
   ],
   "source": [
    "dir(my_string)"
   ]
  },
  {
   "cell_type": "markdown",
   "metadata": {},
   "source": [
    "# What are all those methods beginning and ending with underscores?\n",
    "Methods that both begin and end with double underscores are \"special\" or \"magic\" methods that allow for Python objects to have a standard way of using the operators and built-in functions. These methods are not intended for public use and are not important at this point of your Python career. \n",
    "\n",
    "However, they are very important for developing new types on your own. They will be covered in the supplemental material on object-oriented programming.\n",
    "\n",
    "# Getting help with these methods\n",
    "Knowing the method name is sometimes enough to understand what its intended purpose is, but often times you will need to read more on how the method actually works, especially if there are parameters. This is referred to as **reading the documentation** or **reading the docs** and is an extremely important skill to acquire.\n",
    "\n",
    "# Using the `help` function (again)\n",
    "You can use the **`help`** function to output the documentation. Place the variable followed by dot and method name inside the help function. Take note to not actually call this method and write it without parentheses. \n",
    "\n",
    "In the below cell, we get help on the **`replace`** string method."
   ]
  },
  {
   "cell_type": "code",
   "execution_count": 21,
   "metadata": {},
   "outputs": [
    {
     "name": "stdout",
     "output_type": "stream",
     "text": [
      "Help on built-in function replace:\n",
      "\n",
      "replace(old, new, count=-1, /) method of builtins.str instance\n",
      "    Return a copy with all occurrences of substring old replaced by new.\n",
      "    \n",
      "      count\n",
      "        Maximum number of occurrences to replace.\n",
      "        -1 (the default value) means replace all occurrences.\n",
      "    \n",
      "    If the optional argument count is given, only the first count occurrences are\n",
      "    replaced.\n",
      "\n"
     ]
    }
   ],
   "source": [
    "replace_string = 'replace each letter a in this string with A'\n",
    "\n",
    "\n",
    "help(replace_string.replace)"
   ]
  },
  {
   "cell_type": "markdown",
   "metadata": {},
   "source": [
    "# Understanding the output of the `help` function\n",
    "The above output is referred to as the **docstring**. Docstring comes from the fact that the documentation in Python can be written inside of a method as a string. More on this later.\n",
    "\n",
    "The second line from the docstring tells us that **`replace`** is indeed a method from the built-in string type. The word **`instance`** is a technical term denoting that the variable **`replace_string`** is a single member of the string type. This distinction will become important during the object-oriented programming section.\n",
    "\n",
    "The following line:\n",
    "\n",
    " ```\n",
    " S.replace(old, new[, count]) -> str\n",
    " ```\n",
    "\n",
    "is called the **method signature**. It informs us that there are three parameters, **`old`**, **`new`**, and **`count`**. Both **`old`** and **`new`** are **required** parameters while **`count`** is an **optional** parameter. For builtin types, optional parameters are always denoted in brackets inside the docstrings. The word that follows the arrow, **`->`**, tells us what type is returned from the method (another string in this instance).\n",
    "\n",
    "The remaining text gives us a short description on what the method actually does.\n",
    "\n",
    "### Using the `replace` method\n",
    "The **`replace`** method requires that we give it values for the two parameters **`old`** and **`new`**. If we don't supply it with the correct number of parameters we get the following error:\n",
    "\n",
    "```\n",
    "TypeError: replace() takes at least 2 arguments (0 given)\n",
    "```\n",
    "\n",
    "Run the cell below as it is to replicate the error"
   ]
  },
  {
   "cell_type": "code",
   "execution_count": 22,
   "metadata": {},
   "outputs": [
    {
     "ename": "TypeError",
     "evalue": "replace() takes at least 2 arguments (0 given)",
     "output_type": "error",
     "traceback": [
      "\u001b[0;31m---------------------------------------------------------------------------\u001b[0m",
      "\u001b[0;31mTypeError\u001b[0m                                 Traceback (most recent call last)",
      "\u001b[0;32m<ipython-input-22-2d0d4c21f106>\u001b[0m in \u001b[0;36m<module>\u001b[0;34m\u001b[0m\n\u001b[1;32m      1\u001b[0m \u001b[0;31m# run this cell as it is\u001b[0m\u001b[0;34m\u001b[0m\u001b[0;34m\u001b[0m\u001b[0;34m\u001b[0m\u001b[0m\n\u001b[0;32m----> 2\u001b[0;31m \u001b[0mreplace_string\u001b[0m\u001b[0;34m.\u001b[0m\u001b[0mreplace\u001b[0m\u001b[0;34m(\u001b[0m\u001b[0;34m)\u001b[0m\u001b[0;34m\u001b[0m\u001b[0;34m\u001b[0m\u001b[0m\n\u001b[0m",
      "\u001b[0;31mTypeError\u001b[0m: replace() takes at least 2 arguments (0 given)"
     ]
    }
   ],
   "source": [
    "# run this cell as it is\n",
    "replace_string.replace()"
   ]
  },
  {
   "cell_type": "markdown",
   "metadata": {},
   "source": [
    "### Using `replace` correctly\n",
    "Let's replace each lowercase **a** with an uppercase **A**. From the docstring above, we know that the first parameter is **`old`** and the second is **`new`**. We pass the parameter values into the method by separating them with commas."
   ]
  },
  {
   "cell_type": "code",
   "execution_count": null,
   "metadata": {},
   "outputs": [],
   "source": [
    "replace_string.replace('a', 'A')"
   ]
  },
  {
   "cell_type": "markdown",
   "metadata": {},
   "source": [
    "### Using the optional `count` parameter\n",
    "From the documentation, we know that we can limit the number of replacements by passing a value for the optional third parameter **`count`**. Let's limit the replacement to the first 2."
   ]
  },
  {
   "cell_type": "code",
   "execution_count": null,
   "metadata": {},
   "outputs": [],
   "source": [
    "replace_string.replace('a', 'A', 2)"
   ]
  },
  {
   "cell_type": "markdown",
   "metadata": {},
   "source": [
    "# Getting help while coding\n",
    "One of my favorite tricks is to have the docstrings appear in a pop-up window as I am coding. It will look like this:\n",
    "\n",
    "![][1]\n",
    "\n",
    "To make the docstrings pop-up in-place, type out your method and **hold shift + tab + tab**\n",
    "\n",
    "[1]: images/string_docstring.png"
   ]
  },
  {
   "cell_type": "code",
   "execution_count": null,
   "metadata": {},
   "outputs": [],
   "source": [
    "# place the cursor at the end of the line then hold shift and press tab twice\n",
    "replace_string.replace"
   ]
  },
  {
   "cell_type": "markdown",
   "metadata": {},
   "source": [
    "### Problem 1\n",
    "<span style=\"color:green\">Replace each occurrence of 'in' with 'out' in the following string. </span>"
   ]
  },
  {
   "cell_type": "code",
   "execution_count": 23,
   "metadata": {},
   "outputs": [
    {
     "data": {
      "text/plain": [
       "'it is startoutg to raout on the outside'"
      ]
     },
     "execution_count": 23,
     "metadata": {},
     "output_type": "execute_result"
    }
   ],
   "source": [
    "replace_string = 'it is starting to rain on the inside'\n",
    "replace_string.replace('in', 'out')\n",
    "# your code here"
   ]
  },
  {
   "cell_type": "markdown",
   "metadata": {},
   "source": [
    "### Problem 2\n",
    "<span style=\"color:green\">Find and use a method that will strip away all the exclamation points from either end of the following string. </span>"
   ]
  },
  {
   "cell_type": "code",
   "execution_count": 24,
   "metadata": {},
   "outputs": [
    {
     "data": {
      "text/plain": [
       "'a string with a dull message'"
      ]
     },
     "execution_count": 24,
     "metadata": {},
     "output_type": "execute_result"
    }
   ],
   "source": [
    "s = '!!!!a string with a dull message!!!!'\n",
    "s.strip('!')\n",
    "# your code here"
   ]
  },
  {
   "cell_type": "markdown",
   "metadata": {},
   "source": [
    "### Problem 3\n",
    "<span style=\"color:green\">Find and use a method that will find the position of the first occurrence of the letter `t` in the following string. </span>"
   ]
  },
  {
   "cell_type": "code",
   "execution_count": 25,
   "metadata": {},
   "outputs": [
    {
     "data": {
      "text/plain": [
       "4"
      ]
     },
     "execution_count": 25,
     "metadata": {},
     "output_type": "execute_result"
    }
   ],
   "source": [
    "s = 'a data scientist'\n",
    "s.find('t')\n",
    "# your code here"
   ]
  },
  {
   "cell_type": "markdown",
   "metadata": {},
   "source": [
    "### Chaining methods\n",
    "\n",
    "Most of the string methods **return** another string, with the exceptions being the **`count`** method which returns an integer and the **`split`** method which returns a list. In fact, all methods in Python return an object.\n",
    "\n",
    "As programmers, we can continue calling new methods on this returned object without first saving it to a new variable. This is called **method chaining**.  Let's do an example where we slowly build a chain of methods. We will start with a string and call string methods that return other strings.\n",
    "\n",
    "We will start by calling a single method to strip away the punctuation from just the right side with **`rstrip`**."
   ]
  },
  {
   "cell_type": "code",
   "execution_count": 26,
   "metadata": {},
   "outputs": [
    {
     "data": {
      "text/plain": [
       "'?!?!?!A HIDDEN TEST STRING'"
      ]
     },
     "execution_count": 26,
     "metadata": {},
     "output_type": "execute_result"
    }
   ],
   "source": [
    "s = '?!?!?!A HIDDEN TEST STRING??!!?!'\n",
    "s.rstrip('?!')"
   ]
  },
  {
   "cell_type": "markdown",
   "metadata": {},
   "source": [
    "### Our first method chain\n",
    "\n",
    "We can chain an additional method after **`rstrip`** by simply adding a dot and method name as usual. Let's append the **`lower`** method to lowercase the letters."
   ]
  },
  {
   "cell_type": "code",
   "execution_count": 27,
   "metadata": {},
   "outputs": [
    {
     "data": {
      "text/plain": [
       "'?!?!?!a hidden test string'"
      ]
     },
     "execution_count": 27,
     "metadata": {},
     "output_type": "execute_result"
    }
   ],
   "source": [
    "s.rstrip('?!').lower()"
   ]
  },
  {
   "cell_type": "markdown",
   "metadata": {},
   "source": [
    "### An infinite number of chains are possible\n",
    "There is no limit to how many methods you can chain together. Let's add a couple more:"
   ]
  },
  {
   "cell_type": "code",
   "execution_count": 28,
   "metadata": {},
   "outputs": [
    {
     "data": {
      "text/plain": [
       "2"
      ]
     },
     "execution_count": 28,
     "metadata": {},
     "output_type": "execute_result"
    }
   ],
   "source": [
    "s.rstrip('?!').lower().replace('t', 'a').count('e')"
   ]
  },
  {
   "cell_type": "markdown",
   "metadata": {},
   "source": [
    "### Chaining on multiple lines\n",
    "In other languages (like JavaScript), chaining methods is very common and is usually written more clearly and cleanly with one method per line. **Whitespace** matters in Python and so we can't just write each method on a separate line. Python gives you a couple different ways to work around this.\n",
    "* Wrapping the entire expression in parentheses\n",
    "* Using a backslash character at the end of each line\n",
    "\n",
    "Most Python programmers prefer the former. It's also custom to line up the methods directly by the dots."
   ]
  },
  {
   "cell_type": "code",
   "execution_count": 29,
   "metadata": {},
   "outputs": [
    {
     "data": {
      "text/plain": [
       "2"
      ]
     },
     "execution_count": 29,
     "metadata": {},
     "output_type": "execute_result"
    }
   ],
   "source": [
    "# using parethenses to put methods on different lines\n",
    "(s.rstrip('?!')\n",
    "  .lower()\n",
    "  .replace('t', 'a')\n",
    "  .count('e'))"
   ]
  },
  {
   "cell_type": "code",
   "execution_count": 30,
   "metadata": {},
   "outputs": [
    {
     "data": {
      "text/plain": [
       "2"
      ]
     },
     "execution_count": 30,
     "metadata": {},
     "output_type": "execute_result"
    }
   ],
   "source": [
    "#  This also works but most python programmers dislike it\n",
    "s.rstrip('?!') \\\n",
    " .lower() \\\n",
    " .replace('t', 'a') \\\n",
    " .count('e')"
   ]
  },
  {
   "cell_type": "markdown",
   "metadata": {},
   "source": [
    "### Problem 4\n",
    "<span style=\"color:green\">Strip each letter 'a' from the left side, switch the case of each letter (from lower to upper and from upper to lower), and find the position(aka index) of the first letter 'o' </span>"
   ]
  },
  {
   "cell_type": "code",
   "execution_count": 33,
   "metadata": {},
   "outputs": [],
   "source": [
    "test_string = 'aaaa TOO many aaaaaaaaa'\n",
    "# test_string.lstrip('aaaa').upper().find('o')\n",
    "a_string = test_string.lstrip('aaa')\n",
    "\n",
    "# your code here"
   ]
  },
  {
   "cell_type": "code",
   "execution_count": 36,
   "metadata": {},
   "outputs": [
    {
     "data": {
      "text/plain": [
       "2"
      ]
     },
     "execution_count": 36,
     "metadata": {},
     "output_type": "execute_result"
    }
   ],
   "source": [
    "a_string.swapcase().find('o')"
   ]
  },
  {
   "cell_type": "markdown",
   "metadata": {},
   "source": [
    "### Getting the length of a string: Is there a method for this?\n",
    "Obtaining the length of a string is one of the most straightforward pieces of information that you could get from it. By working through the above examples, you would think that there might be a method like...   \n",
    "\n",
    "`>>> test_string.len()`  \n",
    "\n",
    "But this doesn't exist.\n",
    "\n",
    "### So how do you get the length of a string?\n",
    "The builtin **function** **`len`** that returns the string length."
   ]
  },
  {
   "cell_type": "code",
   "execution_count": null,
   "metadata": {},
   "outputs": [],
   "source": [
    "# Getting the length of a string using the len function\n",
    "test_string = 'yet another test string'\n",
    "len(test_string)"
   ]
  },
  {
   "cell_type": "markdown",
   "metadata": {},
   "source": [
    "### More on the `len` function\n",
    "The **`len`** function is used to get the number of elements from a wide variety of objects, not just strings, such as with tuples, lists, sets, dictionaries, and many others."
   ]
  },
  {
   "cell_type": "markdown",
   "metadata": {},
   "source": [
    "# Concatenating strings\n",
    "Again, there is no direct method to concatenate strings together. There isn't even a function to do this either. Instead, we use the plus operator. See some examples below:"
   ]
  },
  {
   "cell_type": "code",
   "execution_count": 37,
   "metadata": {},
   "outputs": [
    {
     "data": {
      "text/plain": [
       "'abcdefghijklmnop'"
      ]
     },
     "execution_count": 37,
     "metadata": {},
     "output_type": "execute_result"
    }
   ],
   "source": [
    "'abcde' + 'fghijk' + 'lmnop'"
   ]
  },
  {
   "cell_type": "code",
   "execution_count": 38,
   "metadata": {},
   "outputs": [
    {
     "data": {
      "text/plain": [
       "'machine'"
      ]
     },
     "execution_count": 38,
     "metadata": {},
     "output_type": "execute_result"
    }
   ],
   "source": [
    "string1 = 'mac'\n",
    "string2 = 'hine'\n",
    "\n",
    "string1 + string2"
   ]
  },
  {
   "cell_type": "markdown",
   "metadata": {},
   "source": [
    "### What happens if you subtract strings?\n",
    "The subtraction operator is unsupported for strings and will produce an error."
   ]
  },
  {
   "cell_type": "code",
   "execution_count": 39,
   "metadata": {},
   "outputs": [
    {
     "ename": "TypeError",
     "evalue": "unsupported operand type(s) for -: 'str' and 'str'",
     "output_type": "error",
     "traceback": [
      "\u001b[0;31m---------------------------------------------------------------------------\u001b[0m",
      "\u001b[0;31mTypeError\u001b[0m                                 Traceback (most recent call last)",
      "\u001b[0;32m<ipython-input-39-a23aedcc9b46>\u001b[0m in \u001b[0;36m<module>\u001b[0;34m\u001b[0m\n\u001b[0;32m----> 1\u001b[0;31m \u001b[0;34m'asdfa'\u001b[0m \u001b[0;34m-\u001b[0m \u001b[0;34m'a'\u001b[0m\u001b[0;34m\u001b[0m\u001b[0;34m\u001b[0m\u001b[0m\n\u001b[0m",
      "\u001b[0;31mTypeError\u001b[0m: unsupported operand type(s) for -: 'str' and 'str'"
     ]
    }
   ],
   "source": [
    "'asdfa' - 'a'"
   ]
  },
  {
   "cell_type": "markdown",
   "metadata": {},
   "source": [
    "### Repeat a string with the multiplication operator\n",
    "Interestingly, the multiplication operator is available to use with strings. Multiply any string by an integer and you will produce a new string concatenated to itself that many times. "
   ]
  },
  {
   "cell_type": "code",
   "execution_count": 40,
   "metadata": {},
   "outputs": [
    {
     "data": {
      "text/plain": [
       "'some test words | some test words | some test words | some test words | some test words | '"
      ]
     },
     "execution_count": 40,
     "metadata": {},
     "output_type": "execute_result"
    }
   ],
   "source": [
    "# The string is repeatedly concatenated to itself via multiplication\n",
    "'some test words | ' * 5"
   ]
  },
  {
   "cell_type": "markdown",
   "metadata": {},
   "source": [
    "# String Interpolation\n",
    "**String interpolation** refers to the substitution of variable values inside of strings. Python recently upgraded its string interpolation in 3.6 to make it easier and more intuitive with something called **f-strings** which is short for formatted literal strings.\n",
    "\n",
    "## f-string basics\n",
    "Substituting variable values into strings is quite easy with f-strings. Here are the two steps that you must follow:\n",
    "* Prefix the string with the letter **`f`**\n",
    "* Surround the variable with curly braces within the string\n",
    "\n",
    "In the example below, we create three variables and replace them in the sentence with an f-string. Notice the **`f`** prefix."
   ]
  },
  {
   "cell_type": "code",
   "execution_count": 41,
   "metadata": {},
   "outputs": [
    {
     "data": {
      "text/plain": [
       "'Employee Ted is a data scientist and earns 3 dollars per year'"
      ]
     },
     "execution_count": 41,
     "metadata": {},
     "output_type": "execute_result"
    }
   ],
   "source": [
    "name = 'Ted'\n",
    "occupation = 'data scientist'\n",
    "salary = 3\n",
    "\n",
    "# f-string - substitute name, occupation, and salary\n",
    "f'Employee {name} is a {occupation} and earns {salary} dollars per year'"
   ]
  },
  {
   "cell_type": "markdown",
   "metadata": {},
   "source": [
    "## Using the older `format` method\n",
    "Prior to f-strings you had to use the format string method. Not everyone has upgraded yet to Python 3.6, so you will still see this syntax used frequently.\n",
    "\n",
    "There are a few ways to use the **`format`** method. As with f-strings, you use curly braces within the string in the place where you want to make the substitution. The braces may be empty and by default they will take on the values in the order used as arguments in the format method."
   ]
  },
  {
   "cell_type": "code",
   "execution_count": 42,
   "metadata": {},
   "outputs": [
    {
     "data": {
      "text/plain": [
       "'Employee Ted is a data scientist and earns 3 dollars per year'"
      ]
     },
     "execution_count": 42,
     "metadata": {},
     "output_type": "execute_result"
    }
   ],
   "source": [
    "name = 'Ted'\n",
    "occupation = 'data scientist'\n",
    "salary = 3\n",
    "\n",
    "'Employee {} is a {} and earns {} dollars per year'.format(name, occupation, salary)"
   ]
  },
  {
   "cell_type": "markdown",
   "metadata": {},
   "source": [
    "### `format` method without first declaring variables\n",
    "\n",
    "You can use the literal values as arguments in the format method without first declaring them as variables."
   ]
  },
  {
   "cell_type": "code",
   "execution_count": 43,
   "metadata": {},
   "outputs": [
    {
     "data": {
      "text/plain": [
       "'Employee Sally is a Doctor and earns 4 dollars per year'"
      ]
     },
     "execution_count": 43,
     "metadata": {},
     "output_type": "execute_result"
    }
   ],
   "source": [
    "'Employee {} is a {} and earns {} dollars per year'.format('Sally', 'Doctor', 4)"
   ]
  },
  {
   "cell_type": "markdown",
   "metadata": {},
   "source": [
    "### `format` method with parameter names\n",
    "\n",
    "Similarly to f-string, you can name your parameters in the `format` method and use those names to explicitly identify the variable during interpolation."
   ]
  },
  {
   "cell_type": "code",
   "execution_count": 44,
   "metadata": {},
   "outputs": [
    {
     "data": {
      "text/plain": [
       "'Employee George is a Marketer and earns 2 dollars per year'"
      ]
     },
     "execution_count": 44,
     "metadata": {},
     "output_type": "execute_result"
    }
   ],
   "source": [
    "name = 'George'\n",
    "occupation = 'Marketer'\n",
    "salary = 2\n",
    "\n",
    "'Employee {name} is a {occ} and earns {sal} dollars per year'.format(sal=salary, name=name, occ=occupation)"
   ]
  },
  {
   "cell_type": "markdown",
   "metadata": {},
   "source": [
    "## Use f-strings for your projects\n",
    "\n",
    "I encourage you to use f-strings as they are very intuitive and very popular amongst Python programmers. But, keep in mind that many projects that you work on with other developers will require the older format method.\n",
    "\n",
    "## Much more to string formatting\n",
    "This intro just scratches the surface to string interpolation, also known as string formatting. Read this [blog post][1] a more detailed discussion.\n",
    "\n",
    "[1]: https://realpython.com/python-f-strings/#option-1-formatting"
   ]
  },
  {
   "cell_type": "markdown",
   "metadata": {},
   "source": [
    "# Selecting substrings\n",
    "We first introduce the index operator (square brackets), **`[ ]`** which is fundamental to scientific computing in Python. The **`[ ]`** operator has the ability to select item(s) from a sequence in a wide variety of manners. Since strings are sequences of characters, the **`[ ]`** operator provides lots of functionality for strings. \n",
    "\n",
    "## The index of each character\n",
    "The **index** of each character is defined as the integer location of each character. The integer location starts at 0 from the beginning of the string. \n",
    "\n",
    "## Selecting a single character\n",
    "To select a single character from a string, append the index operator to the string and place the integer location of the desired character. Let's select the first character from the following string."
   ]
  },
  {
   "cell_type": "code",
   "execution_count": 45,
   "metadata": {},
   "outputs": [
    {
     "data": {
      "text/plain": [
       "'m'"
      ]
     },
     "execution_count": 45,
     "metadata": {},
     "output_type": "execute_result"
    }
   ],
   "source": [
    "test_string = 'make sure you complete the entire precourse'\n",
    "test_string[0]"
   ]
  },
  {
   "cell_type": "markdown",
   "metadata": {},
   "source": [
    "## Selecting other characters\n",
    "All characters of the string may be selected individually in this manner. Let's select index 4."
   ]
  },
  {
   "cell_type": "code",
   "execution_count": 46,
   "metadata": {},
   "outputs": [
    {
     "data": {
      "text/plain": [
       "' '"
      ]
     },
     "execution_count": 46,
     "metadata": {},
     "output_type": "execute_result"
    }
   ],
   "source": [
    "# An empty space\n",
    "test_string[4]"
   ]
  },
  {
   "cell_type": "markdown",
   "metadata": {},
   "source": [
    "## Using negative indices to select from the end\n",
    "It is possible to use negative integers to select from the end of a string. Let's select the last element."
   ]
  },
  {
   "cell_type": "code",
   "execution_count": 47,
   "metadata": {},
   "outputs": [
    {
     "data": {
      "text/plain": [
       "'e'"
      ]
     },
     "execution_count": 47,
     "metadata": {},
     "output_type": "execute_result"
    }
   ],
   "source": [
    "test_string[-1]"
   ]
  },
  {
   "cell_type": "code",
   "execution_count": 48,
   "metadata": {},
   "outputs": [
    {
     "data": {
      "text/plain": [
       "'p'"
      ]
     },
     "execution_count": 48,
     "metadata": {},
     "output_type": "execute_result"
    }
   ],
   "source": [
    "test_string[-9]"
   ]
  },
  {
   "cell_type": "markdown",
   "metadata": {},
   "source": [
    "## Index error\n",
    "Not all integers are valid indexes. You will be met with an **`IndexError`** if the integer is not within the correct range."
   ]
  },
  {
   "cell_type": "code",
   "execution_count": 49,
   "metadata": {},
   "outputs": [
    {
     "ename": "IndexError",
     "evalue": "string index out of range",
     "output_type": "error",
     "traceback": [
      "\u001b[0;31m---------------------------------------------------------------------------\u001b[0m",
      "\u001b[0;31mIndexError\u001b[0m                                Traceback (most recent call last)",
      "\u001b[0;32m<ipython-input-49-6748c54f75ba>\u001b[0m in \u001b[0;36m<module>\u001b[0;34m\u001b[0m\n\u001b[0;32m----> 1\u001b[0;31m \u001b[0mtest_string\u001b[0m\u001b[0;34m[\u001b[0m\u001b[0;36m1000\u001b[0m\u001b[0;34m]\u001b[0m\u001b[0;34m\u001b[0m\u001b[0;34m\u001b[0m\u001b[0m\n\u001b[0m",
      "\u001b[0;31mIndexError\u001b[0m: string index out of range"
     ]
    }
   ],
   "source": [
    "test_string[1000]"
   ]
  },
  {
   "cell_type": "markdown",
   "metadata": {},
   "source": [
    "## Slice notation to select a substring\n",
    "In addition to selecting single characters, we can easily select substrings (multiple characters) from our string with **slice notation**. Slice notation is composed of three integers, **start**, **stop**, and **step**. These three integers are separated by a colon. The **step** integer is optional and is always defaulted to 1. The generic form for slice notation looks like this:\n",
    "\n",
    "> `start:stop:step`\n",
    "\n",
    "Slice notation is placed within the square brackets following the string. Let's select a substring from index 5 to index 13."
   ]
  },
  {
   "cell_type": "code",
   "execution_count": 50,
   "metadata": {},
   "outputs": [
    {
     "data": {
      "text/plain": [
       "'sure you'"
      ]
     },
     "execution_count": 50,
     "metadata": {},
     "output_type": "execute_result"
    }
   ],
   "source": [
    "test_string[5:13]"
   ]
  },
  {
   "cell_type": "markdown",
   "metadata": {},
   "source": [
    "## The stop index is not included\n",
    "The above slice notation, **`5:13`**, begins at index 5 and selects all characters up to but NOT including index 13. Let's verify this by selecting index 12 and index 13."
   ]
  },
  {
   "cell_type": "code",
   "execution_count": 51,
   "metadata": {},
   "outputs": [
    {
     "data": {
      "text/plain": [
       "'u'"
      ]
     },
     "execution_count": 51,
     "metadata": {},
     "output_type": "execute_result"
    }
   ],
   "source": [
    "test_string[12]"
   ]
  },
  {
   "cell_type": "code",
   "execution_count": 52,
   "metadata": {},
   "outputs": [
    {
     "data": {
      "text/plain": [
       "' '"
      ]
     },
     "execution_count": 52,
     "metadata": {},
     "output_type": "execute_result"
    }
   ],
   "source": [
    "test_string[13]"
   ]
  },
  {
   "cell_type": "markdown",
   "metadata": {},
   "source": [
    "## The step integer is optional\n",
    "We could have included the step integer 1 like so below, but it is not necessary."
   ]
  },
  {
   "cell_type": "code",
   "execution_count": 53,
   "metadata": {},
   "outputs": [
    {
     "data": {
      "text/plain": [
       "'sure you'"
      ]
     },
     "execution_count": 53,
     "metadata": {},
     "output_type": "execute_result"
    }
   ],
   "source": [
    "test_string[5:13:1]"
   ]
  },
  {
   "cell_type": "markdown",
   "metadata": {},
   "source": [
    "## Stepping by something other than 1\n",
    "We can step by any integer we want. Let's select every other letter from that same substring."
   ]
  },
  {
   "cell_type": "code",
   "execution_count": 54,
   "metadata": {},
   "outputs": [
    {
     "data": {
      "text/plain": [
       "'sr o'"
      ]
     },
     "execution_count": 54,
     "metadata": {},
     "output_type": "execute_result"
    }
   ],
   "source": [
    "test_string[5:13:2]"
   ]
  },
  {
   "cell_type": "markdown",
   "metadata": {},
   "source": [
    "## Both start and stop integers are optional as well\n",
    "Let's say we want to select the first 5 characters of the string. It is not necessary to use the integer 0 as the start position and instead it is much more common to see the following:"
   ]
  },
  {
   "cell_type": "code",
   "execution_count": 55,
   "metadata": {},
   "outputs": [
    {
     "data": {
      "text/plain": [
       "'make '"
      ]
     },
     "execution_count": 55,
     "metadata": {},
     "output_type": "execute_result"
    }
   ],
   "source": [
    "test_string[:5]"
   ]
  },
  {
   "cell_type": "markdown",
   "metadata": {},
   "source": [
    "## Omit the stop value to slice to the end\n",
    "If the stop value is not provided, then the selection will continue until the end of the string."
   ]
  },
  {
   "cell_type": "markdown",
   "metadata": {},
   "source": [
    "### Problem 5\n",
    "<span style=\"color:green\">Select the last three letters of the following string.</span>"
   ]
  },
  {
   "cell_type": "code",
   "execution_count": 56,
   "metadata": {},
   "outputs": [
    {
     "data": {
      "text/plain": [
       "'rse'"
      ]
     },
     "execution_count": 56,
     "metadata": {},
     "output_type": "execute_result"
    }
   ],
   "source": [
    "test_string = 'make sure you complete the entire precourse'\n",
    "test_string[-3:]\n",
    "# your code here"
   ]
  },
  {
   "cell_type": "markdown",
   "metadata": {},
   "source": [
    "## Slice notation is only understood within the brackets of sequence objects\n",
    "The syntax for the slice notation is not correct Python outside of this specific location in square brackets following some kind of sequence object. See the **`SyntaxError`** below:"
   ]
  },
  {
   "cell_type": "code",
   "execution_count": 57,
   "metadata": {},
   "outputs": [
    {
     "ename": "SyntaxError",
     "evalue": "invalid syntax (<ipython-input-57-755b926d091f>, line 1)",
     "output_type": "error",
     "traceback": [
      "\u001b[0;36m  File \u001b[0;32m\"<ipython-input-57-755b926d091f>\"\u001b[0;36m, line \u001b[0;32m1\u001b[0m\n\u001b[0;31m    s = [5:13:2]\u001b[0m\n\u001b[0m          ^\u001b[0m\n\u001b[0;31mSyntaxError\u001b[0m\u001b[0;31m:\u001b[0m invalid syntax\n"
     ]
    }
   ],
   "source": [
    "s = [5:13:2]"
   ]
  },
  {
   "cell_type": "markdown",
   "metadata": {},
   "source": [
    "## Using the `slice` function\n",
    "The **`slice`** builtin function exists if you would like to create a slice outside of its usual place. You can then place this slice object inside of the square brackets as you did with the above."
   ]
  },
  {
   "cell_type": "code",
   "execution_count": 58,
   "metadata": {},
   "outputs": [
    {
     "data": {
      "text/plain": [
       "'sure you'"
      ]
     },
     "execution_count": 58,
     "metadata": {},
     "output_type": "execute_result"
    }
   ],
   "source": [
    "a_slice = slice(5, 13)\n",
    "\n",
    "test_string[a_slice]"
   ]
  },
  {
   "cell_type": "code",
   "execution_count": 59,
   "metadata": {},
   "outputs": [
    {
     "data": {
      "text/plain": [
       "slice(5, 13, None)"
      ]
     },
     "execution_count": 59,
     "metadata": {},
     "output_type": "execute_result"
    }
   ],
   "source": [
    "a_slice"
   ]
  },
  {
   "cell_type": "markdown",
   "metadata": {},
   "source": [
    "## Don't use the `slice` function for now\n",
    "There is no need to use the **`slice`** function as a beginning Python student. It does have value, but usually only necessary in advanced use cases. Use **slice notation** instead.\n",
    "\n",
    "## Reversing a string with a step of -1\n",
    "\n",
    "It is possible to have a negative integer for the step value of a slice. This will have the effect of selecting the slice in reverse. For this to work properly, the start index must be further to the right than the stop index. Let's see this by starting at the index 13 and selecting down to but not including index 5."
   ]
  },
  {
   "cell_type": "code",
   "execution_count": 60,
   "metadata": {},
   "outputs": [
    {
     "data": {
      "text/plain": [
       "' uoy eru'"
      ]
     },
     "execution_count": 60,
     "metadata": {},
     "output_type": "execute_result"
    }
   ],
   "source": [
    "test_string[13:5:-1]"
   ]
  },
  {
   "cell_type": "markdown",
   "metadata": {},
   "source": [
    "## Reversing a string\n",
    "From the above example, it would seem that to reverse a string entirely, the start index would need to be very last index. You might come up with the following solution, which uses as the start index one less than the length of the string, 0 as the stop and -1 as the step. This solution works perfectly well.\n",
    "\n",
    "Take note that you can use variables in slice notation."
   ]
  },
  {
   "cell_type": "code",
   "execution_count": 61,
   "metadata": {},
   "outputs": [
    {
     "data": {
      "text/plain": [
       "'esruocerp eritne eht etelpmoc uoy erus eka'"
      ]
     },
     "execution_count": 61,
     "metadata": {},
     "output_type": "execute_result"
    }
   ],
   "source": [
    "start = len(test_string) - 1\n",
    "stop = 0\n",
    "step = -1\n",
    "\n",
    "test_string[start:stop:step]"
   ]
  },
  {
   "cell_type": "markdown",
   "metadata": {},
   "source": [
    "## A trick to reverse a string\n",
    "An easier, albeit unintuitive method exists to reverse a string. Use the slice notation **`::-1`**."
   ]
  },
  {
   "cell_type": "code",
   "execution_count": 62,
   "metadata": {},
   "outputs": [
    {
     "data": {
      "text/plain": [
       "'esruocerp eritne eht etelpmoc uoy erus ekam'"
      ]
     },
     "execution_count": 62,
     "metadata": {},
     "output_type": "execute_result"
    }
   ],
   "source": [
    "test_string[::-1]"
   ]
  },
  {
   "cell_type": "markdown",
   "metadata": {},
   "source": [
    "## No index error with slicing\n",
    "Surprisingly, no error happens whenever you use an index in slice notation that doesn't exist in the string. For instance, let's slice from index 100 to 140. An **empty** string is returned. There are no characters in an empty string and its length is 0."
   ]
  },
  {
   "cell_type": "code",
   "execution_count": 63,
   "metadata": {},
   "outputs": [
    {
     "data": {
      "text/plain": [
       "''"
      ]
     },
     "execution_count": 63,
     "metadata": {},
     "output_type": "execute_result"
    }
   ],
   "source": [
    "test_string[100:140]"
   ]
  },
  {
   "cell_type": "code",
   "execution_count": 64,
   "metadata": {},
   "outputs": [
    {
     "data": {
      "text/plain": [
       "0"
      ]
     },
     "execution_count": 64,
     "metadata": {},
     "output_type": "execute_result"
    }
   ],
   "source": [
    "len(test_string[100:140])"
   ]
  },
  {
   "cell_type": "markdown",
   "metadata": {},
   "source": [
    "### Problem 6\n",
    "<span style=\"color:green\">Slice this string from index 5 to the end by every 4th element</span>"
   ]
  },
  {
   "cell_type": "code",
   "execution_count": 65,
   "metadata": {},
   "outputs": [
    {
     "data": {
      "text/plain": [
       "'ssliho ian 8'"
      ]
     },
     "execution_count": 65,
     "metadata": {},
     "output_type": "execute_result"
    }
   ],
   "source": [
    "s = 'the astros will win the world series again in 2018'\n",
    "s[5::4]\n",
    "# your code here"
   ]
  },
  {
   "cell_type": "markdown",
   "metadata": {},
   "source": [
    "### Problem 7\n",
    "<span style=\"color:green\">Select every third element starting from the last character and ending with the first. </span>"
   ]
  },
  {
   "cell_type": "code",
   "execution_count": 66,
   "metadata": {},
   "outputs": [
    {
     "data": {
      "text/plain": [
       "'82iiaeedoe wl rah'"
      ]
     },
     "execution_count": 66,
     "metadata": {},
     "output_type": "execute_result"
    }
   ],
   "source": [
    "s = 'the astros will win the world series again in 2018'\n",
    "s[-1::-3]\n",
    "# your code here"
   ]
  },
  {
   "cell_type": "markdown",
   "metadata": {},
   "source": [
    "### Problem 8\n",
    "<span style=\"color:green\">Use four chained methods on a string of your choice.</span>"
   ]
  },
  {
   "cell_type": "code",
   "execution_count": null,
   "metadata": {},
   "outputs": [],
   "source": [
    "# Enter in a string inside the quotes\n",
    "your_string = ''\n",
    "# your code here"
   ]
  },
  {
   "cell_type": "markdown",
   "metadata": {},
   "source": [
    "# Changing the characters of a string\n",
    "You might be surprised to find that once a string is created, nothing about it can change. Technically, strings are **immutable** and cannot be changed once created. Many objects in Python are **mutable** such as lists, which we will cover soon, but not strings.\n",
    "\n",
    "For instance, if we try and change index 7 to **`z`** we will get the following error.\n",
    "\n",
    "> `TypeError: 'str' object does not support item assignment`"
   ]
  },
  {
   "cell_type": "code",
   "execution_count": 67,
   "metadata": {},
   "outputs": [
    {
     "ename": "TypeError",
     "evalue": "'str' object does not support item assignment",
     "output_type": "error",
     "traceback": [
      "\u001b[0;31m---------------------------------------------------------------------------\u001b[0m",
      "\u001b[0;31mTypeError\u001b[0m                                 Traceback (most recent call last)",
      "\u001b[0;32m<ipython-input-67-62617f9c4e81>\u001b[0m in \u001b[0;36m<module>\u001b[0;34m\u001b[0m\n\u001b[0;32m----> 1\u001b[0;31m \u001b[0mtest_string\u001b[0m\u001b[0;34m[\u001b[0m\u001b[0;36m7\u001b[0m\u001b[0;34m]\u001b[0m \u001b[0;34m=\u001b[0m \u001b[0;34m'z'\u001b[0m\u001b[0;34m\u001b[0m\u001b[0;34m\u001b[0m\u001b[0m\n\u001b[0m",
      "\u001b[0;31mTypeError\u001b[0m: 'str' object does not support item assignment"
     ]
    }
   ],
   "source": [
    "test_string[7] = 'z'"
   ]
  },
  {
   "cell_type": "code",
   "execution_count": 68,
   "metadata": {},
   "outputs": [
    {
     "ename": "TypeError",
     "evalue": "'str' object does not support item assignment",
     "output_type": "error",
     "traceback": [
      "\u001b[0;31m---------------------------------------------------------------------------\u001b[0m",
      "\u001b[0;31mTypeError\u001b[0m                                 Traceback (most recent call last)",
      "\u001b[0;32m<ipython-input-68-16f4d91e6482>\u001b[0m in \u001b[0;36m<module>\u001b[0;34m\u001b[0m\n\u001b[0;32m----> 1\u001b[0;31m \u001b[0mtest_string\u001b[0m\u001b[0;34m[\u001b[0m\u001b[0;36m7\u001b[0m\u001b[0;34m:\u001b[0m\u001b[0;36m20\u001b[0m\u001b[0;34m:\u001b[0m\u001b[0;34m-\u001b[0m\u001b[0;36m1\u001b[0m\u001b[0;34m]\u001b[0m \u001b[0;34m=\u001b[0m \u001b[0;34m'z'\u001b[0m\u001b[0;34m\u001b[0m\u001b[0;34m\u001b[0m\u001b[0m\n\u001b[0m",
      "\u001b[0;31mTypeError\u001b[0m: 'str' object does not support item assignment"
     ]
    }
   ],
   "source": [
    "test_string[7:20:-1] = 'z'"
   ]
  },
  {
   "cell_type": "markdown",
   "metadata": {},
   "source": [
    "### Mutable and Immutable Objects\n",
    "Python objects are either mutable or immutable. Mutable objects can have their value's changed after creation. Immutable objects are those whose values cannot be changed after creation.\n",
    "\n",
    "Strings, ints, floats, booleans are types of objects that are immutable (unable to be changed after creation).\n",
    "\n",
    "We will soon learn mutable types like lists, dictionaries and sets."
   ]
  },
  {
   "cell_type": "markdown",
   "metadata": {},
   "source": [
    "### Didn't we have some strings from above that were mutated?\n",
    "In some of the above examples strings were concatenated together to form a new string but the original strings were never changed. Take a look at the following which concatenates two strings and prints out that value. The original strings are left unchanged."
   ]
  },
  {
   "cell_type": "code",
   "execution_count": null,
   "metadata": {},
   "outputs": [],
   "source": [
    "# Concatenation does not mutate the underlying string\n",
    "a = 'string 1 '\n",
    "b = 'string 2'\n",
    "print(a + b)\n",
    "print(a)\n",
    "print(b)"
   ]
  },
  {
   "cell_type": "markdown",
   "metadata": {},
   "source": [
    "### Slicing does not mutate strings either\n",
    "When you use slice notation on a string, you are technically creating an entire new string. In the above examples, we never saved that new string to a variable. Below we will, and show how the original string remained unchanged."
   ]
  },
  {
   "cell_type": "code",
   "execution_count": null,
   "metadata": {},
   "outputs": [],
   "source": [
    "substring = test_string[:5]\n",
    "print(substring)\n",
    "print(test_string)"
   ]
  },
  {
   "cell_type": "markdown",
   "metadata": {},
   "source": [
    "### Multiline comments with strings\n",
    "Instead of using the hash (**`#`**) for commenting out multiple lines of code, Python allows you to use triple quotes that are unassigned to a variable to comment out large blocks of texts. This is actually standard practice for writing documentation in methods that you write and are intuitively named 'docstrings'.\n",
    "\n",
    "The example below uses triple quotes to write a long multi-line comment. This string's sole purpose is as a comment for the developers. Other Python commands follow the comment."
   ]
  },
  {
   "cell_type": "code",
   "execution_count": null,
   "metadata": {},
   "outputs": [],
   "source": [
    "\"\"\"\n",
    "This area can be\n",
    "used as a multiline comment since\n",
    "the normal comment character # does not allow for this.\n",
    "\n",
    "This multiline comment is especially important when writing docstrings for functions\n",
    "\"\"\"\n",
    "foo = \"executing a string assignment\"\n",
    "foo[5:10]"
   ]
  },
  {
   "cell_type": "markdown",
   "metadata": {},
   "source": [
    "### Simple test whether a string contains a substring\n",
    "There is a simple test to determine whether or not one string is a substring of another. Place the **`in`** operator between two strings as follows:"
   ]
  },
  {
   "cell_type": "code",
   "execution_count": 69,
   "metadata": {},
   "outputs": [],
   "source": [
    "s = \"executing a string assignment\""
   ]
  },
  {
   "cell_type": "code",
   "execution_count": 70,
   "metadata": {},
   "outputs": [
    {
     "data": {
      "text/plain": [
       "True"
      ]
     },
     "execution_count": 70,
     "metadata": {},
     "output_type": "execute_result"
    }
   ],
   "source": [
    "'cut' in s"
   ]
  },
  {
   "cell_type": "code",
   "execution_count": 71,
   "metadata": {},
   "outputs": [
    {
     "data": {
      "text/plain": [
       "False"
      ]
     },
     "execution_count": 71,
     "metadata": {},
     "output_type": "execute_result"
    }
   ],
   "source": [
    "'z' in s"
   ]
  },
  {
   "cell_type": "markdown",
   "metadata": {},
   "source": [
    "### Reversing the condition with `not`\n",
    "You can also test whether a string is not a substring with the **`not in `** operator."
   ]
  },
  {
   "cell_type": "code",
   "execution_count": 72,
   "metadata": {},
   "outputs": [
    {
     "data": {
      "text/plain": [
       "True"
      ]
     },
     "execution_count": 72,
     "metadata": {},
     "output_type": "execute_result"
    }
   ],
   "source": [
    "'z' not in s"
   ]
  },
  {
   "cell_type": "markdown",
   "metadata": {},
   "source": [
    "### Alternatively, use the `find` method\n",
    "The find method returns the value -1 if the passed string is not a substring, otherwise it gives the index of the first character where the substring was found."
   ]
  },
  {
   "cell_type": "code",
   "execution_count": 73,
   "metadata": {},
   "outputs": [
    {
     "data": {
      "text/plain": [
       "3"
      ]
     },
     "execution_count": 73,
     "metadata": {},
     "output_type": "execute_result"
    }
   ],
   "source": [
    "# you can use the index method, which gives you the position of the substring if found\n",
    "s.find('cut')"
   ]
  },
  {
   "cell_type": "code",
   "execution_count": 74,
   "metadata": {},
   "outputs": [
    {
     "data": {
      "text/plain": [
       "-1"
      ]
     },
     "execution_count": 74,
     "metadata": {},
     "output_type": "execute_result"
    }
   ],
   "source": [
    "s.find('z')"
   ]
  },
  {
   "cell_type": "markdown",
   "metadata": {},
   "source": [
    "## Congrats on finishing notebook 2!\n",
    "Move on to notebook 3! The pre-course is mandatory so make sure you finish it all!"
   ]
  }
 ],
 "metadata": {
  "anaconda-cloud": {},
  "kernelspec": {
   "display_name": "Python 3",
   "language": "python",
   "name": "python3"
  },
  "language_info": {
   "codemirror_mode": {
    "name": "ipython",
    "version": 3
   },
   "file_extension": ".py",
   "mimetype": "text/x-python",
   "name": "python",
   "nbconvert_exporter": "python",
   "pygments_lexer": "ipython3",
   "version": "3.7.4"
  }
 },
 "nbformat": 4,
 "nbformat_minor": 1
}
