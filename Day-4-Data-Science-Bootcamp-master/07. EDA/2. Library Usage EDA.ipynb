{
 "cells": [
  {
   "cell_type": "markdown",
   "metadata": {},
   "source": [
    "# Library Usage EDA\n",
    "In this notebook you will perform EDA on a San Francisco Library dataset. Your goal is to complete EDA in a similar manner as was done on the diamonds dataset."
   ]
  },
  {
   "cell_type": "code",
   "execution_count": 1,
   "metadata": {},
   "outputs": [],
   "source": [
    "import pandas as pd"
   ]
  },
  {
   "cell_type": "code",
   "execution_count": 2,
   "metadata": {},
   "outputs": [
    {
     "data": {
      "text/html": [
       "<div>\n",
       "<style scoped>\n",
       "    .dataframe tbody tr th:only-of-type {\n",
       "        vertical-align: middle;\n",
       "    }\n",
       "\n",
       "    .dataframe tbody tr th {\n",
       "        vertical-align: top;\n",
       "    }\n",
       "\n",
       "    .dataframe thead th {\n",
       "        text-align: right;\n",
       "    }\n",
       "</style>\n",
       "<table border=\"1\" class=\"dataframe\">\n",
       "  <thead>\n",
       "    <tr style=\"text-align: right;\">\n",
       "      <th></th>\n",
       "      <th>Patron Type</th>\n",
       "      <th>Age Range</th>\n",
       "      <th>Home Library</th>\n",
       "      <th>Active Date</th>\n",
       "      <th>Checkouts</th>\n",
       "      <th>Renewals</th>\n",
       "      <th>Notice Preference</th>\n",
       "      <th>Year Patron Registered</th>\n",
       "      <th>Outside of County</th>\n",
       "    </tr>\n",
       "  </thead>\n",
       "  <tbody>\n",
       "    <tr>\n",
       "      <th>0</th>\n",
       "      <td>ADULT</td>\n",
       "      <td>25 to 34 years</td>\n",
       "      <td>Parkside</td>\n",
       "      <td>2013-07-01</td>\n",
       "      <td>19</td>\n",
       "      <td>7</td>\n",
       "      <td>email</td>\n",
       "      <td>2003</td>\n",
       "      <td>False</td>\n",
       "    </tr>\n",
       "    <tr>\n",
       "      <th>1</th>\n",
       "      <td>ADULT</td>\n",
       "      <td>35 to 44 years</td>\n",
       "      <td>Main Library</td>\n",
       "      <td>2013-12-01</td>\n",
       "      <td>55</td>\n",
       "      <td>0</td>\n",
       "      <td>email</td>\n",
       "      <td>2010</td>\n",
       "      <td>False</td>\n",
       "    </tr>\n",
       "    <tr>\n",
       "      <th>2</th>\n",
       "      <td>ADULT</td>\n",
       "      <td>35 to 44 years</td>\n",
       "      <td>Parkside</td>\n",
       "      <td>2014-08-01</td>\n",
       "      <td>2</td>\n",
       "      <td>1</td>\n",
       "      <td>email</td>\n",
       "      <td>2012</td>\n",
       "      <td>False</td>\n",
       "    </tr>\n",
       "    <tr>\n",
       "      <th>3</th>\n",
       "      <td>ADULT</td>\n",
       "      <td>45 to 54 years</td>\n",
       "      <td>Richmond</td>\n",
       "      <td>2015-10-01</td>\n",
       "      <td>11</td>\n",
       "      <td>8</td>\n",
       "      <td>email</td>\n",
       "      <td>2014</td>\n",
       "      <td>False</td>\n",
       "    </tr>\n",
       "    <tr>\n",
       "      <th>4</th>\n",
       "      <td>ADULT</td>\n",
       "      <td>55 to 59 years</td>\n",
       "      <td>Merced</td>\n",
       "      <td>2016-07-01</td>\n",
       "      <td>1096</td>\n",
       "      <td>18</td>\n",
       "      <td>phone</td>\n",
       "      <td>2003</td>\n",
       "      <td>False</td>\n",
       "    </tr>\n",
       "  </tbody>\n",
       "</table>\n",
       "</div>"
      ],
      "text/plain": [
       "  Patron Type       Age Range  Home Library Active Date  Checkouts  Renewals  \\\n",
       "0       ADULT  25 to 34 years      Parkside  2013-07-01         19         7   \n",
       "1       ADULT  35 to 44 years  Main Library  2013-12-01         55         0   \n",
       "2       ADULT  35 to 44 years      Parkside  2014-08-01          2         1   \n",
       "3       ADULT  45 to 54 years      Richmond  2015-10-01         11         8   \n",
       "4       ADULT  55 to 59 years        Merced  2016-07-01       1096        18   \n",
       "\n",
       "  Notice Preference  Year Patron Registered  Outside of County  \n",
       "0             email                    2003              False  \n",
       "1             email                    2010              False  \n",
       "2             email                    2012              False  \n",
       "3             email                    2014              False  \n",
       "4             phone                    2003              False  "
      ]
     },
     "execution_count": 2,
     "metadata": {},
     "output_type": "execute_result"
    }
   ],
   "source": [
    "library = pd.read_csv('../data/library.csv')\n",
    "library.head()"
   ]
  },
  {
   "cell_type": "code",
   "execution_count": 5,
   "metadata": {},
   "outputs": [
    {
     "data": {
      "text/html": [
       "<div>\n",
       "<style scoped>\n",
       "    .dataframe tbody tr th:only-of-type {\n",
       "        vertical-align: middle;\n",
       "    }\n",
       "\n",
       "    .dataframe tbody tr th {\n",
       "        vertical-align: top;\n",
       "    }\n",
       "\n",
       "    .dataframe thead th {\n",
       "        text-align: right;\n",
       "    }\n",
       "</style>\n",
       "<table border=\"1\" class=\"dataframe\">\n",
       "  <thead>\n",
       "    <tr style=\"text-align: right;\">\n",
       "      <th></th>\n",
       "      <th>description</th>\n",
       "    </tr>\n",
       "    <tr>\n",
       "      <th>column_name</th>\n",
       "      <th></th>\n",
       "    </tr>\n",
       "  </thead>\n",
       "  <tbody>\n",
       "    <tr>\n",
       "      <th>Patron Type</th>\n",
       "      <td>Description of patron (adult, teen, child, sen...</td>\n",
       "    </tr>\n",
       "    <tr>\n",
       "      <th>Age Range</th>\n",
       "      <td>Age ranges: 0 to 9 years, 10 to 19 years, 20 t...</td>\n",
       "    </tr>\n",
       "    <tr>\n",
       "      <th>Home Library</th>\n",
       "      <td>Description of the branch library where the pa...</td>\n",
       "    </tr>\n",
       "    <tr>\n",
       "      <th>Active Date</th>\n",
       "      <td>Date the patron last checked out library mater...</td>\n",
       "    </tr>\n",
       "    <tr>\n",
       "      <th>Checkouts</th>\n",
       "      <td>Total number of items the patron has checked o...</td>\n",
       "    </tr>\n",
       "    <tr>\n",
       "      <th>Renewals</th>\n",
       "      <td>Total number of times the patron has renewed c...</td>\n",
       "    </tr>\n",
       "    <tr>\n",
       "      <th>Notice Preference</th>\n",
       "      <td>Description of the patron’s preferred method o...</td>\n",
       "    </tr>\n",
       "    <tr>\n",
       "      <th>Year Patron Registered</th>\n",
       "      <td>Year patron registered with library system. No...</td>\n",
       "    </tr>\n",
       "    <tr>\n",
       "      <th>Outside of County</th>\n",
       "      <td>If a patron's home address is not in San Franc...</td>\n",
       "    </tr>\n",
       "  </tbody>\n",
       "</table>\n",
       "</div>"
      ],
      "text/plain": [
       "                                                              description\n",
       "column_name                                                              \n",
       "Patron Type             Description of patron (adult, teen, child, sen...\n",
       "Age Range               Age ranges: 0 to 9 years, 10 to 19 years, 20 t...\n",
       "Home Library            Description of the branch library where the pa...\n",
       "Active Date             Date the patron last checked out library mater...\n",
       "Checkouts               Total number of items the patron has checked o...\n",
       "Renewals                Total number of times the patron has renewed c...\n",
       "Notice Preference       Description of the patron’s preferred method o...\n",
       "Year Patron Registered  Year patron registered with library system. No...\n",
       "Outside of County       If a patron's home address is not in San Franc..."
      ]
     },
     "execution_count": 5,
     "metadata": {},
     "output_type": "execute_result"
    }
   ],
   "source": [
    "library_dictionary = pd.read_csv('../data/library_data_dictionary.csv', index_col='column_name')\n",
    "library_dictionary"
   ]
  },
  {
   "cell_type": "code",
   "execution_count": 6,
   "metadata": {},
   "outputs": [
    {
     "data": {
      "text/plain": [
       "Patron Type               object\n",
       "Age Range                 object\n",
       "Home Library              object\n",
       "Active Date               object\n",
       "Checkouts                  int64\n",
       "Renewals                   int64\n",
       "Notice Preference         object\n",
       "Year Patron Registered     int64\n",
       "Outside of County           bool\n",
       "dtype: object"
      ]
     },
     "execution_count": 6,
     "metadata": {},
     "output_type": "execute_result"
    }
   ],
   "source": [
    "library.dtypes"
   ]
  },
  {
   "cell_type": "code",
   "execution_count": 7,
   "metadata": {},
   "outputs": [],
   "source": [
    "library_dictionary2 = library_dictionary.copy()\n",
    "library_dictionary2['Data Type'] = library.dtypes"
   ]
  },
  {
   "cell_type": "code",
   "execution_count": 10,
   "metadata": {},
   "outputs": [
    {
     "data": {
      "text/html": [
       "<div>\n",
       "<style scoped>\n",
       "    .dataframe tbody tr th:only-of-type {\n",
       "        vertical-align: middle;\n",
       "    }\n",
       "\n",
       "    .dataframe tbody tr th {\n",
       "        vertical-align: top;\n",
       "    }\n",
       "\n",
       "    .dataframe thead th {\n",
       "        text-align: right;\n",
       "    }\n",
       "</style>\n",
       "<table border=\"1\" class=\"dataframe\">\n",
       "  <thead>\n",
       "    <tr style=\"text-align: right;\">\n",
       "      <th></th>\n",
       "      <th>description</th>\n",
       "      <th>Data Type</th>\n",
       "    </tr>\n",
       "    <tr>\n",
       "      <th>column_name</th>\n",
       "      <th></th>\n",
       "      <th></th>\n",
       "    </tr>\n",
       "  </thead>\n",
       "  <tbody>\n",
       "    <tr>\n",
       "      <th>Patron Type</th>\n",
       "      <td>Description of patron (adult, teen, child, senior, etc.)</td>\n",
       "      <td>object</td>\n",
       "    </tr>\n",
       "    <tr>\n",
       "      <th>Age Range</th>\n",
       "      <td>Age ranges: 0 to 9 years, 10 to 19 years, 20 to 24 years, 25 to 34 years, 35 to 44 years, 45 to 54 years, 55 to 59 years, 60 to 64 years 65 to 74 years, 75 years and over. Some blank.</td>\n",
       "      <td>object</td>\n",
       "    </tr>\n",
       "    <tr>\n",
       "      <th>Home Library</th>\n",
       "      <td>Description of the branch library where the patron was originally registered.</td>\n",
       "      <td>object</td>\n",
       "    </tr>\n",
       "    <tr>\n",
       "      <th>Active Date</th>\n",
       "      <td>Date the patron last checked out library materials, or last logged into the library's subscription databases from a computer outside the library.</td>\n",
       "      <td>object</td>\n",
       "    </tr>\n",
       "    <tr>\n",
       "      <th>Checkouts</th>\n",
       "      <td>Total number of items the patron has checked out from the library since the record was created.</td>\n",
       "      <td>int64</td>\n",
       "    </tr>\n",
       "    <tr>\n",
       "      <th>Renewals</th>\n",
       "      <td>Total number of times the patron has renewed checked-out items.</td>\n",
       "      <td>int64</td>\n",
       "    </tr>\n",
       "    <tr>\n",
       "      <th>Notice Preference</th>\n",
       "      <td>Description of the patron’s preferred method of receiving library notices.</td>\n",
       "      <td>object</td>\n",
       "    </tr>\n",
       "    <tr>\n",
       "      <th>Year Patron Registered</th>\n",
       "      <td>Year patron registered with library system. No dates prior to 2003 due to system migration.</td>\n",
       "      <td>int64</td>\n",
       "    </tr>\n",
       "    <tr>\n",
       "      <th>Outside of County</th>\n",
       "      <td>If a patron's home address is not in San Francisco, then flagged as true, otherwise false.</td>\n",
       "      <td>bool</td>\n",
       "    </tr>\n",
       "  </tbody>\n",
       "</table>\n",
       "</div>"
      ],
      "text/plain": [
       "                                                                                                                                                                                                    description  \\\n",
       "column_name                                                                                                                                                                                                       \n",
       "Patron Type                                                                                                                                            Description of patron (adult, teen, child, senior, etc.)   \n",
       "Age Range               Age ranges: 0 to 9 years, 10 to 19 years, 20 to 24 years, 25 to 34 years, 35 to 44 years, 45 to 54 years, 55 to 59 years, 60 to 64 years 65 to 74 years, 75 years and over. Some blank.   \n",
       "Home Library                                                                                                                      Description of the branch library where the patron was originally registered.   \n",
       "Active Date                                                  Date the patron last checked out library materials, or last logged into the library's subscription databases from a computer outside the library.    \n",
       "Checkouts                                                                                                       Total number of items the patron has checked out from the library since the record was created.   \n",
       "Renewals                                                                                                                                        Total number of times the patron has renewed checked-out items.   \n",
       "Notice Preference                                                                                                                    Description of the patron’s preferred method of receiving library notices.   \n",
       "Year Patron Registered                                                                                              Year patron registered with library system. No dates prior to 2003 due to system migration.   \n",
       "Outside of County                                                                                                    If a patron's home address is not in San Francisco, then flagged as true, otherwise false.   \n",
       "\n",
       "                       Data Type  \n",
       "column_name                       \n",
       "Patron Type               object  \n",
       "Age Range                 object  \n",
       "Home Library              object  \n",
       "Active Date               object  \n",
       "Checkouts                  int64  \n",
       "Renewals                   int64  \n",
       "Notice Preference         object  \n",
       "Year Patron Registered     int64  \n",
       "Outside of County           bool  "
      ]
     },
     "execution_count": 10,
     "metadata": {},
     "output_type": "execute_result"
    }
   ],
   "source": [
    "pd.options.display.max_colwidth = 300\n",
    "library_dictionary2"
   ]
  },
  {
   "cell_type": "code",
   "execution_count": 11,
   "metadata": {},
   "outputs": [],
   "source": [
    "c, o, n = 'continues', 'ordinal', 'nominal'\n"
   ]
  },
  {
   "cell_type": "code",
   "execution_count": null,
   "metadata": {},
   "outputs": [],
   "source": [
    "d = {'Patron Type':o, 'Age Range':o, 'Home Library':n, 'Active Date':}"
   ]
  }
 ],
 "metadata": {
  "kernelspec": {
   "display_name": "Python 3",
   "language": "python",
   "name": "python3"
  },
  "language_info": {
   "codemirror_mode": {
    "name": "ipython",
    "version": 3
   },
   "file_extension": ".py",
   "mimetype": "text/x-python",
   "name": "python",
   "nbconvert_exporter": "python",
   "pygments_lexer": "ipython3",
   "version": "3.6.5"
  },
  "varInspector": {
   "cols": {
    "lenName": 16,
    "lenType": 16,
    "lenVar": 40
   },
   "kernels_config": {
    "python": {
     "delete_cmd_postfix": "",
     "delete_cmd_prefix": "del ",
     "library": "var_list.py",
     "varRefreshCmd": "print(var_dic_list())"
    },
    "r": {
     "delete_cmd_postfix": ") ",
     "delete_cmd_prefix": "rm(",
     "library": "var_list.r",
     "varRefreshCmd": "cat(var_dic_list()) "
    }
   },
   "types_to_exclude": [
    "module",
    "function",
    "builtin_function_or_method",
    "instance",
    "_Feature"
   ],
   "window_display": false
  }
 },
 "nbformat": 4,
 "nbformat_minor": 2
}
